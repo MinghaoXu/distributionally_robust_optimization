{
  "nbformat": 4,
  "nbformat_minor": 0,
  "metadata": {
    "colab": {
      "name": "DR_constraint_control.ipynb",
      "provenance": [],
      "collapsed_sections": []
    },
    "kernelspec": {
      "name": "python3",
      "display_name": "Python 3"
    }
  },
  "cells": [
    {
      "cell_type": "code",
      "metadata": {
        "id": "eXlx6ZK1l4La"
      },
      "source": [
        "import numpy as np\n",
        "import scipy.linalg\n",
        "import cvxpy as cp\n",
        "from scipy.linalg import block_diag, solve_discrete_are"
      ],
      "execution_count": 1,
      "outputs": []
    },
    {
      "cell_type": "markdown",
      "metadata": {
        "id": "QWnAvu5Rl80q"
      },
      "source": [
        "Ref: Distributionally robust control of constrained stochastic systems"
      ]
    },
    {
      "cell_type": "code",
      "metadata": {
        "id": "x3V7HVfdl8MY"
      },
      "source": [
        "def dlqr(A,B,Q,R):\n",
        "    \"\"\"\n",
        "    Calculates the optimal gain matrix K for system\n",
        "    x[k+1] = A x[k] + B u[k]\n",
        "    with cost = sum x[k].T*Q*x[k] + u[k].T*R*u[k], such that\n",
        "    u[k] = -K x[k]\n",
        "    \n",
        "    Returns: \n",
        "        -K\n",
        "    \"\"\"\n",
        "    # first, solve the ricatti equation\n",
        "    P = np.matrix(scipy.linalg.solve_discrete_are(A, B, Q, R))\n",
        "    # compute the LQR gain\n",
        "    K = np.matrix(scipy.linalg.inv(B.T*P*B+R)*(B.T*P*A))\n",
        "    return -K"
      ],
      "execution_count": 2,
      "outputs": []
    },
    {
      "cell_type": "code",
      "metadata": {
        "id": "ZUtMuHlEnC1P"
      },
      "source": [
        "def disc_linear_system(A,B,delta_t):\n",
        "    '''\n",
        "    Discrete a linear system with implicit Euler\n",
        "    x[k+1] = (I - delta_t * A)^{-1} @ x[k] + (I - delta_t * A)^{-1} @ (delta_t * B) @ u[k]\n",
        "    \n",
        "    Returns:\n",
        "        Ak\n",
        "        Bk\n",
        "    \n",
        "    ''' \n",
        "    Nx = np.shape(A)[0]\n",
        "    Ix = np.identity(Nx)\n",
        "    \n",
        "    Ak = np.linalg.inv(Ix - delta_t * A)\n",
        "    Bk = np.linalg.inv(Ix - delta_t * A) @ (delta_t * B)\n",
        "    \n",
        "    \n",
        "    return Ak, Bk"
      ],
      "execution_count": 3,
      "outputs": []
    },
    {
      "cell_type": "code",
      "metadata": {
        "id": "-F9vMH8HnEFn"
      },
      "source": [
        "def RK4_np(f, x, u, t, h):\n",
        "    \"\"\"\n",
        "    Runge-Kutta 4th order solver using numpy array data type.\n",
        "\n",
        "    Args:\n",
        "        f: A function returning first order ODE in 2D numpy array (Nx x 1).\n",
        "        x: Current value (list or numpy array). \n",
        "        t: Current time.\n",
        "        h: Step length.\n",
        "    Returns:\n",
        "        x_next: Vector of next value in 2D numpy array (Nx x 1)\n",
        "    \"\"\"\n",
        "    x = np.reshape(x, (np.shape(x)[0], -1))    # Reshape x to col vector in np 2D array\n",
        "    k1 = f(t, x, u)\n",
        "    k2 = f(t + h / 2, x + h / 2 * k1, u)\n",
        "    k3 = f(t + h / 2, x + h / 2 * k2, u)\n",
        "    k4 = f(t + h, x + h * k3, u)\n",
        "    x_next = x + h / 6 * (k1 + 2 * k2 + 2 * k3 + k4)\n",
        "    return x_next"
      ],
      "execution_count": 4,
      "outputs": []
    },
    {
      "cell_type": "code",
      "metadata": {
        "id": "CpLKgOtQnE6u"
      },
      "source": [
        "def mass_string_ode(t, x, u):\n",
        "    m = 2 #[kg]\n",
        "    k1 = 3 # [N/m]\n",
        "    k2 = 2 # [N/m]\n",
        "    \n",
        "    A = np.array([[0,1],[-k2/m, -k1/m]])\n",
        "    B = np.array([[0],[1/m]])\n",
        "    \n",
        "    dot_x = A @ x + B @ u\n",
        "    \n",
        "    return dot_x"
      ],
      "execution_count": 5,
      "outputs": []
    },
    {
      "cell_type": "markdown",
      "metadata": {
        "id": "kUIVeSEDnIyl"
      },
      "source": [
        "Continuous-time system\n",
        "\n",
        "$\\begin{aligned}\\left[\\begin{array}{c}\\dot{x}_{1}(t) \\\\ \\dot{x}_{2}(t)\\end{array}\\right] &=\\left[\\begin{array}{cc}0 & 1 \\\\ -k_{2} / m & -k_{1} / m\\end{array}\\right]\\left[\\begin{array}{l}x_{1}(t) \\\\ x_{2}(t)\\end{array}\\right]+\\left[\\begin{array}{c}0 \\\\ 1 / m\\end{array}\\right] u(t) \\\\ y(t) &=\\left[\\begin{array}{ll}1 & 0\\end{array}\\right]\\left[\\begin{array}{l}x_{1}(t) \\\\ x_{2}(t)\\end{array}\\right] \\end{aligned}$"
      ]
    },
    {
      "cell_type": "code",
      "metadata": {
        "id": "cbZ9PiyGnF8H"
      },
      "source": [
        "m = 2 #[kg]\n",
        "k1 = 3 # [N/m]\n",
        "k2 = 2 # [N/m]\n",
        "\n",
        "para = [m, k1, k2]"
      ],
      "execution_count": 6,
      "outputs": []
    },
    {
      "cell_type": "code",
      "metadata": {
        "id": "ySoBs5mLnKTn"
      },
      "source": [
        "A = np.array([[0,1],[-k2/m, -k1/m]])\n",
        "B = np.array([[0],[1/m]])\n",
        "delta_t = 0.1"
      ],
      "execution_count": 7,
      "outputs": []
    },
    {
      "cell_type": "code",
      "metadata": {
        "id": "_xbg9S13nLF4"
      },
      "source": [
        "Ak,Bk = disc_linear_system(A,B,delta_t)\n",
        "Ck = np.array([[0, 0],[1, 0]])"
      ],
      "execution_count": 8,
      "outputs": []
    },
    {
      "cell_type": "code",
      "metadata": {
        "id": "xmnHWTtdPOdj"
      },
      "source": [
        "Dk = np.array([[1,0]])\n",
        "Ek = np.array([[0, 1]])"
      ],
      "execution_count": 9,
      "outputs": []
    },
    {
      "cell_type": "code",
      "metadata": {
        "id": "B3tX-d75nMMN"
      },
      "source": [
        "Q = np.diag([10,1])\n",
        "R = np.diag([1])"
      ],
      "execution_count": 10,
      "outputs": []
    },
    {
      "cell_type": "code",
      "metadata": {
        "id": "aKUz67wknNF2"
      },
      "source": [
        "neg_K = dlqr(Ak,Bk,Q,R)"
      ],
      "execution_count": 11,
      "outputs": []
    },
    {
      "cell_type": "code",
      "metadata": {
        "colab": {
          "base_uri": "https://localhost:8080/"
        },
        "id": "ajIt966VnOIp",
        "outputId": "3a79a376-9c43-4bcd-cb43-bd7eff2df5fd"
      },
      "source": [
        "neg_K"
      ],
      "execution_count": 12,
      "outputs": [
        {
          "output_type": "execute_result",
          "data": {
            "text/plain": [
              "matrix([[-1.64465128, -1.02359576]])"
            ]
          },
          "metadata": {
            "tags": []
          },
          "execution_count": 12
        }
      ]
    },
    {
      "cell_type": "code",
      "metadata": {
        "id": "Vcg8FIBznPFH"
      },
      "source": [
        "N_sim = 100\n",
        "\n",
        "x_init = np.array([[2],[0]])\n",
        "t0 = 0\n",
        "\n",
        "xk = x_init\n",
        "uk = 0\n",
        "t = t0\n",
        "h = delta_t\n",
        "\n",
        "x_list = []\n",
        "x_list += [xk.flatten().tolist()]\n",
        "u_list = []\n",
        "for i in range(N_sim):\n",
        "    uk = neg_K @ xk\n",
        "    u_list +=  uk.flatten().tolist() \n",
        "    x_kp1 = RK4_np(mass_string_ode, xk, uk, t, h)\n",
        "    x_list += x_kp1.flatten().tolist()\n",
        "    xk = x_kp1"
      ],
      "execution_count": 13,
      "outputs": []
    },
    {
      "cell_type": "code",
      "metadata": {
        "colab": {
          "base_uri": "https://localhost:8080/"
        },
        "id": "tpWuEC-RnQB6",
        "outputId": "406da941-694d-4562-889b-cd88950bbcac"
      },
      "source": [
        "u_list"
      ],
      "execution_count": 14,
      "outputs": [
        {
          "output_type": "execute_result",
          "data": {
            "text/plain": [
              "[[-3.289302564456352],\n",
              " [-2.914942510901101],\n",
              " [-2.559811018238362],\n",
              " [-2.2263935494494858],\n",
              " [-1.9163535315592184],\n",
              " [-1.6306546787177174],\n",
              " [-1.369672758698418],\n",
              " [-1.1332968450937406],\n",
              " [-0.9210202675311228],\n",
              " [-0.7320216075616044],\n",
              " [-0.5652361925567164],\n",
              " [-0.41941861782554024],\n",
              " [-0.2931968818221259],\n",
              " [-0.1851187540790109],\n",
              " [-0.0936910134284134],\n",
              " [-0.017412197937609127],\n",
              " [0.045200499702823194],\n",
              " [0.09558957459547417],\n",
              " [0.1351401974285432],\n",
              " [0.16516728509624534],\n",
              " [0.18690612552290364],\n",
              " [0.20150606471958082],\n",
              " [0.21002680236539473],\n",
              " [0.21343688113744064],\n",
              " [0.2126139938328937],\n",
              " [0.2083467703985401],\n",
              " [0.20133774379984534],\n",
              " [0.19220722883086472],\n",
              " [0.18149788119473245],\n",
              " [0.16967973526549882],\n",
              " [0.1571555477432043],\n",
              " [0.14426630086558034],\n",
              " [0.1312967429244227],\n",
              " [0.11848086557844487],\n",
              " [0.10600723691806505],\n",
              " [0.09402412650932193],\n",
              " [0.08264437383307388],\n",
              " [0.07194996476618828],\n",
              " [0.06199629215829093],\n",
              " [0.052816086281720964],\n",
              " [0.04442300911719047],\n",
              " [0.03681491322659598],\n",
              " [0.029976771498159485],\n",
              " [0.023883288463753954],\n",
              " [0.018501207314056044],\n",
              " [0.013791329297128972],\n",
              " [0.009710263995350932],\n",
              " [0.006211930141058538],\n",
              " [0.003248827251005436],\n",
              " [0.0007730985231410029],\n",
              " [-0.0012625947729515239],\n",
              " [-0.00290436769603143],\n",
              " [-0.004196555862110041],\n",
              " [-0.005181291477785171],\n",
              " [-0.0058981942237444525],\n",
              " [-0.006384161195224063],\n",
              " [-0.00667324132179457],\n",
              " [-0.006796580928437634],\n",
              " [-0.006782428338123024],\n",
              " [-0.0066561866323045175],\n",
              " [-0.00644050486339507],\n",
              " [-0.006155399139502516],\n",
              " [-0.005818396066875881],\n",
              " [-0.005444692032792445],\n",
              " [-0.0050473227365698155],\n",
              " [-0.0046373382266130395],\n",
              " [-0.004223979476205156],\n",
              " [-0.003814853230824712],\n",
              " [-0.0034161024869643754],\n",
              " [-0.0030325705194655097],\n",
              " [-0.002667956864694555],\n",
              " [-0.0023249640943908936],\n",
              " [-0.0020054345839791133],\n",
              " [-0.001710476794036744],\n",
              " [-0.0014405808490123044],\n",
              " [-0.0011957234177686412],\n",
              " [-0.0009754620805771797],\n",
              " [-0.0007790195111647956],\n",
              " [-0.00060535791448452],\n",
              " [-0.0004532442449889174],\n",
              " [-0.0003213067900260761],\n",
              " [-0.00020808374198225897],\n",
              " [-0.00011206440411640586],\n",
              " [-3.172368154571664e-05],\n",
              " [3.444949685168483e-05],\n",
              " [8.79291954210637e-05],\n",
              " [0.0001301343207823957],\n",
              " [0.0001624147254867284],\n",
              " [0.00018604102256441986],\n",
              " [0.0002021976040174655],\n",
              " [0.0002119783949163303],\n",
              " [0.00021638491422267575],\n",
              " [0.00021632625294980954],\n",
              " [0.00021262061911948895],\n",
              " [0.00020599813663783664],\n",
              " [0.0001971046212741996],\n",
              " [0.0001865060910684555],\n",
              " [0.0001746938004885578],\n",
              " [0.00016208961736265416],\n",
              " [0.0001490515889364981]]"
            ]
          },
          "metadata": {
            "tags": []
          },
          "execution_count": 14
        }
      ]
    },
    {
      "cell_type": "code",
      "metadata": {
        "colab": {
          "base_uri": "https://localhost:8080/"
        },
        "id": "2nRZwxaRnSV9",
        "outputId": "fdc35f1f-b2ac-43a2-8972-fcefeabcbca5"
      },
      "source": [
        "x_list"
      ],
      "execution_count": 15,
      "outputs": [
        {
          "output_type": "execute_result",
          "data": {
            "text/plain": [
              "[[2, 0],\n",
              " [1.9826689238506545, -0.337883851188942],\n",
              " [1.9349862198417493, -0.6082152491804027],\n",
              " [1.8633130681783237, -0.8187867821451399],\n",
              " [1.7732520651954105, -0.9769752784440978],\n",
              " [1.669691328807902, -1.089693169266517],\n",
              " [1.5568526124067068, -1.163356605030776],\n",
              " [1.4383418800523347, -1.2038677983761676],\n",
              " [1.3172010373594736, -1.2166092885486843],\n",
              " [1.1959597318770925, -1.2064480423099309],\n",
              " [1.0766863343887605, -1.1777475217519346],\n",
              " [0.9610373890339324, -1.134386056870654],\n",
              " [0.8503049763687974, -1.0797800583539778],\n",
              " [0.7454615705111942, -1.0169107922407186],\n",
              " [0.6472020905436895, -0.9483536118440088],\n",
              " [0.5559829486632923, -0.8763087029491551],\n",
              " [0.4720579844946872, -0.8026325454778964],\n",
              " [0.3955112478724361, -0.7288694285283872],\n",
              " [0.3262866525834703, -0.6562824761564078],\n",
              " [0.2642145723515755, -0.5858837488486628],\n",
              " [0.20903548900109586, -0.5184630808900762],\n",
              " [0.16042083245903396, -0.454615397390631],\n",
              " [0.11799117417557238, -0.3947663273396302],\n",
              " [0.08133195071989681, -0.33919599147483526],\n",
              " [0.050006903718737186, -0.288060896798999],\n",
              " [0.023569426845489096, -0.2414139140656736],\n",
              " [0.0015720110526882165, -0.19922235130346574],\n",
              " [-0.016426023595972065, -0.16138416624874163],\n",
              " [-0.030852326640103907, -0.12774238417862036],\n",
              " [-0.042116671216543375, -0.09809780581040077],\n",
              " [-0.05060729722755372, -0.07222010335005838],\n",
              " [-0.05668828787175427, -0.0498574120750464],\n",
              " [-0.06069783477040091, -0.030744530620972328],\n",
              " [-0.06294725839229542, -0.014609845953905881],\n",
              " [-0.06372066210571736, -0.0011810993465194899],\n",
              " [-0.06327510974052271, 0.009809892015611318],\n",
              " [-0.06184122784544521, 0.018623446491583727],\n",
              " [-0.059624144729851815, 0.02550905579532161],\n",
              " [-0.056804688774153345, 0.030703148005067425],\n",
              " [-0.05354077829620095, 0.03442748087012439],\n",
              " [-0.04996894441486767, 0.03688807722446246],\n",
              " [-0.046205936820674774, 0.03827462129127817],\n",
              " [-0.042350370128989456, 0.0387602417338313],\n",
              " [-0.038484375551352194, 0.038501614338598826],\n",
              " [-0.034675228984660286, 0.0376393240955273],\n",
              " [-0.030976932305988313, 0.03629843307843515],\n",
              " [-0.027431729700333477, 0.0345892068581852],\n",
              " [-0.024071545273021386, 0.03260795815159181],\n",
              " [-0.020919332045653938, 0.030437971984942653],\n",
              " [-0.017990325744934407, 0.028150481810411708],\n",
              " [-0.015293199609717093, 0.025805670745511718],\n",
              " [-0.012831118806078009, 0.023453676408319267],\n",
              " [-0.010602694995755762, 0.021135581700321794],\n",
              " [-0.008602843191738627, 0.01888437735629749],\n",
              " [-0.006823544296408748, 0.01672588515333807],\n",
              " [-0.005254517690974615, 0.014679633369274475],\n",
              " [-0.0038838089662386003, 0.012759678427295132],\n",
              " [-0.002698298387982862, 0.010975368683133545],\n",
              " [-0.0016841360068184416, 0.009332048029535439],\n",
              " [-0.0008271094810413893, 0.007831698435876966],\n",
              " [-0.00011295070808501945, 0.006473521734755104],\n",
              " [0.00047241272081322114, 0.0052544619375322],\n",
              " [0.0009426553959601302, 0.0041696701317427975],\n",
              " [0.0013108956837879523, 0.0032129146083911754],\n",
              " [0.0015895757175520787, 0.002376939308595863],\n",
              " [0.0017903747860512694, 0.0016537739874378354],\n",
              " [0.001924151472322538, 0.001034999687374161],\n",
              " [0.0020009102588341827, 0.0005119732117449562],\n",
              " [0.002029788685974337, 7.601430670071502e-05],\n",
              " [0.0020190615193044774, -0.0002814407882828065],\n",
              " [0.0019761587421770897, -0.0005687158623678617],\n",
              " [0.001907694539178496, -0.0007937979117426309],\n",
              " [0.0018195047687982631, -0.0009642637328707105],\n",
              " [0.0017166907380301482, -0.0010872268864036575],\n",
              " [0.0016036673853727602, -0.0011693022002732295],\n",
              " [0.0014842142507132663, -0.0012165852021396206],\n",
              " [0.0013615278602255726, -0.001234644096591229],\n",
              " [0.0012382743815679458, -0.0012285221268107697],\n",
              " [0.0011166416096001753, -0.001202748380213719],\n",
              " [0.0009983895261584186, -0.0011613553099405678],\n",
              " [0.0008848988399835791, -0.001107901446810501],\n",
              " [0.0007772170557474083, -0.0010454979677591571],\n",
              " [0.0006761017454513929, -0.0009768379657207188],\n",
              " [0.0005820608025737088, -0.0009042274316328277],\n",
              " [0.0004953895505517803, -0.0008296171113590926],\n",
              " [0.00041620465387782503, -0.0007546345387556683],\n",
              " [0.0003444748436133979, -0.0006806156710194347],\n",
              " [0.00028004852083096817, -0.0006086356642081977],\n",
              " [0.00022267834265627735, -0.0005395384259367386],\n",
              " [0.00017204292744695085, -0.00047396466936387136],\n",
              " [0.00012776583936465299, -0.0004123782684186593],\n",
              " [8.943202926865177e-05, -0.00035509077955053043],\n",
              " [5.66019194866455e-05, -0.00030228405094454366],\n",
              " [2.8823325530305333e-05, -0.00025403088695007657],\n",
              " [5.641409061417835e-06, -0.0002103137742569404],\n",
              " [-1.3393145859098646e-05, -0.00017104170792962682],\n",
              " [-2.8717546311462963e-05, -0.00013606518056354555],\n",
              " [-4.075171424959747e-05, -0.0001051894173070577],\n",
              " [-4.9894349854845005e-05, -7.81859540087835e-05],\n",
              " [-5.652007419769198e-05, -5.480266596419215e-05],\n",
              " [-6.097750198556087e-05, -3.477236126334473e-05]]"
            ]
          },
          "metadata": {
            "tags": []
          },
          "execution_count": 15
        }
      ]
    },
    {
      "cell_type": "markdown",
      "metadata": {
        "id": "mDLazq-josF-"
      },
      "source": [
        "FINITE HORIZON DISTRIBUTIONALLY ROBUST CONTROL PROBLEMS"
      ]
    },
    {
      "cell_type": "markdown",
      "metadata": {
        "id": "ReRYXgeNnlfS"
      },
      "source": [
        "inf $\\quad \\tilde{J}_{N}(x, U)$\n",
        "\n",
        "s.t.\n",
        "$U \\in \\mathcal{N}, \\beta_{t} \\in \\mathbb{R}, X_{t} \\in \\mathbb{S}_{+}^{N d+2}, P_{t}^{i} \\in \\mathbb{S}_{+}^{N d+1}$\n",
        "\n",
        "$\\beta_{t}+\\frac{1}{\\epsilon} \\operatorname{Tr}\\left\\{M_{w} X_{t}\\right\\} \\leq 0,$\n",
        "\n",
        "$\\quad X_{t}-\\left(\\begin{array}{cc}\\alpha_{i} P_{t}^{i} & \\alpha_{i}\\left(\\mathcal{B}_{t} U+\\mathcal{C}_{t}\\right)^{\\top} e_{i} \\\\ e_{i}^{\\top}\\left(\\mathcal{B}_{t} U+\\mathcal{C}_{t}\\right) \\alpha_{i} & \\alpha_{i} e_{i}^{0}-\\beta_{t}\\end{array}\\right) \\succeq 0,$\n",
        "\n",
        "$\\left(\\begin{array}{cc}P_{t}^{i} & \\left(\\mathcal{B}_{t} U+\\mathcal{C}_{t}\\right)^{\\top} E_{i}^{1 / 2} \\\\ E_{i}^{1 / 2}\\left(\\mathcal{B}_{t} U+\\mathcal{C}_{t}\\right) & \\mathbb{I}_{n}\\end{array}\\right) \\succeq 0,$"
      ]
    },
    {
      "cell_type": "markdown",
      "metadata": {
        "id": "CA1bYulipQqX"
      },
      "source": [
        "Cost function:\n",
        "$\\tilde{J}_{N}(x, U):=\\operatorname{Tr}\\left\\{U^{\\top}\\left(J_{u}+\\mathcal{B} J_{x} \\mathcal{B}\\right) U M_{w}+2 \\mathcal{C} J_{x} \\mathcal{B} U M_{w}+\\mathcal{C}^{\\top} J_{x} \\mathcal{C} M_{w}\\right\\}$"
      ]
    },
    {
      "cell_type": "code",
      "metadata": {
        "id": "9kBMog_PnkZ7"
      },
      "source": [
        "n = 2\n",
        "m = 1\n",
        "d = 2\n",
        "r = 1\n",
        "N = 4\n",
        "\n",
        "Nx = (N + 1) * n\n",
        "Nu = N * m\n",
        "Nw = N*d + 1\n",
        "Ny = r * N"
      ],
      "execution_count": 16,
      "outputs": []
    },
    {
      "cell_type": "code",
      "metadata": {
        "id": "Mm_U95yuj8IZ"
      },
      "source": [
        "mu = np.array([[0],[0]])"
      ],
      "execution_count": 17,
      "outputs": []
    },
    {
      "cell_type": "markdown",
      "metadata": {
        "id": "d4lQJXp7rH2E"
      },
      "source": [
        "$\\mathcal{B} \\in \\mathbb{R}^{N_{x} \\times N_{u}}, \\mathcal{C} \\in \\mathbb{R}^{N_{x} \\times N_{w}}, \\mathcal{D} \\in \\mathbb{R}^{N_{y} \\times N_{u}}$ and $\\mathcal{E} \\in \\mathbb{R}^{N_{y} \\times N_{u}}$"
      ]
    },
    {
      "cell_type": "code",
      "metadata": {
        "id": "HzqxuhvHnT4v"
      },
      "source": [
        "U = cp.Variable((Nu,Nw))\n",
        "beta_disc = 0.5 # discount variable\n",
        "beta_list = [beta_disc ** i for i in range(N + 1)] # discount variable\n",
        "\n",
        "Q = np.diag([10, 1] )\n",
        "Qf = np.diag([10, 1])\n",
        "kron1 = np.kron(np.diag(beta_list[0:-1]), Q)\n",
        "Jx = block_diag(kron1, beta_list[-1] * Qf)\n",
        "\n",
        "R = np.diag([1])\n",
        "Ju = np.kron(np.diag(beta_list[0:-1]), R)"
      ],
      "execution_count": 18,
      "outputs": []
    },
    {
      "cell_type": "code",
      "metadata": {
        "id": "RsUd7yKG_ZKm"
      },
      "source": [
        "B_ext = np.zeros([Nx,Nu])\n",
        "\n",
        "for i in range(N):\n",
        "    ANB = Bk\n",
        "    for j in range(i):\n",
        "        if i != 0:\n",
        "            ANB = Ak @ ANB\n",
        "    for k in range(N-i):\n",
        "        B_ext[(1 + i + k) * n : (1 + i + 1 + k) * n , (0 + k) * m : (1+k) * m] = ANB"
      ],
      "execution_count": 19,
      "outputs": []
    },
    {
      "cell_type": "code",
      "metadata": {
        "colab": {
          "base_uri": "https://localhost:8080/"
        },
        "id": "JlauD83hP7ix",
        "outputId": "5a1f3ca9-26a0-4d97-f515-f42c1b3a4cd8"
      },
      "source": [
        "B_ext"
      ],
      "execution_count": 20,
      "outputs": [
        {
          "output_type": "execute_result",
          "data": {
            "text/plain": [
              "array([[0.        , 0.        , 0.        , 0.        ],\n",
              "       [0.        , 0.        , 0.        , 0.        ],\n",
              "       [0.00431034, 0.        , 0.        , 0.        ],\n",
              "       [0.04310345, 0.        , 0.        , 0.        ],\n",
              "       [0.007989  , 0.00431034, 0.        , 0.        ],\n",
              "       [0.03678656, 0.04310345, 0.        , 0.        ],\n",
              "       [0.01109139, 0.007989  , 0.00431034, 0.        ],\n",
              "       [0.03102385, 0.03678656, 0.04310345, 0.        ],\n",
              "       [0.01367024, 0.01109139, 0.007989  , 0.00431034],\n",
              "       [0.02578854, 0.03102385, 0.03678656, 0.04310345]])"
            ]
          },
          "metadata": {
            "tags": []
          },
          "execution_count": 20
        }
      ]
    },
    {
      "cell_type": "code",
      "metadata": {
        "id": "6Jo7Nm_HOGY4"
      },
      "source": [
        "C_ext = np.zeros([Nx,Nw - 1])\n",
        "\n",
        "for i in range(N):\n",
        "    ANC = Ck\n",
        "    for j in range(i):\n",
        "        if i != 0:\n",
        "            ANC = Ak @ ANC\n",
        "    for k in range(N-i):\n",
        "        C_ext[(1 + i + k) * n : (1 + i + 1 + k) * n , (0 + k) * d : (1+k) * d] = ANC\n",
        "\n",
        "C_ANx0_col = np.zeros([Nx, 1])\n",
        "ANx0 = x_init\n",
        "for i in range(N + 1):\n",
        "    if i != 0:\n",
        "        ANx0 = Ak @ ANx0\n",
        "    C_ANx0_col[i * n : (i+1) * n, :] = ANx0\n",
        "C_ext = np.hstack((C_ANx0_col,C_ext))"
      ],
      "execution_count": 21,
      "outputs": []
    },
    {
      "cell_type": "code",
      "metadata": {
        "colab": {
          "base_uri": "https://localhost:8080/"
        },
        "id": "7zmtm7AaUEqF",
        "outputId": "2d29d5a4-2867-4b04-fb69-08f06f3f2d23"
      },
      "source": [
        "C_ext"
      ],
      "execution_count": 22,
      "outputs": [
        {
          "output_type": "execute_result",
          "data": {
            "text/plain": [
              "array([[ 2.        ,  0.        ,  0.        ,  0.        ,  0.        ,\n",
              "         0.        ,  0.        ,  0.        ,  0.        ],\n",
              "       [ 0.        ,  0.        ,  0.        ,  0.        ,  0.        ,\n",
              "         0.        ,  0.        ,  0.        ,  0.        ],\n",
              "       [ 1.98275862,  0.        ,  0.        ,  0.        ,  0.        ,\n",
              "         0.        ,  0.        ,  0.        ,  0.        ],\n",
              "       [-0.17241379,  1.        ,  0.        ,  0.        ,  0.        ,\n",
              "         0.        ,  0.        ,  0.        ,  0.        ],\n",
              "       [ 1.95080262,  0.0862069 ,  0.        ,  0.        ,  0.        ,\n",
              "         0.        ,  0.        ,  0.        ,  0.        ],\n",
              "       [-0.31956005,  0.86206897,  0.        ,  1.        ,  0.        ,\n",
              "         0.        ,  0.        ,  0.        ,  0.        ],\n",
              "       [ 1.90643707,  0.15978002,  0.        ,  0.0862069 ,  0.        ,\n",
              "         0.        ,  0.        ,  0.        ,  0.        ],\n",
              "       [-0.44365544,  0.73573127,  0.        ,  0.86206897,  0.        ,\n",
              "         1.        ,  0.        ,  0.        ,  0.        ],\n",
              "       [ 1.85175611,  0.22182772,  0.        ,  0.15978002,  0.        ,\n",
              "         0.0862069 ,  0.        ,  0.        ,  0.        ],\n",
              "       [-0.54680961,  0.62047696,  0.        ,  0.73573127,  0.        ,\n",
              "         0.86206897,  0.        ,  1.        ,  0.        ]])"
            ]
          },
          "metadata": {
            "tags": []
          },
          "execution_count": 22
        }
      ]
    },
    {
      "cell_type": "code",
      "metadata": {
        "colab": {
          "base_uri": "https://localhost:8080/"
        },
        "id": "5kmugV1dTttm",
        "outputId": "c96de2ae-d5f1-4377-e3d5-db0c2daa76a8"
      },
      "source": [
        "C_ANx0_col"
      ],
      "execution_count": 23,
      "outputs": [
        {
          "output_type": "execute_result",
          "data": {
            "text/plain": [
              "array([[ 2.        ],\n",
              "       [ 0.        ],\n",
              "       [ 1.98275862],\n",
              "       [-0.17241379],\n",
              "       [ 1.95080262],\n",
              "       [-0.31956005],\n",
              "       [ 1.90643707],\n",
              "       [-0.44365544],\n",
              "       [ 1.85175611],\n",
              "       [-0.54680961]])"
            ]
          },
          "metadata": {
            "tags": []
          },
          "execution_count": 23
        }
      ]
    },
    {
      "cell_type": "code",
      "metadata": {
        "colab": {
          "base_uri": "https://localhost:8080/"
        },
        "id": "hvT20yKKbICS",
        "outputId": "b3fb852f-05cb-4ebe-9e81-bc7e7ba8d42f"
      },
      "source": [
        "Dk"
      ],
      "execution_count": 24,
      "outputs": [
        {
          "output_type": "execute_result",
          "data": {
            "text/plain": [
              "array([[1, 0]])"
            ]
          },
          "metadata": {
            "tags": []
          },
          "execution_count": 24
        }
      ]
    },
    {
      "cell_type": "code",
      "metadata": {
        "colab": {
          "base_uri": "https://localhost:8080/"
        },
        "id": "VJ4VbZCjbYQR",
        "outputId": "7a14f669-9fe7-4bcf-b9e4-e39416faf012"
      },
      "source": [
        "blocks = np.multiply.outer(np.arange(1,N), Dk)\n",
        "blocks\n",
        "# aux"
      ],
      "execution_count": 25,
      "outputs": [
        {
          "output_type": "execute_result",
          "data": {
            "text/plain": [
              "array([[[1, 0]],\n",
              "\n",
              "       [[2, 0]],\n",
              "\n",
              "       [[3, 0]]])"
            ]
          },
          "metadata": {
            "tags": []
          },
          "execution_count": 25
        }
      ]
    },
    {
      "cell_type": "code",
      "metadata": {
        "colab": {
          "base_uri": "https://localhost:8080/"
        },
        "id": "ToV0wqLlTRbD",
        "outputId": "305a2d8d-1ed5-400c-87ff-9d2b125cb7bd"
      },
      "source": [
        "Nx"
      ],
      "execution_count": 26,
      "outputs": [
        {
          "output_type": "execute_result",
          "data": {
            "text/plain": [
              "10"
            ]
          },
          "metadata": {
            "tags": []
          },
          "execution_count": 26
        }
      ]
    },
    {
      "cell_type": "code",
      "metadata": {
        "colab": {
          "base_uri": "https://localhost:8080/"
        },
        "id": "SstZc5eJUcmF",
        "outputId": "417f1b6e-7bbf-47fa-d95d-dec5b672588d"
      },
      "source": [
        "D_ext = np.zeros([Ny, Nu])\n",
        "\n",
        "blocks = [Dk] * (N)\n",
        "offset = r\n",
        "aux = np.empty((0, offset), int)\n",
        "D_ext = block_diag(aux.T, *blocks, aux)\n",
        "D_ext"
      ],
      "execution_count": 27,
      "outputs": [
        {
          "output_type": "execute_result",
          "data": {
            "text/plain": [
              "array([[0, 0, 0, 0, 0, 0, 0, 0, 0],\n",
              "       [1, 0, 0, 0, 0, 0, 0, 0, 0],\n",
              "       [0, 0, 1, 0, 0, 0, 0, 0, 0],\n",
              "       [0, 0, 0, 0, 1, 0, 0, 0, 0],\n",
              "       [0, 0, 0, 0, 0, 0, 1, 0, 0]])"
            ]
          },
          "metadata": {
            "tags": []
          },
          "execution_count": 27
        }
      ]
    },
    {
      "cell_type": "code",
      "metadata": {
        "id": "oQ_R40pwdg5B"
      },
      "source": [
        "E_ext = np.zeros([Ny, Nw])\n",
        "\n",
        "blocks = [1] + [Ek] * (N)\n",
        "E_ext = block_diag(*blocks)"
      ],
      "execution_count": 28,
      "outputs": []
    },
    {
      "cell_type": "code",
      "metadata": {
        "colab": {
          "base_uri": "https://localhost:8080/"
        },
        "id": "LiOk0aYdjMhi",
        "outputId": "d6e66b22-bb85-415d-cfb7-6e77d7589039"
      },
      "source": [
        "Ek"
      ],
      "execution_count": 29,
      "outputs": [
        {
          "output_type": "execute_result",
          "data": {
            "text/plain": [
              "array([[0, 1]])"
            ]
          },
          "metadata": {
            "tags": []
          },
          "execution_count": 29
        }
      ]
    },
    {
      "cell_type": "code",
      "metadata": {
        "colab": {
          "base_uri": "https://localhost:8080/"
        },
        "id": "YX1IWZJzjIC-",
        "outputId": "c81b21e1-68ed-407d-a345-2d62b232d3c8"
      },
      "source": [
        "E_ext"
      ],
      "execution_count": 30,
      "outputs": [
        {
          "output_type": "execute_result",
          "data": {
            "text/plain": [
              "array([[1, 0, 0, 0, 0, 0, 0, 0, 0],\n",
              "       [0, 0, 1, 0, 0, 0, 0, 0, 0],\n",
              "       [0, 0, 0, 0, 1, 0, 0, 0, 0],\n",
              "       [0, 0, 0, 0, 0, 0, 1, 0, 0],\n",
              "       [0, 0, 0, 0, 0, 0, 0, 0, 1]])"
            ]
          },
          "metadata": {
            "tags": []
          },
          "execution_count": 30
        }
      ]
    },
    {
      "cell_type": "code",
      "metadata": {
        "id": "7iOVKawqjmo7"
      },
      "source": [
        "mu_list = mu.flatten().tolist()\n",
        "\n",
        "Mw_row = np.array([[1] + mu_list * N])\n",
        "\n",
        "Mw = Mw_row.T @ Mw_row"
      ],
      "execution_count": 31,
      "outputs": []
    },
    {
      "cell_type": "code",
      "metadata": {
        "colab": {
          "base_uri": "https://localhost:8080/"
        },
        "id": "qE9pFHNrk_Ke",
        "outputId": "77790c26-3394-4ca3-fa3c-ff569cb874fe"
      },
      "source": [
        "Mw_row\n",
        "Mw"
      ],
      "execution_count": 32,
      "outputs": [
        {
          "output_type": "execute_result",
          "data": {
            "text/plain": [
              "array([[1, 0, 0, 0, 0, 0, 0, 0, 0],\n",
              "       [0, 0, 0, 0, 0, 0, 0, 0, 0],\n",
              "       [0, 0, 0, 0, 0, 0, 0, 0, 0],\n",
              "       [0, 0, 0, 0, 0, 0, 0, 0, 0],\n",
              "       [0, 0, 0, 0, 0, 0, 0, 0, 0],\n",
              "       [0, 0, 0, 0, 0, 0, 0, 0, 0],\n",
              "       [0, 0, 0, 0, 0, 0, 0, 0, 0],\n",
              "       [0, 0, 0, 0, 0, 0, 0, 0, 0],\n",
              "       [0, 0, 0, 0, 0, 0, 0, 0, 0]])"
            ]
          },
          "metadata": {
            "tags": []
          },
          "execution_count": 32
        }
      ]
    },
    {
      "cell_type": "code",
      "metadata": {
        "colab": {
          "base_uri": "https://localhost:8080/"
        },
        "id": "Ga4WdxOPlsdJ",
        "outputId": "9f8f3e51-5d62-41f3-89da-901e6a40bad1"
      },
      "source": [
        "Jx.shape"
      ],
      "execution_count": 33,
      "outputs": [
        {
          "output_type": "execute_result",
          "data": {
            "text/plain": [
              "(10, 10)"
            ]
          },
          "metadata": {
            "tags": []
          },
          "execution_count": 33
        }
      ]
    },
    {
      "cell_type": "code",
      "metadata": {
        "colab": {
          "base_uri": "https://localhost:8080/"
        },
        "id": "YDScfTXAmP7q",
        "outputId": "52985820-b580-4519-cb56-8feb9be7c42e"
      },
      "source": [
        "C_ext.shape"
      ],
      "execution_count": 34,
      "outputs": [
        {
          "output_type": "execute_result",
          "data": {
            "text/plain": [
              "(10, 9)"
            ]
          },
          "metadata": {
            "tags": []
          },
          "execution_count": 34
        }
      ]
    },
    {
      "cell_type": "code",
      "metadata": {
        "id": "jTYiaol4-iqA"
      },
      "source": [
        "objective = cp.Minimize(cp.trace(U.T @ (Ju + B_ext.T @ Jx @ B_ext) @ U @ Mw + 2 * C_ext.T @ Jx @ B_ext @ U @ Mw + C_ext.T @ Jx @ C_ext @ Mw))"
      ],
      "execution_count": 35,
      "outputs": []
    },
    {
      "cell_type": "code",
      "metadata": {
        "id": "AusUauHFrbS6"
      },
      "source": [
        "# # Causality set\n",
        "# # u_var_list = [cp.Variable((m , 1)) for i in range(N)]\n",
        "# u_var = cp.Variable((Nu , 1))\n",
        "\n",
        "# rhs_matrix = np.zeros([Nu,Ny])\n",
        "\n",
        "# for i in rangeM:\n",
        "#     for k in range(i, N):\n",
        "#         print(rhs_matrix[(k) * m : (k + 1) * m, (i) * d : ( i +1 ) * d].shape)\n",
        "#         print(U[ k * m : ( k+1 ) * m, (i-1) * d : i * d].shape)\n",
        "#         rhs_matrix[(k) * m : (k + 1) * m, (i) * d : ( i +1 ) * d] = U[ k * m : ( k+1 ) * m, (i-1) * d : i * d]"
      ],
      "execution_count": 36,
      "outputs": []
    },
    {
      "cell_type": "code",
      "metadata": {
        "colab": {
          "base_uri": "https://localhost:8080/"
        },
        "id": "oBBJuI1a_Aqf",
        "outputId": "29d6cb1d-8f95-47c9-e847-d2e12f508f20"
      },
      "source": [
        "# Causality set\n",
        "# u_var_list = [cp.Variable((m , 1)) for i in range(N)]\n",
        "u_var = cp.Variable((Nu , 1))\n",
        "\n",
        "rhs_matrix = u_var\n",
        "\n",
        "for i in range(N):\n",
        "    col = np.zeros((m , r))\n",
        "    for j in range(1, N):\n",
        "        # if i == (N-1):\n",
        "        #     if j >= i:\n",
        "        #         col = cp.vstack([col, U[j * m: ( j+1 ) * m, i * r : (i+1) * r]])\n",
        "        #     else:\n",
        "        #         col = cp.vstack([col, np.zeros((m, r))])\n",
        "        # else:\n",
        "        if j > i:\n",
        "            col = cp.vstack([col, U[j * m: ( j+1 ) * m, i * r : (i+1) * r]])\n",
        "        else:\n",
        "            col = cp.vstack([col, np.zeros((m, r))])\n",
        "\n",
        "    print(col)\n",
        "\n",
        "    rhs_matrix = cp.hstack([rhs_matrix, col])\n",
        "\n",
        "print(rhs_matrix.shape)\n",
        "print(Nu)\n",
        "print(Ny)\n",
        "print(d)"
      ],
      "execution_count": 37,
      "outputs": [
        {
          "output_type": "stream",
          "text": [
            "Vstack(Vstack(Vstack([[0.]], var0[1, 0]), var0[2, 0]), var0[3, 0])\n",
            "Vstack(Vstack(Vstack([[0.]], [[0.]]), var0[2, 1]), var0[3, 1])\n",
            "Vstack(Vstack(Vstack([[0.]], [[0.]]), [[0.]]), var0[3, 2])\n",
            "Vstack(Vstack(Vstack([[0.]], [[0.]]), [[0.]]), [[0.]])\n",
            "(4, 5)\n",
            "4\n",
            "4\n",
            "2\n"
          ],
          "name": "stdout"
        }
      ]
    },
    {
      "cell_type": "code",
      "metadata": {
        "id": "etoowROgAgMj"
      },
      "source": [
        "# constraint = [U == rhs_matrix @ (D_ext @ C_ext + E_ext)]"
      ],
      "execution_count": 38,
      "outputs": []
    },
    {
      "cell_type": "code",
      "metadata": {
        "id": "v4dObU3vSolo"
      },
      "source": [
        "# (D_ext @ C_ext + E_ext)"
      ],
      "execution_count": 39,
      "outputs": []
    },
    {
      "cell_type": "code",
      "metadata": {
        "id": "Y-S7Vm8XSVsG"
      },
      "source": [
        "# D_ext.shape\n"
      ],
      "execution_count": 40,
      "outputs": []
    },
    {
      "cell_type": "code",
      "metadata": {
        "id": "AogBQc8LS7eQ"
      },
      "source": [
        "\n"
      ],
      "execution_count": 40,
      "outputs": []
    },
    {
      "cell_type": "markdown",
      "metadata": {
        "id": "AmV97qVZASHL"
      },
      "source": [
        "###Infinite horizon version"
      ]
    },
    {
      "cell_type": "code",
      "metadata": {
        "id": "WOqikDeNARqh"
      },
      "source": [
        "E0 = np.diag([1,1])\n",
        "e0 = -50\n",
        "epsilon = 0.2"
      ],
      "execution_count": 115,
      "outputs": []
    },
    {
      "cell_type": "code",
      "metadata": {
        "id": "KSua9MOWB0nS"
      },
      "source": [
        "A_dare = Ak.T\n",
        "Q_dare = Ck @ Ck.T\n",
        "B_dare = Dk.T\n",
        "R_dare = Ek @ Ek.T"
      ],
      "execution_count": 116,
      "outputs": []
    },
    {
      "cell_type": "code",
      "metadata": {
        "colab": {
          "base_uri": "https://localhost:8080/"
        },
        "id": "IbuCpQqSDFxH",
        "outputId": "f747cf1f-dacd-45ab-e3bf-35ce820f1f84"
      },
      "source": [
        "print(Dk)"
      ],
      "execution_count": 117,
      "outputs": [
        {
          "output_type": "stream",
          "text": [
            "[[1 0]]\n"
          ],
          "name": "stdout"
        }
      ]
    },
    {
      "cell_type": "code",
      "metadata": {
        "colab": {
          "base_uri": "https://localhost:8080/"
        },
        "id": "t-X2GQ9YB1zc",
        "outputId": "2d56ca0e-0ef6-4dc9-dc83-99ff39db7bba"
      },
      "source": [
        "print(A_dare.shape)\n",
        "print(B_dare.shape)\n",
        "print(Q_dare.shape)\n",
        "print(R_dare.shape)"
      ],
      "execution_count": 118,
      "outputs": [
        {
          "output_type": "stream",
          "text": [
            "(2, 2)\n",
            "(2, 1)\n",
            "(2, 2)\n",
            "(1, 1)\n"
          ],
          "name": "stdout"
        }
      ]
    },
    {
      "cell_type": "code",
      "metadata": {
        "id": "r8REP86XAhBx"
      },
      "source": [
        "Y_dare = solve_discrete_are(A_dare, B_dare, Q_dare, R_dare)"
      ],
      "execution_count": 119,
      "outputs": []
    },
    {
      "cell_type": "code",
      "metadata": {
        "colab": {
          "base_uri": "https://localhost:8080/"
        },
        "id": "iMozAY71A_aA",
        "outputId": "f9d84a11-ab8b-45a3-d6f6-2013be037593"
      },
      "source": [
        "Y_dare"
      ],
      "execution_count": 120,
      "outputs": [
        {
          "output_type": "execute_result",
          "data": {
            "text/plain": [
              "array([[0.33531025, 0.52482326],\n",
              "       [0.52482326, 3.0764769 ]])"
            ]
          },
          "metadata": {
            "tags": []
          },
          "execution_count": 120
        }
      ]
    },
    {
      "cell_type": "code",
      "metadata": {
        "id": "IyndgIbKFN0Q"
      },
      "source": [
        "# P = cp.Variable((n, n),symmetric=True)\n",
        "P = cp.Variable((n, n),PSD=True)\n",
        "# P = cp.Variable((n, n))\n",
        "Z = cp.Variable((m, n))\n",
        "# X = cp.Variable((m, m),symmetric=True)\n",
        "X = cp.Variable((m, m),PSD=True)\n",
        "# X = cp.Variable((m, m))\n",
        "W_tilde = Ak@Y_dare@Dk.T  @ np.linalg.inv(Dk@Y_dare@Dk.T +Ek@Ek.T) @Dk@Y_dare@Ak.T\n",
        "\n",
        "constraint1 = cp.hstack([ cp.vstack([X,Z.T]),cp.vstack([Z,P]) ])\n",
        "constraint2 = e0 + 1/epsilon * cp.trace(E0 @ (Y_dare +P))\n",
        "constraint3 = cp.hstack([cp.vstack([ P - Ak@P@Ak.T - Bk@Z@Ak.T - Ak@Z.T@Bk.T - W_tilde, Z.T@Bk.T]), cp.vstack([Bk@Z, P])])\n",
        "\n",
        "constraints = [constraint1 >> 0]\n",
        "constraints += [constraint2 <= 0]\n",
        "constraints += [constraint3 >> 0]\n",
        "\n",
        "\n",
        "obj =cp.trace(Q @ (Y_dare + P)) + cp.trace( R @ X) "
      ],
      "execution_count": 121,
      "outputs": []
    },
    {
      "cell_type": "code",
      "metadata": {
        "colab": {
          "base_uri": "https://localhost:8080/"
        },
        "id": "_agl7Y6WNcR1",
        "outputId": "45f10b1d-07f8-45d0-fc65-3b2911f8dbe0"
      },
      "source": [
        "W_tilde"
      ],
      "execution_count": 122,
      "outputs": [
        {
          "output_type": "execute_result",
          "data": {
            "text/plain": [
              "array([[0.10681365, 0.11978549],\n",
              "       [0.11978549, 0.13433266]])"
            ]
          },
          "metadata": {
            "tags": []
          },
          "execution_count": 122
        }
      ]
    },
    {
      "cell_type": "code",
      "metadata": {
        "colab": {
          "base_uri": "https://localhost:8080/"
        },
        "id": "Iy6wTXrLIVHL",
        "outputId": "153440c4-d57c-4fa6-8c2b-d55f26a1904f"
      },
      "source": [
        "prob = cp.Problem(cp.Minimize(obj),\n",
        "                  constraints)\n",
        "prob.solve()"
      ],
      "execution_count": 123,
      "outputs": [
        {
          "output_type": "execute_result",
          "data": {
            "text/plain": [
              "27.686362996718024"
            ]
          },
          "metadata": {
            "tags": []
          },
          "execution_count": 123
        }
      ]
    },
    {
      "cell_type": "code",
      "metadata": {
        "colab": {
          "base_uri": "https://localhost:8080/"
        },
        "id": "0nK7ew0gIWUF",
        "outputId": "9db5a3f5-ea79-4ae9-8de8-b828ecf3808a"
      },
      "source": [
        "print(prob.status)"
      ],
      "execution_count": 124,
      "outputs": [
        {
          "output_type": "stream",
          "text": [
            "optimal\n"
          ],
          "name": "stdout"
        }
      ]
    },
    {
      "cell_type": "code",
      "metadata": {
        "colab": {
          "base_uri": "https://localhost:8080/"
        },
        "id": "1PSK7hemM9SM",
        "outputId": "6fe4d816-3f6b-4553-a527-53a0ce98fe13"
      },
      "source": [
        "print(Z.value)"
      ],
      "execution_count": 125,
      "outputs": [
        {
          "output_type": "stream",
          "text": [
            "[[-2.30983343 -0.21794331]]\n"
          ],
          "name": "stdout"
        }
      ]
    },
    {
      "cell_type": "code",
      "metadata": {
        "colab": {
          "base_uri": "https://localhost:8080/"
        },
        "id": "aXw3SAz7Q7Ie",
        "outputId": "b02f0bcc-6f39-4d3a-d470-87631948baa4"
      },
      "source": [
        "print(P.value)"
      ],
      "execution_count": 126,
      "outputs": [
        {
          "output_type": "stream",
          "text": [
            "[[ 1.64120006 -0.37982024]\n",
            " [-0.37982024  0.82306844]]\n"
          ],
          "name": "stdout"
        }
      ]
    },
    {
      "cell_type": "code",
      "metadata": {
        "colab": {
          "base_uri": "https://localhost:8080/"
        },
        "id": "DtZH69WBQ8hE",
        "outputId": "e2f764f4-5ced-4df5-f27f-8b847b6cbe2f"
      },
      "source": [
        "K_opt = Z.value @ np.linalg.inv(P.value)\n",
        "K_opt"
      ],
      "execution_count": 127,
      "outputs": [
        {
          "output_type": "execute_result",
          "data": {
            "text/plain": [
              "array([[-1.64429116, -1.02358242]])"
            ]
          },
          "metadata": {
            "tags": []
          },
          "execution_count": 127
        }
      ]
    },
    {
      "cell_type": "code",
      "metadata": {
        "id": "fsstix3aS5is"
      },
      "source": [
        ""
      ],
      "execution_count": 114,
      "outputs": []
    }
  ]
}