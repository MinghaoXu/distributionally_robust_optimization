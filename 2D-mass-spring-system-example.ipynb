{
 "cells": [
  {
   "cell_type": "code",
   "execution_count": 1,
   "metadata": {},
   "outputs": [],
   "source": [
    "import numpy as np\n",
    "import scipy.linalg"
   ]
  },
  {
   "cell_type": "markdown",
   "metadata": {},
   "source": [
    "Ref: Distributionally robust control of constrained stochastic systems"
   ]
  },
  {
   "cell_type": "code",
   "execution_count": 2,
   "metadata": {},
   "outputs": [],
   "source": [
    "def dlqr(A,B,Q,R):\n",
    "    \"\"\"\n",
    "    Calculates the optimal gain matrix K for system\n",
    "    x[k+1] = A x[k] + B u[k]\n",
    "    with cost = sum x[k].T*Q*x[k] + u[k].T*R*u[k], such that\n",
    "    u[k] = -K x[k]\n",
    "    \n",
    "    Returns: \n",
    "        -K\n",
    "    \"\"\"\n",
    "    # first, solve the ricatti equation\n",
    "    P = np.matrix(scipy.linalg.solve_discrete_are(A, B, Q, R))\n",
    "    # compute the LQR gain\n",
    "    K = np.matrix(scipy.linalg.inv(B.T*P*B+R)*(B.T*P*A))\n",
    "    return -K"
   ]
  },
  {
   "cell_type": "code",
   "execution_count": 91,
   "metadata": {},
   "outputs": [],
   "source": [
    "def disc_linear_system(A,B,delta_t):\n",
    "    '''\n",
    "    Discrete a linear system with implicit Euler\n",
    "    x[k+1] = (I - delta_t * A)^{-1} @ x[k] + (I - delta_t * A)^{-1} @ (delta_t * B) @ u[k]\n",
    "    \n",
    "    Returns:\n",
    "        Ak\n",
    "        Bk\n",
    "    \n",
    "    ''' \n",
    "    Nx = np.shape(A)[0]\n",
    "    Ix = np.identity(Nx)\n",
    "    \n",
    "    Ak = np.linalg.inv(Ix - delta_t * A)\n",
    "    Bk = np.linalg.inv(Ix - delta_t * A) @ (delta_t * B)\n",
    "    \n",
    "    \n",
    "    return Ak, Bk"
   ]
  },
  {
   "cell_type": "code",
   "execution_count": 92,
   "metadata": {},
   "outputs": [],
   "source": [
    "def RK4_np(f, x, u, t, h):\n",
    "    \"\"\"\n",
    "    Runge-Kutta 4th order solver using numpy array data type.\n",
    "\n",
    "    Args:\n",
    "        f: A function returning first order ODE in 2D numpy array (Nx x 1).\n",
    "        x: Current value (list or numpy array). \n",
    "        t: Current time.\n",
    "        h: Step length.\n",
    "    Returns:\n",
    "        x_next: Vector of next value in 2D numpy array (Nx x 1)\n",
    "    \"\"\"\n",
    "    x = np.reshape(x, (np.shape(x)[0], -1))    # Reshape x to col vector in np 2D array\n",
    "    k1 = f(t, x, u)\n",
    "    k2 = f(t + h / 2, x + h / 2 * k1, u)\n",
    "    k3 = f(t + h / 2, x + h / 2 * k2, u)\n",
    "    k4 = f(t + h, x + h * k3, u)\n",
    "    x_next = x + h / 6 * (k1 + 2 * k2 + 2 * k3 + k4)\n",
    "    return x_next"
   ]
  },
  {
   "cell_type": "code",
   "execution_count": 93,
   "metadata": {},
   "outputs": [],
   "source": [
    "def mass_string_ode(t, x, u):\n",
    "    m = 2 #[kg]\n",
    "    k1 = 3 # [N/m]\n",
    "    k2 = 2 # [N/m]\n",
    "    \n",
    "    A = np.array([[0,1],[-k2/m, -k1/m]])\n",
    "    B = np.array([[0],[1/m]])\n",
    "    \n",
    "    dot_x = A @ x + B @ u\n",
    "    \n",
    "    return dot_x"
   ]
  },
  {
   "cell_type": "markdown",
   "metadata": {},
   "source": [
    "Continuous-time system\n",
    "\n",
    "$\\begin{aligned}\\left[\\begin{array}{c}\\dot{x}_{1}(t) \\\\ \\dot{x}_{2}(t)\\end{array}\\right] &=\\left[\\begin{array}{cc}0 & 1 \\\\ -k_{2} / m & -k_{1} / m\\end{array}\\right]\\left[\\begin{array}{l}x_{1}(t) \\\\ x_{2}(t)\\end{array}\\right]+\\left[\\begin{array}{c}0 \\\\ 1 / m\\end{array}\\right] u(t) \\\\ y(t) &=\\left[\\begin{array}{ll}1 & 0\\end{array}\\right]\\left[\\begin{array}{l}x_{1}(t) \\\\ x_{2}(t)\\end{array}\\right] \\end{aligned}$"
   ]
  },
  {
   "cell_type": "code",
   "execution_count": 94,
   "metadata": {},
   "outputs": [],
   "source": [
    "m = 2 #[kg]\n",
    "k1 = 3 # [N/m]\n",
    "k2 = 2 # [N/m]\n",
    "\n",
    "para = [m, k1, k2]"
   ]
  },
  {
   "cell_type": "code",
   "execution_count": 95,
   "metadata": {},
   "outputs": [],
   "source": [
    "A = np.array([[0,1],[-k2/m, -k1/m]])\n",
    "B = np.array([[0],[1/m]])\n",
    "delta_t = 0.1"
   ]
  },
  {
   "cell_type": "code",
   "execution_count": 96,
   "metadata": {},
   "outputs": [],
   "source": [
    "Ak,Bk = disc_linear_system(A,B,delta_t)"
   ]
  },
  {
   "cell_type": "code",
   "execution_count": 103,
   "metadata": {},
   "outputs": [],
   "source": [
    "Q = np.diag([10,1])\n",
    "R = np.diag([1])"
   ]
  },
  {
   "cell_type": "code",
   "execution_count": 104,
   "metadata": {},
   "outputs": [],
   "source": [
    "neg_K = dlqr(Ak,Bk,Q,R)"
   ]
  },
  {
   "cell_type": "code",
   "execution_count": 105,
   "metadata": {},
   "outputs": [
    {
     "data": {
      "text/plain": [
       "matrix([[-1.64465128, -1.02359576]])"
      ]
     },
     "execution_count": 105,
     "metadata": {},
     "output_type": "execute_result"
    }
   ],
   "source": [
    "neg_K"
   ]
  },
  {
   "cell_type": "code",
   "execution_count": 106,
   "metadata": {},
   "outputs": [],
   "source": [
    "N_sim = 100\n",
    "\n",
    "x_init = np.array([[2],[0]])\n",
    "t0 = 0\n",
    "\n",
    "xk = x_init\n",
    "uk = 0\n",
    "t = t0\n",
    "h = delta_t\n",
    "\n",
    "x_list = []\n",
    "x_list += [xk.flatten().tolist()]\n",
    "u_list = []\n",
    "for i in range(N_sim):\n",
    "    uk = neg_K @ xk\n",
    "    u_list +=  uk.flatten().tolist() \n",
    "    x_kp1 = RK4_np(mass_string_ode, xk, uk, t, h)\n",
    "    x_list += x_kp1.flatten().tolist()\n",
    "    xk = x_kp1"
   ]
  },
  {
   "cell_type": "code",
   "execution_count": 107,
   "metadata": {},
   "outputs": [
    {
     "data": {
      "text/plain": [
       "[[-3.289302564456352],\n",
       " [-2.914942510901101],\n",
       " [-2.5598110182383618],\n",
       " [-2.2263935494494858],\n",
       " [-1.9163535315592184],\n",
       " [-1.6306546787177174],\n",
       " [-1.369672758698418],\n",
       " [-1.1332968450937406],\n",
       " [-0.9210202675311228],\n",
       " [-0.7320216075616044],\n",
       " [-0.5652361925567164],\n",
       " [-0.41941861782554035],\n",
       " [-0.2931968818221258],\n",
       " [-0.1851187540790109],\n",
       " [-0.09369101342841346],\n",
       " [-0.017412197937609175],\n",
       " [0.04520049970282325],\n",
       " [0.09558957459547412],\n",
       " [0.13514019742854322],\n",
       " [0.16516728509624534],\n",
       " [0.1869061255229036],\n",
       " [0.20150606471958082],\n",
       " [0.21002680236539475],\n",
       " [0.2134368811374406],\n",
       " [0.21261399383289373],\n",
       " [0.2083467703985401],\n",
       " [0.20133774379984534],\n",
       " [0.19220722883086472],\n",
       " [0.18149788119473242],\n",
       " [0.16967973526549884],\n",
       " [0.15715554774320428],\n",
       " [0.14426630086558034],\n",
       " [0.13129674292442273],\n",
       " [0.11848086557844487],\n",
       " [0.10600723691806505],\n",
       " [0.09402412650932193],\n",
       " [0.08264437383307388],\n",
       " [0.07194996476618828],\n",
       " [0.06199629215829093],\n",
       " [0.052816086281720964],\n",
       " [0.04442300911719047],\n",
       " [0.03681491322659598],\n",
       " [0.029976771498159485],\n",
       " [0.023883288463753954],\n",
       " [0.018501207314056044],\n",
       " [0.013791329297128972],\n",
       " [0.00971026399535093],\n",
       " [0.006211930141058537],\n",
       " [0.0032488272510054345],\n",
       " [0.0007730985231410026],\n",
       " [-0.0012625947729515245],\n",
       " [-0.002904367696031432],\n",
       " [-0.004196555862110041],\n",
       " [-0.00518129147778517],\n",
       " [-0.005898194223744454],\n",
       " [-0.006384161195224062],\n",
       " [-0.006673241321794569],\n",
       " [-0.006796580928437634],\n",
       " [-0.0067824283381230244],\n",
       " [-0.0066561866323045175],\n",
       " [-0.00644050486339507],\n",
       " [-0.006155399139502516],\n",
       " [-0.0058183960668758816],\n",
       " [-0.005444692032792445],\n",
       " [-0.0050473227365698155],\n",
       " [-0.0046373382266130395],\n",
       " [-0.004223979476205156],\n",
       " [-0.003814853230824712],\n",
       " [-0.0034161024869643754],\n",
       " [-0.0030325705194655097],\n",
       " [-0.002667956864694555],\n",
       " [-0.0023249640943908936],\n",
       " [-0.0020054345839791133],\n",
       " [-0.001710476794036744],\n",
       " [-0.0014405808490123044],\n",
       " [-0.0011957234177686412],\n",
       " [-0.0009754620805771798],\n",
       " [-0.0007790195111647958],\n",
       " [-0.00060535791448452],\n",
       " [-0.0004532442449889174],\n",
       " [-0.0003213067900260762],\n",
       " [-0.00020808374198225902],\n",
       " [-0.00011206440411640575],\n",
       " [-3.172368154571667e-05],\n",
       " [3.4449496851684885e-05],\n",
       " [8.792919542106371e-05],\n",
       " [0.00013013432078239572],\n",
       " [0.0001624147254867284],\n",
       " [0.00018604102256441986],\n",
       " [0.00020219760401746554],\n",
       " [0.0002119783949163303],\n",
       " [0.00021638491422267575],\n",
       " [0.00021632625294980956],\n",
       " [0.00021262061911948892],\n",
       " [0.00020599813663783664],\n",
       " [0.0001971046212741996],\n",
       " [0.0001865060910684555],\n",
       " [0.0001746938004885578],\n",
       " [0.0001620896173626542],\n",
       " [0.0001490515889364981]]"
      ]
     },
     "execution_count": 107,
     "metadata": {},
     "output_type": "execute_result"
    }
   ],
   "source": [
    "u_list"
   ]
  },
  {
   "cell_type": "code",
   "execution_count": 108,
   "metadata": {},
   "outputs": [
    {
     "data": {
      "text/plain": [
       "[[2, 0],\n",
       " [1.9826689238506545, -0.337883851188942],\n",
       " [1.9349862198417493, -0.6082152491804027],\n",
       " [1.8633130681783237, -0.8187867821451399],\n",
       " [1.7732520651954105, -0.9769752784440978],\n",
       " [1.669691328807902, -1.089693169266517],\n",
       " [1.5568526124067068, -1.163356605030776],\n",
       " [1.4383418800523347, -1.2038677983761676],\n",
       " [1.3172010373594736, -1.2166092885486843],\n",
       " [1.1959597318770925, -1.2064480423099309],\n",
       " [1.0766863343887605, -1.1777475217519346],\n",
       " [0.9610373890339324, -1.134386056870654],\n",
       " [0.8503049763687974, -1.0797800583539778],\n",
       " [0.7454615705111942, -1.0169107922407186],\n",
       " [0.6472020905436895, -0.9483536118440088],\n",
       " [0.5559829486632923, -0.8763087029491551],\n",
       " [0.4720579844946872, -0.8026325454778964],\n",
       " [0.3955112478724361, -0.7288694285283872],\n",
       " [0.3262866525834703, -0.6562824761564078],\n",
       " [0.2642145723515755, -0.5858837488486628],\n",
       " [0.20903548900109586, -0.5184630808900762],\n",
       " [0.16042083245903396, -0.454615397390631],\n",
       " [0.11799117417557238, -0.3947663273396302],\n",
       " [0.08133195071989681, -0.33919599147483526],\n",
       " [0.050006903718737186, -0.288060896798999],\n",
       " [0.023569426845489096, -0.2414139140656736],\n",
       " [0.0015720110526882165, -0.19922235130346574],\n",
       " [-0.016426023595972065, -0.16138416624874163],\n",
       " [-0.030852326640103907, -0.12774238417862036],\n",
       " [-0.042116671216543375, -0.09809780581040077],\n",
       " [-0.05060729722755372, -0.07222010335005838],\n",
       " [-0.05668828787175427, -0.0498574120750464],\n",
       " [-0.06069783477040091, -0.030744530620972328],\n",
       " [-0.06294725839229542, -0.014609845953905881],\n",
       " [-0.06372066210571736, -0.0011810993465194899],\n",
       " [-0.06327510974052271, 0.009809892015611318],\n",
       " [-0.06184122784544521, 0.018623446491583727],\n",
       " [-0.059624144729851815, 0.02550905579532161],\n",
       " [-0.056804688774153345, 0.030703148005067425],\n",
       " [-0.05354077829620095, 0.03442748087012439],\n",
       " [-0.04996894441486767, 0.03688807722446246],\n",
       " [-0.046205936820674774, 0.03827462129127817],\n",
       " [-0.042350370128989456, 0.0387602417338313],\n",
       " [-0.038484375551352194, 0.038501614338598826],\n",
       " [-0.034675228984660286, 0.0376393240955273],\n",
       " [-0.030976932305988313, 0.03629843307843515],\n",
       " [-0.027431729700333477, 0.0345892068581852],\n",
       " [-0.024071545273021386, 0.03260795815159181],\n",
       " [-0.020919332045653938, 0.030437971984942653],\n",
       " [-0.017990325744934407, 0.028150481810411708],\n",
       " [-0.015293199609717093, 0.025805670745511718],\n",
       " [-0.012831118806078009, 0.023453676408319267],\n",
       " [-0.010602694995755762, 0.021135581700321794],\n",
       " [-0.008602843191738627, 0.01888437735629749],\n",
       " [-0.006823544296408748, 0.01672588515333807],\n",
       " [-0.005254517690974615, 0.014679633369274475],\n",
       " [-0.0038838089662386003, 0.012759678427295132],\n",
       " [-0.002698298387982862, 0.010975368683133545],\n",
       " [-0.0016841360068184416, 0.009332048029535439],\n",
       " [-0.0008271094810413893, 0.007831698435876966],\n",
       " [-0.00011295070808501945, 0.006473521734755104],\n",
       " [0.00047241272081322114, 0.0052544619375322],\n",
       " [0.0009426553959601302, 0.0041696701317427975],\n",
       " [0.0013108956837879523, 0.0032129146083911754],\n",
       " [0.0015895757175520787, 0.002376939308595863],\n",
       " [0.0017903747860512694, 0.0016537739874378354],\n",
       " [0.001924151472322538, 0.001034999687374161],\n",
       " [0.0020009102588341827, 0.0005119732117449562],\n",
       " [0.002029788685974337, 7.601430670071502e-05],\n",
       " [0.0020190615193044774, -0.0002814407882828065],\n",
       " [0.0019761587421770897, -0.0005687158623678617],\n",
       " [0.001907694539178496, -0.0007937979117426309],\n",
       " [0.0018195047687982631, -0.0009642637328707105],\n",
       " [0.0017166907380301482, -0.0010872268864036575],\n",
       " [0.0016036673853727602, -0.0011693022002732295],\n",
       " [0.0014842142507132663, -0.0012165852021396206],\n",
       " [0.0013615278602255726, -0.001234644096591229],\n",
       " [0.0012382743815679458, -0.0012285221268107697],\n",
       " [0.0011166416096001753, -0.001202748380213719],\n",
       " [0.0009983895261584186, -0.0011613553099405678],\n",
       " [0.0008848988399835791, -0.001107901446810501],\n",
       " [0.0007772170557474083, -0.0010454979677591571],\n",
       " [0.0006761017454513929, -0.0009768379657207188],\n",
       " [0.0005820608025737088, -0.0009042274316328277],\n",
       " [0.0004953895505517803, -0.0008296171113590926],\n",
       " [0.00041620465387782503, -0.0007546345387556683],\n",
       " [0.0003444748436133979, -0.0006806156710194347],\n",
       " [0.00028004852083096817, -0.0006086356642081977],\n",
       " [0.00022267834265627735, -0.0005395384259367386],\n",
       " [0.00017204292744695085, -0.00047396466936387136],\n",
       " [0.00012776583936465299, -0.0004123782684186593],\n",
       " [8.943202926865177e-05, -0.00035509077955053043],\n",
       " [5.66019194866455e-05, -0.00030228405094454366],\n",
       " [2.8823325530305333e-05, -0.00025403088695007657],\n",
       " [5.641409061417835e-06, -0.0002103137742569404],\n",
       " [-1.3393145859098646e-05, -0.00017104170792962682],\n",
       " [-2.8717546311462963e-05, -0.00013606518056354555],\n",
       " [-4.075171424959747e-05, -0.0001051894173070577],\n",
       " [-4.9894349854845005e-05, -7.81859540087835e-05],\n",
       " [-5.652007419769198e-05, -5.480266596419215e-05],\n",
       " [-6.097750198556087e-05, -3.477236126334473e-05]]"
      ]
     },
     "execution_count": 108,
     "metadata": {},
     "output_type": "execute_result"
    }
   ],
   "source": [
    "x_list"
   ]
  },
  {
   "cell_type": "code",
   "execution_count": 112,
   "metadata": {},
   "outputs": [
    {
     "name": "stdout",
     "output_type": "stream",
     "text": [
      "Requirement already satisfied: cvxpy in /Library/Frameworks/Python.framework/Versions/3.7/lib/python3.7/site-packages (1.1.7)\r\n",
      "Requirement already satisfied: ecos>=2 in /Library/Frameworks/Python.framework/Versions/3.7/lib/python3.7/site-packages (from cvxpy) (2.0.7.post1)\r\n",
      "Requirement already satisfied: numpy>=1.15 in /Library/Frameworks/Python.framework/Versions/3.7/lib/python3.7/site-packages (from cvxpy) (1.18.5)\r\n",
      "Requirement already satisfied: scs>=1.1.6 in /Library/Frameworks/Python.framework/Versions/3.7/lib/python3.7/site-packages (from cvxpy) (2.1.2)\r\n",
      "Requirement already satisfied: scipy>=1.1.0 in /Library/Frameworks/Python.framework/Versions/3.7/lib/python3.7/site-packages (from cvxpy) (1.5.2)\r\n",
      "Requirement already satisfied: osqp>=0.4.1 in /Library/Frameworks/Python.framework/Versions/3.7/lib/python3.7/site-packages (from cvxpy) (0.6.2.post0)\r\n",
      "Requirement already satisfied: qdldl in /Library/Frameworks/Python.framework/Versions/3.7/lib/python3.7/site-packages (from osqp>=0.4.1->cvxpy) (0.1.5.post0)\r\n"
     ]
    }
   ],
   "source": [
    "!pip install cvxpy"
   ]
  },
  {
   "cell_type": "code",
   "execution_count": 111,
   "metadata": {},
   "outputs": [
    {
     "name": "stdout",
     "output_type": "stream",
     "text": [
      "Requirement already satisfied: pip in /Library/Frameworks/Python.framework/Versions/3.7/lib/python3.7/site-packages (20.3.3)\n",
      "Collecting pip\n",
      "  Downloading pip-21.0-py3-none-any.whl (1.5 MB)\n",
      "\u001b[K     |████████████████████████████████| 1.5 MB 61 kB/s eta 0:00:013\n",
      "\u001b[?25hInstalling collected packages: pip\n",
      "  Attempting uninstall: pip\n",
      "    Found existing installation: pip 20.3.3\n",
      "    Uninstalling pip-20.3.3:\n",
      "      Successfully uninstalled pip-20.3.3\n",
      "Successfully installed pip-21.0\n"
     ]
    }
   ],
   "source": [
    "!pip install --upgrade pip"
   ]
  },
  {
   "cell_type": "code",
   "execution_count": 113,
   "metadata": {},
   "outputs": [
    {
     "name": "stdout",
     "output_type": "stream",
     "text": [
      "Requirement already satisfied: pytest in /Library/Frameworks/Python.framework/Versions/3.7/lib/python3.7/site-packages (6.2.1)\n",
      "Requirement already satisfied: importlib-metadata>=0.12 in /Library/Frameworks/Python.framework/Versions/3.7/lib/python3.7/site-packages (from pytest) (1.6.1)\n",
      "Requirement already satisfied: toml in /Library/Frameworks/Python.framework/Versions/3.7/lib/python3.7/site-packages (from pytest) (0.10.2)\n",
      "Requirement already satisfied: pluggy<1.0.0a1,>=0.12 in /Library/Frameworks/Python.framework/Versions/3.7/lib/python3.7/site-packages (from pytest) (0.13.1)\n",
      "Requirement already satisfied: attrs>=19.2.0 in /Library/Frameworks/Python.framework/Versions/3.7/lib/python3.7/site-packages (from pytest) (19.3.0)\n",
      "Requirement already satisfied: packaging in /Library/Frameworks/Python.framework/Versions/3.7/lib/python3.7/site-packages (from pytest) (20.4)\n",
      "Requirement already satisfied: py>=1.8.2 in /Library/Frameworks/Python.framework/Versions/3.7/lib/python3.7/site-packages (from pytest) (1.10.0)\n",
      "Requirement already satisfied: iniconfig in /Library/Frameworks/Python.framework/Versions/3.7/lib/python3.7/site-packages (from pytest) (1.1.1)\n",
      "Requirement already satisfied: zipp>=0.5 in /Library/Frameworks/Python.framework/Versions/3.7/lib/python3.7/site-packages (from importlib-metadata>=0.12->pytest) (3.1.0)\n",
      "Requirement already satisfied: six in /Library/Frameworks/Python.framework/Versions/3.7/lib/python3.7/site-packages (from packaging->pytest) (1.15.0)\n",
      "Requirement already satisfied: pyparsing>=2.0.2 in /Library/Frameworks/Python.framework/Versions/3.7/lib/python3.7/site-packages (from packaging->pytest) (2.4.7)\n"
     ]
    }
   ],
   "source": [
    "!pip install pytest\n"
   ]
  },
  {
   "cell_type": "code",
   "execution_count": 114,
   "metadata": {},
   "outputs": [
    {
     "name": "stdout",
     "output_type": "stream",
     "text": [
      "\u001b[1m============================= test session starts ==============================\u001b[0m\r\n",
      "platform darwin -- Python 3.7.7, pytest-6.2.1, py-1.10.0, pluggy-0.13.1\r\n",
      "rootdir: /Users/zhengangzhong/Dropbox/code/py/optimization/distributionally_robust_optimization\r\n",
      "plugins: anyio-2.0.2\r\n",
      "\u001b[1mcollecting ... \u001b[0m\u001b[1m\r",
      "collected 0 items                                                              \u001b[0m\r\n",
      "\r\n",
      "\u001b[33m============================ \u001b[33mno tests ran\u001b[0m\u001b[33m in 0.00s\u001b[0m\u001b[33m =============================\u001b[0m\r\n",
      "\u001b[31mERROR: file or directory not found: cvxpy/tests\r\n",
      "\u001b[0m\r\n"
     ]
    }
   ],
   "source": [
    "!pytest cvxpy/tests"
   ]
  },
  {
   "cell_type": "code",
   "execution_count": null,
   "metadata": {},
   "outputs": [],
   "source": []
  }
 ],
 "metadata": {
  "kernelspec": {
   "display_name": "Python 3",
   "language": "python",
   "name": "python3"
  },
  "language_info": {
   "codemirror_mode": {
    "name": "ipython",
    "version": 3
   },
   "file_extension": ".py",
   "mimetype": "text/x-python",
   "name": "python",
   "nbconvert_exporter": "python",
   "pygments_lexer": "ipython3",
   "version": "3.7.7"
  }
 },
 "nbformat": 4,
 "nbformat_minor": 4
}
