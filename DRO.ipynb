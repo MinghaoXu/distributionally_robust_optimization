{
 "cells": [
  {
   "cell_type": "code",
   "execution_count": 31,
   "metadata": {},
   "outputs": [
    {
     "ename": "SyntaxError",
     "evalue": "invalid syntax (<ipython-input-31-d45fcfb796f8>, line 3)",
     "output_type": "error",
     "traceback": [
      "\u001b[0;36m  File \u001b[0;32m\"<ipython-input-31-d45fcfb796f8>\"\u001b[0;36m, line \u001b[0;32m3\u001b[0m\n\u001b[0;31m    import\u001b[0m\n\u001b[0m           ^\u001b[0m\n\u001b[0;31mSyntaxError\u001b[0m\u001b[0;31m:\u001b[0m invalid syntax\n"
     ]
    }
   ],
   "source": [
    "import numpy as np\n",
    "import casadi as ca\n",
    "import "
   ]
  },
  {
   "cell_type": "code",
   "execution_count": 32,
   "metadata": {},
   "outputs": [],
   "source": [
    "m = 10\n",
    "N = 30\n",
    "Nd = 1\n",
    "K = 2\n",
    "rho = 10\n",
    "alpha = 0.2"
   ]
  },
  {
   "cell_type": "code",
   "execution_count": 33,
   "metadata": {},
   "outputs": [],
   "source": [
    "x = ca.SX.sym(\"x\",m)\n",
    "tau = ca.SX.sym(\"tau\",1)\n",
    "lambda_ =  ca.SX.sym(\"lambda_\",1)\n",
    "s = ca.SX.sym(\"s\",N)\n",
    "gamma_ik = [ [ca.SX.sym(\"s\"+str(i)+'_'+str(j),Nd) for i in range(N)] for j in range(K)]"
   ]
  },
  {
   "cell_type": "code",
   "execution_count": 34,
   "metadata": {},
   "outputs": [
    {
     "data": {
      "text/plain": [
       "(1, 1)"
      ]
     },
     "execution_count": 34,
     "metadata": {},
     "output_type": "execute_result"
    }
   ],
   "source": [
    "gamma_ik[1][0].shape"
   ]
  },
  {
   "cell_type": "code",
   "execution_count": 35,
   "metadata": {},
   "outputs": [],
   "source": [
    "# eps = cp.Parameter(nonneg=True)\n",
    "eps = 1\n",
    "a1 = -1\n",
    "a2 = -1 - rho/alpha\n",
    "b1 = rho\n",
    "b2 = rho * (1 - 1/alpha)\n",
    "a = [a1, a2]\n",
    "b = [b1, b2]\n",
    "\n",
    "C = np.zeros((Nd,m))\n",
    "d = np.zeros((Nd,1))"
   ]
  },
  {
   "cell_type": "code",
   "execution_count": 36,
   "metadata": {},
   "outputs": [
    {
     "data": {
      "text/plain": [
       "array([[0., 0., 0., 0., 0., 0., 0., 0., 0., 0.]])"
      ]
     },
     "execution_count": 36,
     "metadata": {},
     "output_type": "execute_result"
    }
   ],
   "source": [
    "C"
   ]
  },
  {
   "cell_type": "code",
   "execution_count": 37,
   "metadata": {},
   "outputs": [],
   "source": [
    "# eps = cp.Parameter(nonneg=True)\n",
    "eps_SX = ca.SX.sym(\"eps\",1)\n",
    "a_SX = ca.SX.sym(\"a\",K)\n",
    "b_SX = ca.SX.sym(\"b\",K)\n",
    "C_SX = ca.SX.sym('C',Nd,m)\n",
    "d_SX = ca.SX.sym('d',Nd)"
   ]
  },
  {
   "cell_type": "code",
   "execution_count": 38,
   "metadata": {},
   "outputs": [],
   "source": [
    "# np.random.seed(1)\n",
    "xi_hat_list = []\n",
    "for i in range(N):\n",
    "    psi = np.sqrt(0.02) * np.random.randn(1)\n",
    "    xi_temp_list = []\n",
    "    for j in range(m):\n",
    "        zeta_i = np.sqrt(j * 0.025) * np.random.randn(1) + j * 0.03\n",
    "        xi = psi + zeta_i\n",
    "        xi_temp_list += [xi]\n",
    "    xi_hat_list += [np.array(xi_temp_list).reshape(-1,1)]"
   ]
  },
  {
   "cell_type": "code",
   "execution_count": 39,
   "metadata": {},
   "outputs": [
    {
     "data": {
      "text/plain": [
       "SX([xi_0, xi_1, xi_2, xi_3, xi_4, xi_5, xi_6, xi_7, xi_8, xi_9])"
      ]
     },
     "execution_count": 39,
     "metadata": {},
     "output_type": "execute_result"
    }
   ],
   "source": [
    "xi_hat_list_SX = ca.SX.sym(\"xi\",m,N)\n",
    "xi_hat_list_SX[:,0]"
   ]
  },
  {
   "cell_type": "code",
   "execution_count": 40,
   "metadata": {},
   "outputs": [],
   "source": [
    "obj = lambda_ * eps_SX + 1/N * ca.sum1(s)\n",
    "\n",
    "x_dec = ca.vertcat(x, tau, lambda_, s, *sum(gamma_ik,[]))"
   ]
  },
  {
   "cell_type": "code",
   "execution_count": 41,
   "metadata": {},
   "outputs": [],
   "source": [
    "g = []    \n",
    "g += [ca.sum1(x)-1]\n",
    "for k in range(K):\n",
    "    for i in range(N):\n",
    "        g += [b_SX[k]*tau + a_SX[k] * x.T @ xi_hat_list_SX[:, i] + gamma_ik[k][i].T @ (d_SX - C_SX @ xi_hat_list_SX[:, i]) - s[i]]\n",
    "        g += [ca.norm_inf(C_SX.T @ gamma_ik[k][i] - a_SX[k] * x ) - lambda_ ]\n",
    "        g += [gamma_ik[k][i]]\n",
    "g = ca.vertcat(*g)\n",
    "\n",
    "p = ca.vertcat(eps_SX,a_SX,b_SX, ca.reshape(C_SX,-1,1), d_SX, ca.reshape(xi_hat_list_SX,-1,1))"
   ]
  },
  {
   "cell_type": "code",
   "execution_count": 42,
   "metadata": {},
   "outputs": [],
   "source": [
    "\n",
    "# Define proximal solver\n",
    "solver_opt = {}\n",
    "solver_opt['print_time'] = False\n",
    "solver_opt['ipopt'] = {\n",
    "    'max_iter': 500,\n",
    "    'print_level': 1,\n",
    "    'acceptable_tol': 1e-10,\n",
    "    'acceptable_obj_change_tol': 1e-10\n",
    "}\n",
    "\n",
    "nlp = {'x':x_dec, 'g':g, 'f':obj,'p':p}\n",
    "#     print(nlp)\n",
    "solver = ca.nlpsol('solver', 'ipopt', nlp, solver_opt)\n"
   ]
  },
  {
   "cell_type": "code",
   "execution_count": 43,
   "metadata": {},
   "outputs": [],
   "source": [
    "nl_opt = {}\n",
    "# nl_opt['x0'] = ca.vertcat(*xi_list)\n",
    "\n",
    "nl_opt['x0'] = [0.1] * m + [0]* (1 + 1 + N + Nd * N * K)\n",
    "\n",
    "nl_opt['lbx'] = [0] * m \n",
    "nl_opt['ubx'] = [+ca.inf] * m \n",
    "\n",
    "nl_opt['lbx'] += [-ca.inf] * (1 + 1 + N + Nd * N * K)\n",
    "nl_opt['ubx'] += [+ca.inf] * (1 + 1 + N + Nd * N * K)\n",
    "\n",
    "nl_opt['lbg'] = [0]\n",
    "nl_opt['ubg'] = [0]\n",
    "\n",
    "for k in range(K):\n",
    "    for i in range(N):\n",
    "        nl_opt['lbg'] += [-ca.inf]\n",
    "        nl_opt['lbg'] += [-ca.inf]\n",
    "        nl_opt['lbg'] += [0]\n",
    "        \n",
    "        nl_opt['ubg'] += [0]\n",
    "        nl_opt['ubg'] += [0]\n",
    "        nl_opt['ubg'] += [ca.inf]\n",
    "        \n",
    "nl_opt['p'] = [eps, a1, a2, b1, b2] + C.flatten().tolist() + d.flatten().tolist() + ca.vertcat(*xi_hat_list).full().flatten().tolist()"
   ]
  },
  {
   "cell_type": "code",
   "execution_count": 46,
   "metadata": {},
   "outputs": [
    {
     "name": "stdout",
     "output_type": "stream",
     "text": [
      "[0.075183, 0.0810924, 0.0864332, 0.0886904, 0.107834, 0.114941, 0.119975, 0.102144, 0.116566, 0.10714]\n"
     ]
    }
   ],
   "source": [
    "N_sim = 30\n",
    "x_sum = ca.DM.zeros(m)\n",
    "x_ave_list = []\n",
    "\n",
    "# eps_scale = np.logspace(-3, 0, 10, endpoint=True)\n",
    "eps = 1\n",
    "\n",
    "for _ in range(N_sim):\n",
    "    xi_hat_list = []\n",
    "    for i in range(N):\n",
    "        psi = np.sqrt(0.02) * np.random.randn(1)\n",
    "        xi_temp_list = []\n",
    "        for j in range(m):\n",
    "            zeta_i = np.sqrt((j+1) * 0.025) * np.random.randn(1) + (j+1) * 0.03\n",
    "            xi = psi + zeta_i\n",
    "            xi_temp_list += [xi]\n",
    "        xi_hat_list += [np.array(xi_temp_list).reshape(-1,1)]\n",
    "\n",
    "\n",
    "    nl_opt['p'] = [eps, a1, a2, b1, b2] + C.flatten().tolist() + d.flatten().tolist() + ca.vertcat(*xi_hat_list).full().flatten().tolist()\n",
    "    x_sum += solver(**nl_opt)['x'][:m]\n",
    "print(x_sum/N_sim)\n",
    "\n"
   ]
  },
  {
   "cell_type": "code",
   "execution_count": 47,
   "metadata": {},
   "outputs": [
    {
     "name": "stdout",
     "output_type": "stream",
     "text": [
      "0.001\n",
      "0.0021544346900318843\n",
      "0.004641588833612777\n",
      "0.01\n",
      "0.021544346900318832\n",
      "0.046415888336127774\n",
      "0.1\n",
      "0.21544346900318823\n",
      "0.46415888336127775\n",
      "1.0\n"
     ]
    }
   ],
   "source": [
    "N_sim = 30\n",
    "x_ave_list = []\n",
    "\n",
    "eps_scale = np.logspace(-3, 0, 10, endpoint=True)\n",
    "for eps in eps_scale:\n",
    "    x_sum = ca.DM.zeros(m)\n",
    "    print(eps)\n",
    "    for _ in range(N_sim):\n",
    "        xi_hat_list = []\n",
    "        for i in range(N):\n",
    "            psi = np.sqrt(0.02) * np.random.randn(1)\n",
    "            xi_temp_list = []\n",
    "            for j in range(m):\n",
    "                zeta_i = np.sqrt((j+1) * 0.025) * np.random.randn(1) + (j+1) * 0.03\n",
    "                xi = psi + zeta_i\n",
    "                xi_temp_list += [xi]\n",
    "            xi_hat_list += [np.array(xi_temp_list).reshape(-1,1)]\n",
    "\n",
    "\n",
    "        nl_opt['p'] = [eps, a1, a2, b1, b2] + C.flatten().tolist() + d.flatten().tolist() + ca.vertcat(*xi_hat_list).full().flatten().tolist()\n",
    "        x_sum += solver(**nl_opt)['x'][:m]\n",
    "    x_ave_list += [x_sum/N_sim]\n",
    "\n"
   ]
  },
  {
   "cell_type": "code",
   "execution_count": 48,
   "metadata": {},
   "outputs": [
    {
     "data": {
      "text/plain": [
       "[DM([0.00393628, 0.043067, 0.0756781, 0.0894802, 0.103338, 0.114792, 0.116593, 0.153621, 0.152582, 0.146913]),\n",
       " DM([0.0410145, 0.0251069, 0.0614135, 0.0755137, 0.0864807, 0.11137, 0.120277, 0.148313, 0.160122, 0.170389]),\n",
       " DM([0.0187716, 0.0169175, 0.0721719, 0.060446, 0.084277, 0.138354, 0.118542, 0.134073, 0.172071, 0.184376]),\n",
       " DM([0.0153916, 0.0503087, 0.0466379, 0.0738542, 0.0887213, 0.129908, 0.159624, 0.0849504, 0.158225, 0.192379]),\n",
       " DM([0.0179365, 0.0391371, 0.0678188, 0.110508, 0.100759, 0.0965162, 0.14727, 0.151728, 0.110841, 0.157484]),\n",
       " DM([0.0163655, 0.061099, 0.0963785, 0.0792114, 0.103154, 0.136091, 0.108785, 0.157709, 0.122719, 0.118434]),\n",
       " DM([0.0516993, 0.0578628, 0.066199, 0.0894503, 0.108174, 0.112305, 0.136773, 0.118864, 0.126373, 0.1323]),\n",
       " DM([0.0605742, 0.0762052, 0.0768121, 0.0938, 0.0900608, 0.116672, 0.121387, 0.127821, 0.120446, 0.116221]),\n",
       " DM([0.0647462, 0.0686231, 0.0938788, 0.111041, 0.107379, 0.117311, 0.107214, 0.118434, 0.106737, 0.104636]),\n",
       " DM([0.0662164, 0.0888382, 0.0819931, 0.10183, 0.102086, 0.105779, 0.107031, 0.111714, 0.122818, 0.111694])]"
      ]
     },
     "execution_count": 48,
     "metadata": {},
     "output_type": "execute_result"
    }
   ],
   "source": [
    "x_ave_list"
   ]
  },
  {
   "cell_type": "code",
   "execution_count": 49,
   "metadata": {},
   "outputs": [],
   "source": [
    "x_ave_DM = ca.reshape(ca.vertcat(*x_ave_list),m,-1)"
   ]
  },
  {
   "cell_type": "code",
   "execution_count": 50,
   "metadata": {},
   "outputs": [
    {
     "data": {
      "text/plain": [
       "DM(\n",
       "[[0.00393628, 0.0410145, 0.0187716, 0.0153916, 0.0179365, 0.0163655, 0.0516993, 0.0605742, 0.0647462, 0.0662164], \n",
       " [0.043067, 0.0251069, 0.0169175, 0.0503087, 0.0391371, 0.061099, 0.0578628, 0.0762052, 0.0686231, 0.0888382], \n",
       " [0.0756781, 0.0614135, 0.0721719, 0.0466379, 0.0678188, 0.0963785, 0.066199, 0.0768121, 0.0938788, 0.0819931], \n",
       " [0.0894802, 0.0755137, 0.060446, 0.0738542, 0.110508, 0.0792114, 0.0894503, 0.0938, 0.111041, 0.10183], \n",
       " [0.103338, 0.0864807, 0.084277, 0.0887213, 0.100759, 0.103154, 0.108174, 0.0900608, 0.107379, 0.102086], \n",
       " [0.114792, 0.11137, 0.138354, 0.129908, 0.0965162, 0.136091, 0.112305, 0.116672, 0.117311, 0.105779], \n",
       " [0.116593, 0.120277, 0.118542, 0.159624, 0.14727, 0.108785, 0.136773, 0.121387, 0.107214, 0.107031], \n",
       " [0.153621, 0.148313, 0.134073, 0.0849504, 0.151728, 0.157709, 0.118864, 0.127821, 0.118434, 0.111714], \n",
       " [0.152582, 0.160122, 0.172071, 0.158225, 0.110841, 0.122719, 0.126373, 0.120446, 0.106737, 0.122818], \n",
       " [0.146913, 0.170389, 0.184376, 0.192379, 0.157484, 0.118434, 0.1323, 0.116221, 0.104636, 0.111694]])"
      ]
     },
     "execution_count": 50,
     "metadata": {},
     "output_type": "execute_result"
    }
   ],
   "source": [
    "x_ave_DM"
   ]
  },
  {
   "cell_type": "code",
   "execution_count": 56,
   "metadata": {},
   "outputs": [],
   "source": [
    "xi_ave_sum_DM = x_ave_DM\n",
    "for i in range(1,m):\n",
    "    xi_ave_sum_DM[i,:] = xi_ave_sum_DM[i-1,:] + xi_ave_sum_DM[i,:]\n",
    "        \n"
   ]
  },
  {
   "cell_type": "code",
   "execution_count": 64,
   "metadata": {},
   "outputs": [
    {
     "data": {
      "text/plain": [
       "DM(\n",
       "[[0.00393628, 0.0410145, 0.0187716, 0.0153916, 0.0179365, 0.0163655, 0.0516993, 0.0605742, 0.0647462, 0.0662164], \n",
       " [0.0470033, 0.0661214, 0.0356891, 0.0657003, 0.0570736, 0.0774645, 0.109562, 0.136779, 0.133369, 0.155055], \n",
       " [0.122681, 0.127535, 0.107861, 0.112338, 0.124892, 0.173843, 0.175761, 0.213591, 0.227248, 0.237048], \n",
       " [0.212162, 0.203049, 0.168307, 0.186192, 0.2354, 0.253054, 0.265211, 0.307391, 0.338289, 0.338878], \n",
       " [0.3155, 0.289529, 0.252584, 0.274914, 0.336159, 0.356209, 0.373386, 0.397452, 0.445668, 0.440964], \n",
       " [0.430292, 0.400899, 0.390938, 0.404821, 0.432675, 0.492299, 0.485691, 0.514124, 0.562979, 0.546742], \n",
       " [0.546885, 0.521176, 0.50948, 0.564446, 0.579945, 0.601084, 0.622463, 0.635512, 0.670193, 0.653773], \n",
       " [0.700505, 0.669489, 0.643553, 0.649396, 0.731674, 0.758793, 0.741327, 0.763333, 0.788627, 0.765487], \n",
       " [0.853087, 0.829611, 0.815624, 0.807621, 0.842515, 0.881512, 0.8677, 0.883779, 0.895364, 0.888306], \n",
       " [1, 1, 1, 1, 0.999999, 0.999946, 1, 1, 1, 1]])"
      ]
     },
     "execution_count": 64,
     "metadata": {},
     "output_type": "execute_result"
    }
   ],
   "source": [
    "xi_ave_sum_DM[0,:] = x_ave_DM[0,:]\n",
    "xi_ave_sum_DM"
   ]
  },
  {
   "cell_type": "code",
   "execution_count": 66,
   "metadata": {},
   "outputs": [
    {
     "data": {
      "text/plain": [
       "[[0.0039362845265043115,\n",
       "  0.04101449623260788,\n",
       "  0.01877157264315233,\n",
       "  0.015391622645672318,\n",
       "  0.0179365309999668,\n",
       "  0.01636546870830113,\n",
       "  0.05169931546873643,\n",
       "  0.060574156539218056,\n",
       "  0.06474619683495787,\n",
       "  0.0662164197103317],\n",
       " [0.04700327526693176,\n",
       "  0.0661214158764267,\n",
       "  0.035689121829752576,\n",
       "  0.06570034576410343,\n",
       "  0.05707358659678469,\n",
       "  0.07746451702607746,\n",
       "  0.10956215985917137,\n",
       "  0.13677935236067484,\n",
       "  0.13336933005999582,\n",
       "  0.15505462659401148],\n",
       " [0.12268134700467842,\n",
       "  0.12753486738269673,\n",
       "  0.10786097450664028,\n",
       "  0.11233821993183907,\n",
       "  0.12489234788198286,\n",
       "  0.1738430359873891,\n",
       "  0.17576119170168675,\n",
       "  0.21359142781290724,\n",
       "  0.2272481345033468,\n",
       "  0.23704773643020932],\n",
       " [0.21216157744824382,\n",
       "  0.20304852370421006,\n",
       "  0.16830697371315198,\n",
       "  0.18619242036414568,\n",
       "  0.23540046510463908,\n",
       "  0.2530544851263844,\n",
       "  0.26521147822023416,\n",
       "  0.3073914406067456,\n",
       "  0.33828884204768417,\n",
       "  0.33887784085438527],\n",
       " [0.31549980537855427,\n",
       "  0.2895291771835219,\n",
       "  0.2525839935166672,\n",
       "  0.274913694791992,\n",
       "  0.3361590341490968,\n",
       "  0.3562086277806375,\n",
       "  0.3733857453919404,\n",
       "  0.39745221553760046,\n",
       "  0.4456676814619734,\n",
       "  0.44096360768257215],\n",
       " [0.43029171157639845,\n",
       "  0.400899362527232,\n",
       "  0.39093767291209824,\n",
       "  0.4048212597780441,\n",
       "  0.4326752181178937,\n",
       "  0.49229924880445564,\n",
       "  0.48569075386141286,\n",
       "  0.5141243150926676,\n",
       "  0.5629791746209775,\n",
       "  0.5467421997725328],\n",
       " [0.5468847880767783,\n",
       "  0.5211760292341521,\n",
       "  0.5094797461142718,\n",
       "  0.5644457463536796,\n",
       "  0.5799454415160106,\n",
       "  0.6010840858544936,\n",
       "  0.6224632756449459,\n",
       "  0.6355116363116163,\n",
       "  0.6701928170843188,\n",
       "  0.6537731155856031],\n",
       " [0.7005054190946407,\n",
       "  0.6694887566373353,\n",
       "  0.6435530837993314,\n",
       "  0.6493961331022472,\n",
       "  0.7316737906227606,\n",
       "  0.758793249847463,\n",
       "  0.7413271015172144,\n",
       "  0.7633330253135132,\n",
       "  0.788626949552634,\n",
       "  0.7654874836643643],\n",
       " [0.8530870152405075,\n",
       "  0.8296109339060743,\n",
       "  0.8156240428287472,\n",
       "  0.8076207999640416,\n",
       "  0.8425152386024588,\n",
       "  0.881512096474661,\n",
       "  0.8677001525771639,\n",
       "  0.8837788057967242,\n",
       "  0.8953642773601302,\n",
       "  0.8883058522279902],\n",
       " [1.0000000219648237,\n",
       "  1.000000023011537,\n",
       "  1.0000000139582788,\n",
       "  0.999999826099337,\n",
       "  0.9999992978900982,\n",
       "  0.9999460467135268,\n",
       "  0.9999999306711519,\n",
       "  1.0000000002050722,\n",
       "  1.000000019606392,\n",
       "  0.9999999602755534]]"
      ]
     },
     "execution_count": 66,
     "metadata": {},
     "output_type": "execute_result"
    }
   ],
   "source": [
    "xi_print_list = []\n",
    "for i in range(m):\n",
    "    xi_print_list += [xi_ave_sum_DM[i,:].full().flatten().tolist()]\n",
    "xi_print_list\n"
   ]
  },
  {
   "cell_type": "code",
   "execution_count": 67,
   "metadata": {},
   "outputs": [],
   "source": [
    "import matplotlib.pyplot as plt"
   ]
  },
  {
   "cell_type": "code",
   "execution_count": 73,
   "metadata": {},
   "outputs": [
    {
     "data": {
      "image/png": "[encoded data removed]",
      "text/plain": [
       "<Figure size 432x288 with 1 Axes>"
      ]
     },
     "metadata": {
      "needs_background": "light"
     },
     "output_type": "display_data"
    }
   ],
   "source": [
    "plt.figure(1)\n",
    "plt.clf()\n",
    "\n",
    "legend = []\n",
    "for i in range (m):\n",
    "    plt.xscale('log')\n",
    "    plt.plot(eps_scale, xi_print_list[i])\n",
    "    if i == 0:\n",
    "        plt.fill_between(eps_scale, xi_print_list[i],0)\n",
    "    \n",
    "    if i > 0:\n",
    "        plt.fill_between(eps_scale, xi_print_list[i-1], xi_print_list[i])\n",
    "#     legend += ['x'+ str(i)]\n",
    "\n",
    "plt.xlabel('epsilon')\n",
    "plt.ylabel('Average portfolio weights')\n",
    "\n",
    "plt.grid()\n",
    "plt.show()\n"
   ]
  },
  {
   "cell_type": "code",
   "execution_count": null,
   "metadata": {},
   "outputs": [],
   "source": []
  }
 ],
 "metadata": {
  "kernelspec": {
   "display_name": "Python 3",
   "language": "python",
   "name": "python3"
  },
  "language_info": {
   "codemirror_mode": {
    "name": "ipython",
    "version": 3
   },
   "file_extension": ".py",
   "mimetype": "text/x-python",
   "name": "python",
   "nbconvert_exporter": "python",
   "pygments_lexer": "ipython3",
   "version": "3.7.7"
  }
 },
 "nbformat": 4,
 "nbformat_minor": 4
}
