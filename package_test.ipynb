{
 "cells": [
  {
   "cell_type": "code",
   "execution_count": 1,
   "metadata": {},
   "outputs": [],
   "source": [
    "import numpy as np\n",
    "from DRO_model import Model\n",
    "from DRO_optproblem import Opt_problem\n",
    "from DRO_simulation import Simulation\n",
    "import mosek\n",
    "import cvxpy as cp"
   ]
  },
  {
   "cell_type": "code",
   "execution_count": 2,
   "metadata": {},
   "outputs": [],
   "source": [
    "def mass_string_ode(t, x, u):\n",
    "    m = 2  # [kg]\n",
    "    k1 = 3  # [N/m]\n",
    "    k2 = 2  # [N/m]\n",
    "\n",
    "    A = np.array([[0, 1], [-k2 / m, -k1 / m]])\n",
    "    B = np.array([[0], [1 / m]])\n",
    "\n",
    "    dot_x = A @ x + B @ u\n",
    "\n",
    "    return dot_x"
   ]
  },
  {
   "cell_type": "code",
   "execution_count": 3,
   "metadata": {},
   "outputs": [
    {
     "name": "stdout",
     "output_type": "stream",
     "text": [
      "current state and input [[-2]\n",
      " [ 0]] [[0.27197548]]\n",
      "current state and input [[-1.97999203]\n",
      " [ 0.18413687]] [[0.05590207]]\n",
      "current state and input [[-1.94697882]\n",
      " [ 0.33183722]] [[-0.42046986]]\n",
      "current state and input [[-1.90141221]\n",
      " [ 0.43578587]] [[-0.31739109]]\n",
      "current state and input [[-1.84776639]\n",
      " [ 0.52591167]] [[-3.91551621]]\n",
      "current state and input [[-1.80503012]\n",
      " [ 0.44389009]] [[-0.96238658]]\n",
      "current state and input [[-1.75446001]\n",
      " [ 0.49678773]] [[-2.07285632]]\n",
      "current state and input [[-1.70349509]\n",
      " [ 0.49016458]] [[-1.65274757]]\n",
      "current state and input [[-1.65392896]\n",
      " [ 0.49816958]] [[-1.74965191]]\n",
      "current state and input [[-1.60612852]\n",
      " [ 0.49662059]] [[-2.91280426]]\n",
      "[-2, 0, -1.9815863125768518, 0.18413687423148234, -1.94680830805858, 0.33183722488226447, -1.9034002282602986, 0.4357858736317001, -1.8488210383175094, 0.5259116719638951, -1.8033773812150113, 0.4438900867837744, -1.7553513504186926, 0.49678773299269813, -1.7054435543604254, 0.4901645848134224, -1.6536781302960384, 0.4981695820911112, -1.6042668994780094, 0.4966205885017307, -1.5620256536962696, 0.44102864413916]\n"
     ]
    }
   ],
   "source": [
    "if __name__ == \"__main__\":\n",
    "\n",
    "    m = 2 #[kg]\n",
    "    k1 = 3 # [N/m]\n",
    "    k2 = 2 # [N/m]\n",
    "\n",
    "    A = np.array([[0,1],[-k2/m, -k1/m]])\n",
    "    B = np.array([[0],[1/m]])\n",
    "    delta_t = 0.1\n",
    "\n",
    "    x_init = np.array([[-2],[0]])\n",
    "\n",
    "\n",
    "    Ck = np.array([[1e-3, 0],[0, 0]])\n",
    "    D = np.array([[1, 0]])\n",
    "    E = np.array([[0,1e-3]])\n",
    "    N = 5\n",
    "\n",
    "    model = Model(A, B, Ck, D, E, x_init, N, delta_t)\n",
    "\n",
    "\n",
    "    Q = np.diag([10, 1])\n",
    "    Qf = np.diag([15, 1])\n",
    "    R = np.diag([1])\n",
    "\n",
    "    d = model.d\n",
    "    mu = np.zeros([d, 1])\n",
    "    mu_w = np.vstack([1] + [mu] * N)\n",
    "    M_w = mu_w @ mu_w.T + np.diag([0] + [1] * N * d)\n",
    "    beta = 0.95\n",
    "    N_sample = 3\n",
    "    i_th_state = 1\n",
    "    i_state_ub = 0.5\n",
    "    epsilon = 1\n",
    "    sin_const = 2\n",
    "    N_sim = 10\n",
    "\n",
    "    sim = Simulation(model, Q, Qf, R, mu, x_init, beta = beta, N_sample = N_sample, i_th_state = i_th_state, i_state_ub = i_state_ub, epsilon = epsilon,\n",
    "    sin_const = sin_const, N_sim=N_sim, mode = \"gene\")\n",
    "    print(sim.x_sim)"
   ]
  }
 ],
 "metadata": {
  "kernelspec": {
   "display_name": "Python 3",
   "language": "python",
   "name": "python3"
  },
  "language_info": {
   "codemirror_mode": {
    "name": "ipython",
    "version": 3
   },
   "file_extension": ".py",
   "mimetype": "text/x-python",
   "name": "python",
   "nbconvert_exporter": "python",
   "pygments_lexer": "ipython3",
   "version": "3.7.7"
  }
 },
 "nbformat": 4,
 "nbformat_minor": 4
}
