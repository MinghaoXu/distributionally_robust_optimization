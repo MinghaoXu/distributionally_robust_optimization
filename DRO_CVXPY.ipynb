{
  "nbformat": 4,
  "nbformat_minor": 0,
  "metadata": {
    "colab": {
      "name": "DRO_CVXPY.ipynb",
      "provenance": [],
      "collapsed_sections": []
    },
    "kernelspec": {
      "name": "python3",
      "display_name": "Python 3"
    }
  },
  "cells": [
    {
      "cell_type": "code",
      "metadata": {
        "id": "fhLwXDHijcjp"
      },
      "source": [
        "import cvxpy as cp\n",
        "import numpy as np\n",
        "import matplotlib.pyplot as plt"
      ],
      "execution_count": 82,
      "outputs": []
    },
    {
      "cell_type": "markdown",
      "metadata": {
        "id": "FMqKb7QJ7RMi"
      },
      "source": [
        "$$\n",
        "\\widehat{J}_{N}(\\varepsilon)=\\left\\{\\begin{array}{cll}\n",
        "\\inf _{x, \\tau, \\lambda, s_{i}, \\gamma_{i k}} & \\lambda \\varepsilon+\\frac{1}{N} \\sum_{i=1}^{N} s_{i} \\\\\n",
        "& \\text { s.t. } & x \\in \\mathbb{X} \\\\\n",
        "& b_{k} \\tau+a_{k}\\left\\langle x, \\widehat{\\xi}_{i}\\right\\rangle+\\left\\langle\\gamma_{i k}, d-C \\widehat{\\xi}_{i}\\right\\rangle \\leq s_{i} & \\forall i \\leq N, \\forall k \\leq K \\\\\n",
        "& \\left\\|C^{\\top} \\gamma_{i k}-a_{k} x\\right\\|_{*} \\leq \\lambda & \\forall i \\leq N, \\forall k \\leq K \\\\\n",
        "& \\gamma_{i k} \\geq 0 & \\forall i \\leq N, \\forall k \\leq K .\n",
        "\\end{array}\\right.\n",
        "$$"
      ]
    },
    {
      "cell_type": "code",
      "metadata": {
        "id": "33BvtH887MMt"
      },
      "source": [
        "m = 10\n",
        "N = 30\n",
        "Nd = 1\n",
        "K = 2\n",
        "rho = 10\n",
        "alpha = 0.2\n",
        "\n",
        "x = cp.Variable((m,1),nonneg=True)\n",
        "tau = cp.Variable()\n",
        "lambda_ = cp.Variable()\n",
        "s = cp.Variable((N,1))\n",
        "gamma_ik = [ [cp.Variable((Nd,1)) for i in range(N)] for j in range(K)]\n",
        "\n",
        "eps = cp.Parameter(nonneg=True)\n",
        "eps.value = 0.1\n",
        "a1 = -1\n",
        "a2 = -1 - rho/alpha\n",
        "b1 = rho\n",
        "b2 = rho * (1 - 1/alpha)\n",
        "a = [a1, a2]\n",
        "b = [b1, b2]\n",
        "\n",
        "C = np.zeros((Nd,m))\n",
        "d = np.zeros((Nd,1))\n",
        "\n",
        "xi_hat_para = cp.Parameter((m,N))"
      ],
      "execution_count": 83,
      "outputs": []
    },
    {
      "cell_type": "code",
      "metadata": {
        "id": "Vhw966f7cgdy"
      },
      "source": [
        "obj = cp.Minimize(lambda_ * eps + 1/N * cp.sum(s))\n",
        "constraint = [cp.sum(x) == 1]\n",
        "\n",
        "for k in range(K):\n",
        "  for i in range(N):\n",
        "    constraint += [b[k]*tau + a[k] * x.T @ xi_hat_para[:,i] + gamma_ik[k][i].T @ (d - C @ xi_hat_para[:,i]) <= s[i]]\n",
        "    constraint += [ cp.norm(C.T @ gamma_ik[k][i] - a[k] * x , \"inf\") <= lambda_]\n",
        "    constraint += [ gamma_ik[k][i] >= 0]"
      ],
      "execution_count": 84,
      "outputs": []
    },
    {
      "cell_type": "code",
      "metadata": {
        "id": "raHU3GXjca1D"
      },
      "source": [
        "\n"
      ],
      "execution_count": 84,
      "outputs": []
    },
    {
      "cell_type": "code",
      "metadata": {
        "id": "tc8J6MplcZN6"
      },
      "source": [
        "np.random.seed(1)\n",
        "xi_hat_list = []\n",
        "for i in range(N):\n",
        "    psi = np.sqrt(0.02) * np.random.randn(1)\n",
        "    xi_temp_list = []\n",
        "    for j in range(m):\n",
        "        zeta_i = np.sqrt( (j+1) * 0.025) * np.random.randn(1) + (j+1) * 0.03\n",
        "        xi = psi + zeta_i\n",
        "        xi_temp_list += [xi]\n",
        "    xi_hat_list += [np.array(xi_temp_list).reshape(-1,1)]\n",
        "    # xi_hat_list = np.hstack((xi_hat_list, np.array(xi_temp_list).reshape(-1,1)))"
      ],
      "execution_count": 85,
      "outputs": []
    },
    {
      "cell_type": "code",
      "metadata": {
        "colab": {
          "base_uri": "https://localhost:8080/"
        },
        "id": "AWkQ4U_Ie0A4",
        "outputId": "c86bdb38-142b-456c-ce9e-381db72d680b"
      },
      "source": [
        "xi_hat_para.shape"
      ],
      "execution_count": 64,
      "outputs": [
        {
          "output_type": "execute_result",
          "data": {
            "text/plain": [
              "(10, 30)"
            ]
          },
          "metadata": {
            "tags": []
          },
          "execution_count": 64
        }
      ]
    },
    {
      "cell_type": "code",
      "metadata": {
        "id": "b8DGv2yNdN6K"
      },
      "source": [
        "xi_hat_sample = np.concatenate( xi_hat_list, axis=1)\n",
        "# xi_hat_sample = np.concatenate( xi_hat_list, axis=1).shape\n",
        "xi_hat_para.value = xi_hat_sample\n"
      ],
      "execution_count": 65,
      "outputs": []
    },
    {
      "cell_type": "markdown",
      "metadata": {
        "id": "bMoBkvPDfpLX"
      },
      "source": [
        "$$\n",
        "\\psi \\sim \\mathcal{N}(0,2 \\%)\n",
        "$$\n",
        "\n",
        "$$\n",
        "\\zeta_{i} \\sim \\mathcal{N}(i \\times 3 \\%, i \\times 2.5 \\%)\n",
        "$$\n",
        "\n",
        "$$\n",
        "\\xi_{i}=\\psi+\\zeta_{i}\n",
        "$$"
      ]
    },
    {
      "cell_type": "markdown",
      "metadata": {
        "id": "T3bJuE-sTu-s"
      },
      "source": [
        "$$\n",
        "\\|z\\|_{*}:=\\sup _{\\|\\xi\\| \\leq 1}\\langle z, \\xi\\rangle\n",
        "$$"
      ]
    },
    {
      "cell_type": "code",
      "metadata": {
        "colab": {
          "base_uri": "https://localhost:8080/"
        },
        "id": "4-2OZ51NmIIW",
        "outputId": "cf371d37-61ba-4f7c-b97a-61ea485403dd"
      },
      "source": [
        "prob = cp.Problem(obj, constraint)\n",
        "prob.solve()"
      ],
      "execution_count": 66,
      "outputs": [
        {
          "output_type": "execute_result",
          "data": {
            "text/plain": [
              "0.06568634943565405"
            ]
          },
          "metadata": {
            "tags": []
          },
          "execution_count": 66
        }
      ]
    },
    {
      "cell_type": "code",
      "metadata": {
        "colab": {
          "base_uri": "https://localhost:8080/"
        },
        "id": "Tpwya0LaIopE",
        "outputId": "6fd61e5f-11f9-4f0a-a7f8-2286421354e4"
      },
      "source": [
        "x.value"
      ],
      "execution_count": 67,
      "outputs": [
        {
          "output_type": "execute_result",
          "data": {
            "text/plain": [
              "array([[1.24221166e-13],\n",
              "       [1.34378524e-01],\n",
              "       [1.34378524e-01],\n",
              "       [8.27777843e-02],\n",
              "       [1.10951070e-01],\n",
              "       [1.34378524e-01],\n",
              "       [0.00000000e+00],\n",
              "       [1.34378524e-01],\n",
              "       [1.34378524e-01],\n",
              "       [1.34378524e-01]])"
            ]
          },
          "metadata": {
            "tags": []
          },
          "execution_count": 67
        }
      ]
    },
    {
      "cell_type": "code",
      "metadata": {
        "colab": {
          "base_uri": "https://localhost:8080/"
        },
        "id": "hrTWO3gufqbh",
        "outputId": "e78eaed7-28fe-45ce-b88f-b6db9c204f02"
      },
      "source": [
        "np.zeros((m,1))"
      ],
      "execution_count": 69,
      "outputs": [
        {
          "output_type": "execute_result",
          "data": {
            "text/plain": [
              "array([[0.],\n",
              "       [0.],\n",
              "       [0.],\n",
              "       [0.],\n",
              "       [0.],\n",
              "       [0.],\n",
              "       [0.],\n",
              "       [0.],\n",
              "       [0.],\n",
              "       [0.]])"
            ]
          },
          "metadata": {
            "tags": []
          },
          "execution_count": 69
        }
      ]
    },
    {
      "cell_type": "code",
      "metadata": {
        "colab": {
          "base_uri": "https://localhost:8080/"
        },
        "id": "3-2odAJhfYTi",
        "outputId": "7fb7b464-e021-4989-e5ee-5b480af671b7"
      },
      "source": [
        "N_sim = 30\n",
        "x_ave_list = []\n",
        "\n",
        "eps_scale = np.logspace(-3, 0, 10, endpoint=True)\n",
        "for eps_temp in eps_scale:\n",
        "    eps.value = eps_temp\n",
        "    x_sum = np.zeros((m,1))\n",
        "    print(eps_temp)\n",
        "    for _ in range(N_sim):\n",
        "        xi_hat_list = []\n",
        "        for i in range(N):\n",
        "            psi = np.sqrt(0.02) * np.random.randn(1)\n",
        "            xi_temp_list = []\n",
        "            for j in range(m):\n",
        "                zeta_i = np.sqrt((j+1) * 0.025) * np.random.randn(1) + (j+1) * 0.03\n",
        "                xi = psi + zeta_i\n",
        "                xi_temp_list += [xi]\n",
        "            xi_hat_list += [np.array(xi_temp_list).reshape(-1,1)]\n",
        "\n",
        "        xi_hat_sample = np.concatenate( xi_hat_list, axis=1)\n",
        "        xi_hat_para.value = xi_hat_sample\n",
        "        \n",
        "        prob = cp.Problem(obj, constraint)\n",
        "        prob.solve()\n",
        "\n",
        "        x_sum += x.value\n",
        "    x_ave_list += [x_sum/N_sim]"
      ],
      "execution_count": 71,
      "outputs": [
        {
          "output_type": "stream",
          "text": [
            "0.001\n",
            "0.0021544346900318843\n",
            "0.004641588833612777\n",
            "0.01\n",
            "0.021544346900318832\n",
            "0.046415888336127774\n",
            "0.1\n",
            "0.21544346900318823\n",
            "0.46415888336127775\n",
            "1.0\n"
          ],
          "name": "stdout"
        }
      ]
    },
    {
      "cell_type": "code",
      "metadata": {
        "colab": {
          "base_uri": "https://localhost:8080/"
        },
        "id": "TZCHNtCpgMsC",
        "outputId": "e60a1724-436c-41d8-f2d8-dca1860dd622"
      },
      "source": [
        "x_ave_list\n",
        "x_ave_np = np.concatenate(x_ave_list, axis=1)\n",
        "x_ave_np"
      ],
      "execution_count": 75,
      "outputs": [
        {
          "output_type": "execute_result",
          "data": {
            "text/plain": [
              "array([[0.00657414, 0.02121984, 0.01796812, 0.007104  , 0.01430076,\n",
              "        0.04994495, 0.04741586, 0.09388337, 0.10058643, 0.1       ],\n",
              "       [0.04423712, 0.01718036, 0.03475433, 0.04978397, 0.03241714,\n",
              "        0.02936895, 0.08351015, 0.09327131, 0.09791076, 0.1       ],\n",
              "       [0.08786582, 0.07363428, 0.0532827 , 0.04556614, 0.08376229,\n",
              "        0.07615346, 0.07703635, 0.09782458, 0.10121454, 0.1       ],\n",
              "       [0.08634782, 0.09846839, 0.08298219, 0.08839804, 0.09963412,\n",
              "        0.07154556, 0.1038966 , 0.11453917, 0.10155345, 0.1       ],\n",
              "       [0.10175535, 0.09060246, 0.09041335, 0.10865947, 0.11097839,\n",
              "        0.07171183, 0.08031742, 0.09378288, 0.09689472, 0.1       ],\n",
              "       [0.10312428, 0.11033385, 0.10911632, 0.13230257, 0.11112254,\n",
              "        0.10717635, 0.09886194, 0.09282987, 0.09718471, 0.1       ],\n",
              "       [0.10318555, 0.10377536, 0.11545511, 0.12070907, 0.14161489,\n",
              "        0.14934597, 0.12432923, 0.10150543, 0.10160471, 0.1       ],\n",
              "       [0.1573507 , 0.1244221 , 0.21104064, 0.14936644, 0.12836051,\n",
              "        0.13838749, 0.12521883, 0.10932646, 0.10160471, 0.1       ],\n",
              "       [0.14623407, 0.21253376, 0.13886539, 0.13118432, 0.13253503,\n",
              "        0.15239265, 0.12164908, 0.10257393, 0.10069291, 0.1       ],\n",
              "       [0.16332516, 0.1478296 , 0.14612186, 0.16692599, 0.14527433,\n",
              "        0.15397278, 0.13776455, 0.100463  , 0.10075305, 0.1       ]])"
            ]
          },
          "metadata": {
            "tags": []
          },
          "execution_count": 75
        }
      ]
    },
    {
      "cell_type": "code",
      "metadata": {
        "id": "ybK8Zrmwgu9d"
      },
      "source": [
        "xi_ave_sum_np = x_ave_np\n",
        "for i in range(1,m):\n",
        "    xi_ave_sum_np[i,:] = xi_ave_sum_np[i-1,:] + xi_ave_sum_np[i,:]"
      ],
      "execution_count": 76,
      "outputs": []
    },
    {
      "cell_type": "code",
      "metadata": {
        "colab": {
          "base_uri": "https://localhost:8080/"
        },
        "id": "ZD9MweMjhg7a",
        "outputId": "9987d790-38bc-48bf-c202-cbf325ddf433"
      },
      "source": [
        "xi_print_list = []\n",
        "for i in range(m):\n",
        "    xi_print_list += [xi_ave_sum_np[i,:].flatten().tolist()]\n",
        "xi_print_list"
      ],
      "execution_count": 80,
      "outputs": [
        {
          "output_type": "execute_result",
          "data": {
            "text/plain": [
              "[[0.006574141459885774,\n",
              "  0.021219840231286854,\n",
              "  0.017968121288963225,\n",
              "  0.007104000190706467,\n",
              "  0.01430075937366266,\n",
              "  0.049944950582355374,\n",
              "  0.04741585728699208,\n",
              "  0.0938833659261553,\n",
              "  0.10058643334295521,\n",
              "  0.1000000000000203],\n",
              " [0.050811258647512826,\n",
              "  0.03840019623406832,\n",
              "  0.05272245005888477,\n",
              "  0.05688796889013194,\n",
              "  0.046717901756195626,\n",
              "  0.0793138976413657,\n",
              "  0.1309260067936292,\n",
              "  0.18715467841669453,\n",
              "  0.19849719693764978,\n",
              "  0.19999999999943815],\n",
              " [0.13867707848239338,\n",
              "  0.11203447526840529,\n",
              "  0.10600514695711241,\n",
              "  0.1024541079808454,\n",
              "  0.13048018902856845,\n",
              "  0.15546736061266794,\n",
              "  0.2079623542283795,\n",
              "  0.28497925457961026,\n",
              "  0.2997117341346554,\n",
              "  0.29999999999986926],\n",
              " [0.22502489503729073,\n",
              "  0.21050286720940975,\n",
              "  0.18898733410214436,\n",
              "  0.19085215162899416,\n",
              "  0.23011431173505248,\n",
              "  0.22701292307571658,\n",
              "  0.3118589552920646,\n",
              "  0.3995184244287067,\n",
              "  0.40126518056802,\n",
              "  0.39999999999917535],\n",
              " [0.32678024743153017,\n",
              "  0.30110533178652066,\n",
              "  0.2794006867113743,\n",
              "  0.2995116236434604,\n",
              "  0.3410927061857768,\n",
              "  0.29872475656314584,\n",
              "  0.3921763772177916,\n",
              "  0.4933013049140291,\n",
              "  0.49815990346487166,\n",
              "  0.5000000000001776],\n",
              " [0.4299045280857805,\n",
              "  0.4114391840168935,\n",
              "  0.388517004950998,\n",
              "  0.4318141943611745,\n",
              "  0.45221524787164985,\n",
              "  0.40590111100455056,\n",
              "  0.49103831840988343,\n",
              "  0.5861311716110621,\n",
              "  0.5953446139134178,\n",
              "  0.6000000000008308],\n",
              " [0.5330900756992754,\n",
              "  0.5152145405113643,\n",
              "  0.503972115769252,\n",
              "  0.5525232596140359,\n",
              "  0.5938301361796451,\n",
              "  0.5552470786032119,\n",
              "  0.6153675481083623,\n",
              "  0.6876366060612952,\n",
              "  0.6969493268110929,\n",
              "  0.7000000000013094],\n",
              " [0.6904407773931832,\n",
              "  0.6396366373154552,\n",
              "  0.715012750839868,\n",
              "  0.7018896979076122,\n",
              "  0.7221906414034132,\n",
              "  0.6936345709646282,\n",
              "  0.7405863731456586,\n",
              "  0.7969630696213572,\n",
              "  0.7985540397061974,\n",
              "  0.7999999999992141],\n",
              " [0.8366748436653337,\n",
              "  0.8521703969684556,\n",
              "  0.8538781406024567,\n",
              "  0.8330740146282614,\n",
              "  0.8547256667794239,\n",
              "  0.846027220162616,\n",
              "  0.862235451223553,\n",
              "  0.8995369967975749,\n",
              "  0.8992469478797841,\n",
              "  0.8999999999994907],\n",
              " [1.0000000000000027,\n",
              "  1.0000000000000013,\n",
              "  1.0000000000000018,\n",
              "  0.9999999999999939,\n",
              "  1.0000000000000029,\n",
              "  1.0000000000000004,\n",
              "  1.000000000000005,\n",
              "  1.0000000000000036,\n",
              "  1.0,\n",
              "  0.9999999999999998]]"
            ]
          },
          "metadata": {
            "tags": []
          },
          "execution_count": 80
        }
      ]
    },
    {
      "cell_type": "code",
      "metadata": {
        "colab": {
          "base_uri": "https://localhost:8080/",
          "height": 283
        },
        "id": "h0bOTKlYhjCA",
        "outputId": "aed30370-15b9-414a-9beb-f97b44844e70"
      },
      "source": [
        "plt.figure(1)\n",
        "plt.clf()\n",
        "\n",
        "legend = []\n",
        "for i in range (m):\n",
        "    plt.xscale('log')\n",
        "    plt.plot(eps_scale, xi_print_list[i])\n",
        "    if i == 0:\n",
        "        plt.fill_between(eps_scale, xi_print_list[i],0)\n",
        "    \n",
        "    if i > 0:\n",
        "        plt.fill_between(eps_scale, xi_print_list[i-1], xi_print_list[i])\n",
        "#     legend += ['x'+ str(i)]\n",
        "\n",
        "plt.xlabel('epsilon')\n",
        "plt.ylabel('Average portfolio weights')\n",
        "\n",
        "plt.grid()\n",
        "plt.show()\n"
      ],
      "execution_count": 86,
      "outputs": [
        {
          "output_type": "display_data",
          "data": {
            "image/png": "[encoded data removed]",
            "text/plain": [
              "<Figure size 432x288 with 1 Axes>"
            ]
          },
          "metadata": {
            "tags": [],
            "needs_background": "light"
          }
        }
      ]
    },
    {
      "cell_type": "markdown",
      "metadata": {
        "id": "DcO2VqZ3kgux"
      },
      "source": [
        "$$\n",
        "J\\left(\\widehat{x}_{N}(\\varepsilon)\\right):=\\mathbb{E}^{\\mathbb{P}}\\left[-\\left\\langle\\widehat{x}_{N}(\\varepsilon), \\xi\\right\\rangle\\right]+\\rho \\mathbb{P}-\\operatorname{CVaR}_{\\alpha}\\left(-\\left\\langle\\widehat{x}_{N}(\\varepsilon), \\xi\\right\\rangle\\right)\n",
        "$$"
      ]
    },
    {
      "cell_type": "code",
      "metadata": {
        "id": "HBJEYhlAhy7x"
      },
      "source": [
        ""
      ],
      "execution_count": null,
      "outputs": []
    }
  ]
}