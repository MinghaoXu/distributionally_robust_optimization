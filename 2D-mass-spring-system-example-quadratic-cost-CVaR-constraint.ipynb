{
 "cells": [
  {
   "cell_type": "code",
   "execution_count": 1,
   "metadata": {},
   "outputs": [],
   "source": [
    "import numpy as np\n",
    "import scipy.linalg\n",
    "import cvxpy as cp\n",
    "from numpy.linalg import matrix_power"
   ]
  },
  {
   "cell_type": "markdown",
   "metadata": {},
   "source": [
    "A Robust Learning Approach for Regression Models Based on Distributionally Robust Optimization"
   ]
  },
  {
   "cell_type": "code",
   "execution_count": 2,
   "metadata": {},
   "outputs": [],
   "source": [
    "def dlqr(A,B,Q,R):\n",
    "    \"\"\"\n",
    "    Calculates the optimal gain matrix K for system\n",
    "    x[k+1] = A x[k] + B u[k]\n",
    "    with cost = sum x[k].T*Q*x[k] + u[k].T*R*u[k], such that\n",
    "    u[k] = -K x[k]\n",
    "    \n",
    "    Returns: \n",
    "        -K\n",
    "    \"\"\"\n",
    "    # first, solve the ricatti equation\n",
    "    P = np.matrix(scipy.linalg.solve_discrete_are(A, B, Q, R))\n",
    "    # compute the LQR gain\n",
    "    K = np.matrix(scipy.linalg.inv(B.T*P*B+R)*(B.T*P*A))\n",
    "    return -K"
   ]
  },
  {
   "cell_type": "code",
   "execution_count": 3,
   "metadata": {},
   "outputs": [],
   "source": [
    "def disc_linear_system(A,B,delta_t):\n",
    "    '''\n",
    "    Discrete a linear system with implicit Euler\n",
    "    x[k+1] = (I - delta_t * A)^{-1} @ x[k] + (I - delta_t * A)^{-1} @ (delta_t * B) @ u[k]\n",
    "    \n",
    "    Returns:\n",
    "        Ak\n",
    "        Bk\n",
    "    \n",
    "    ''' \n",
    "    Nx = np.shape(A)[0]\n",
    "    Ix = np.identity(Nx)\n",
    "    \n",
    "    Ak = np.linalg.inv(Ix - delta_t * A)\n",
    "    Bk = np.linalg.inv(Ix - delta_t * A) @ (delta_t * B)\n",
    "    \n",
    "    \n",
    "    return Ak, Bk"
   ]
  },
  {
   "cell_type": "code",
   "execution_count": 4,
   "metadata": {},
   "outputs": [],
   "source": [
    "def RK4_np(f, x, u, t, h):\n",
    "    \"\"\"\n",
    "    Runge-Kutta 4th order solver using numpy array data type.\n",
    "\n",
    "    Args:\n",
    "        f: A function returning first order ODE in 2D numpy array (Nx x 1).\n",
    "        x: Current value (list or numpy array). \n",
    "        t: Current time.\n",
    "        h: Step length.\n",
    "    Returns:\n",
    "        x_next: Vector of next value in 2D numpy array (Nx x 1)\n",
    "    \"\"\"\n",
    "    x = np.reshape(x, (np.shape(x)[0], -1))    # Reshape x to col vector in np 2D array\n",
    "    k1 = f(t, x, u)\n",
    "    k2 = f(t + h / 2, x + h / 2 * k1, u)\n",
    "    k3 = f(t + h / 2, x + h / 2 * k2, u)\n",
    "    k4 = f(t + h, x + h * k3, u)\n",
    "    x_next = x + h / 6 * (k1 + 2 * k2 + 2 * k3 + k4)\n",
    "    return x_next"
   ]
  },
  {
   "cell_type": "code",
   "execution_count": 5,
   "metadata": {},
   "outputs": [],
   "source": [
    "def mass_string_ode(t, x, u):\n",
    "    m = 2 #[kg]\n",
    "    k1 = 3 # [N/m]\n",
    "    k2 = 2 # [N/m]\n",
    "    \n",
    "    A = np.array([[0,1],[-k2/m, -k1/m]])\n",
    "    B = np.array([[0],[1/m]])\n",
    "    \n",
    "    dot_x = A @ x + B @ u\n",
    "    \n",
    "    return dot_x"
   ]
  },
  {
   "cell_type": "code",
   "execution_count": 6,
   "metadata": {},
   "outputs": [],
   "source": [
    "def stack_system(A, B, C, D, E, x_init, N):\n",
    "    '''\n",
    "    Stack system matrix for N prediction horizon\n",
    "    \n",
    "    x_next = A x_k + B u_k + C w_k\n",
    "    y_k = D x_k + E w_k\n",
    "    \n",
    "    '''\n",
    "\n",
    "    n = np.shape(A)[1]    #  Dimension of state\n",
    "    m = np.shape(B)[1]    #  Dimension of input\n",
    "    d = np.shape(C)[1]    #  Dimension of disturbance\n",
    "    r = np.shape(D)[0]    #  Dimension of output\n",
    "    \n",
    "#     print(Nx,Nu,Nw,Ny)\n",
    "    Nx = (N+1) * n\n",
    "    Nu = N * m\n",
    "    Ny = N * r\n",
    "    Nw = N * d\n",
    "    \n",
    "    Ax = np.zeros([Nx,n])\n",
    "    Bx = np.zeros([Nx,Nu])\n",
    "    Cx = np.zeros([Nx,Nw])\n",
    "    Ay = np.zeros([Ny,n])\n",
    "    By = np.zeros([Ny,Nu])\n",
    "    Cy = np.zeros([Ny,Nw])\n",
    "    Ey = np.zeros([Ny,Nw])\n",
    "    Cx_tilde = np.zeros([Nx, Nw + 1])\n",
    "    Cy_tilde = np.zeros([Ny + 1, Nw + 1])\n",
    "    Ey_tilde = np.zeros([Ny + 1, Nw + 1])\n",
    "    D_tilde = np.zeros([Ny + 1, Nx])\n",
    "#     H\n",
    "\n",
    "# Ax\n",
    "    for i in range(N+1):\n",
    "        Ax[i*n:(i+1)*n,:] = matrix_power(A,i)\n",
    "# Bx\n",
    "    for i in range(N):\n",
    "        mat_temp = B\n",
    "        for j in range (i+1):\n",
    "            Bx[(i + 1) * n : (i + 2) * n, (i-j) * m: (i-j+1) * m ] = mat_temp\n",
    "            mat_temp = A @ mat_temp\n",
    "# Cx\n",
    "    for i in range(N):\n",
    "        mat_temp = C\n",
    "        for j in range (i+1):\n",
    "            Cx[(i + 1) * n : (i + 2) * n, (i-j) * d: (i-j+1) * d ] = mat_temp\n",
    "            mat_temp = A @ mat_temp\n",
    "# Ay\n",
    "    for i in range(N):\n",
    "        Ay[i*r:(i+1)*r,:] = D @ matrix_power(A,i) \n",
    "# By\n",
    "    for i in range(N):\n",
    "        mat_temp = B\n",
    "        for j in range (i+1):\n",
    "            By[(i + 1) * r : (i + 2) * r, (i-j) * m: (i-j+1) * m ] = D @ mat_temp\n",
    "            mat_temp = A @ mat_temp\n",
    "# Cy\n",
    "    for i in range(N):\n",
    "        mat_temp = C\n",
    "        for j in range (i+1):\n",
    "            Cy[(i + 1) * r : (i + 2) * r, (i-j) * d: (i-j+1) * d ] = D @ mat_temp\n",
    "            mat_temp = A @ mat_temp\n",
    "# Ey\n",
    "    for i in range(N):\n",
    "        Ey[i * r : (i+1)*r, i * d : (i+1) * d] = E\n",
    "# Cx_tilde\n",
    "    Cx_tilde[ : , 0 : 1 ] = Ax @ x_init\n",
    "    Cx_tilde[ : , 1 : ] = Cx\n",
    "# Cy_tilde\n",
    "    Cy_tilde[ r : , 0 : 1 ] = Ay @ x_init\n",
    "    Cy_tilde[ r : , 1 : ] = Cy\n",
    "# Ey_tilde\n",
    "    Ey_tilde[0, 0] = 1\n",
    "    Ey_tilde[1:, 1:] = Ey\n",
    "# D_tilde\n",
    "    for i in range(N):\n",
    "        D_tilde[1 + i * r : 1 + (i+1) * r, i * d : (i+1) * d] = D\n",
    "        \n",
    "    return n, m, d, r, Nx, Nu, Ny, Nw, Ax, Bx, Cx, Ay, By, Cy, Ey, Cx_tilde, Cy_tilde, Ey_tilde, D_tilde "
   ]
  },
  {
   "cell_type": "markdown",
   "metadata": {},
   "source": [
    "Continuous-time system\n",
    "\n",
    "$\\begin{aligned}\\left[\\begin{array}{c}\\dot{x}_{1}(t) \\\\ \\dot{x}_{2}(t)\\end{array}\\right] &=\\left[\\begin{array}{cc}0 & 1 \\\\ -k_{2} / m & -k_{1} / m\\end{array}\\right]\\left[\\begin{array}{l}x_{1}(t) \\\\ x_{2}(t)\\end{array}\\right]+\\left[\\begin{array}{c}0 \\\\ 1 / m\\end{array}\\right] u(t) \\\\ y(t) &=\\left[\\begin{array}{ll}1 & 0\\end{array}\\right]\\left[\\begin{array}{l}x_{1}(t) \\\\ x_{2}(t)\\end{array}\\right] \\end{aligned}$"
   ]
  },
  {
   "cell_type": "code",
   "execution_count": 7,
   "metadata": {},
   "outputs": [],
   "source": [
    "m = 2 #[kg]\n",
    "k1 = 3 # [N/m]\n",
    "k2 = 2 # [N/m]\n",
    "\n",
    "para = [m, k1, k2]\n",
    "\n",
    "x_init = np.array([[-2],[0]])"
   ]
  },
  {
   "cell_type": "code",
   "execution_count": 8,
   "metadata": {},
   "outputs": [],
   "source": [
    "A = np.array([[0,1],[-k2/m, -k1/m]])\n",
    "B = np.array([[0],[1/m]])\n",
    "delta_t = 0.1"
   ]
  },
  {
   "cell_type": "code",
   "execution_count": 9,
   "metadata": {},
   "outputs": [],
   "source": [
    "Ak,Bk = disc_linear_system(A,B,delta_t)"
   ]
  },
  {
   "cell_type": "code",
   "execution_count": 10,
   "metadata": {},
   "outputs": [
    {
     "data": {
      "text/plain": [
       "array([[ 0.99137931,  0.0862069 ],\n",
       "       [-0.0862069 ,  0.86206897]])"
      ]
     },
     "execution_count": 10,
     "metadata": {},
     "output_type": "execute_result"
    }
   ],
   "source": [
    "Ak"
   ]
  },
  {
   "cell_type": "code",
   "execution_count": 11,
   "metadata": {},
   "outputs": [
    {
     "data": {
      "text/plain": [
       "array([[0.00431034],\n",
       "       [0.04310345]])"
      ]
     },
     "execution_count": 11,
     "metadata": {},
     "output_type": "execute_result"
    }
   ],
   "source": [
    "Bk"
   ]
  },
  {
   "cell_type": "code",
   "execution_count": 12,
   "metadata": {},
   "outputs": [],
   "source": [
    "Ck = np.array([[1e-3, 0],[0, 0]])\n",
    "D = np.array([[1, 0]])\n",
    "E = np.array([[0,1e-3]])\n",
    "\n",
    "N = 5\n",
    "n, m, d, r, Nx, Nu, Ny, Nw, Ax, Bx, Cx, Ay, By, Cy, Ey, Cx_tilde, Cy_tilde, Ey_tilde, D_tilde  = stack_system(Ak,Bk,Ck,D,E, x_init, N)"
   ]
  },
  {
   "cell_type": "code",
   "execution_count": 13,
   "metadata": {},
   "outputs": [],
   "source": [
    "Q = np.diag([10,1])\n",
    "Qf = np.diag([15,1])\n",
    "R = np.diag([1])"
   ]
  },
  {
   "cell_type": "code",
   "execution_count": 14,
   "metadata": {},
   "outputs": [],
   "source": [
    "neg_K = dlqr(Ak,Bk,Q,R)"
   ]
  },
  {
   "cell_type": "code",
   "execution_count": 15,
   "metadata": {},
   "outputs": [
    {
     "data": {
      "text/plain": [
       "matrix([[-1.64465128, -1.02359576]])"
      ]
     },
     "execution_count": 15,
     "metadata": {},
     "output_type": "execute_result"
    }
   ],
   "source": [
    "neg_K"
   ]
  },
  {
   "cell_type": "code",
   "execution_count": 16,
   "metadata": {},
   "outputs": [],
   "source": [
    "N_sim = 100\n",
    "\n",
    "\n",
    "t0 = 0\n",
    "\n",
    "xk = x_init\n",
    "uk = 0\n",
    "t = t0\n",
    "h = delta_t\n",
    "\n",
    "x_list = []\n",
    "x_list += [xk.flatten().tolist()]\n",
    "u_list = []\n",
    "for i in range(N_sim):\n",
    "    wk = np.random.randn(d,1)    \n",
    "    uk = neg_K @ xk\n",
    "    u_list +=  uk.flatten().tolist() \n",
    "    x_kp1 = RK4_np(mass_string_ode, xk, uk, t, h)\n",
    "    x_list += x_kp1.flatten().tolist()\n",
    "    xk = x_kp1\n",
    "    xk += Ck @ wk"
   ]
  },
  {
   "cell_type": "code",
   "execution_count": 17,
   "metadata": {},
   "outputs": [
    {
     "data": {
      "text/plain": [
       "[[3.289302564456352],\n",
       " [2.9143304455734382],\n",
       " [2.559423712216641],\n",
       " [2.227483124945789],\n",
       " [1.9190003163673781],\n",
       " [1.6306539913523577],\n",
       " [1.367009302277696],\n",
       " [1.1328010388330563],\n",
       " [0.9208723946122463],\n",
       " [0.7312745679554697],\n",
       " [0.563151582540111],\n",
       " [0.41538396226541563],\n",
       " [0.2895973351187242],\n",
       " [0.18197083098187972],\n",
       " [0.09261105644719769],\n",
       " [0.01366404676742039],\n",
       " [-0.05205181434193462],\n",
       " [-0.09997933746837895],\n",
       " [-0.14048587842777605],\n",
       " [-0.16826270574733942],\n",
       " [-0.18652273576282874],\n",
       " [-0.20074084940608494],\n",
       " [-0.21144310795526425],\n",
       " [-0.21556020609411447],\n",
       " [-0.21933974180197768],\n",
       " [-0.21154783765784513],\n",
       " [-0.20380417156465755],\n",
       " [-0.19447432719023183],\n",
       " [-0.1861604724545378],\n",
       " [-0.1728037158302806],\n",
       " [-0.1610938449234819],\n",
       " [-0.1482663199093912],\n",
       " [-0.13553746942379205],\n",
       " [-0.11938088888492306],\n",
       " [-0.10513315456413816],\n",
       " [-0.09478045138448293],\n",
       " [-0.08574017709716915],\n",
       " [-0.0759618274370691],\n",
       " [-0.06409843045680041],\n",
       " [-0.05360195673828133],\n",
       " [-0.04387649883910471],\n",
       " [-0.037902385226541956],\n",
       " [-0.031126128599466833],\n",
       " [-0.026300961946697912],\n",
       " [-0.020154726342253668],\n",
       " [-0.01420703606502536],\n",
       " [-0.008734986320226241],\n",
       " [-0.003352161801101816],\n",
       " [0.0013767642290683987],\n",
       " [0.0024980358769777673],\n",
       " [0.0047712240952096745],\n",
       " [0.0047209426714698265],\n",
       " [0.008332495784622624],\n",
       " [0.01036555343853906],\n",
       " [0.010946277847579886],\n",
       " [0.009251054894722936],\n",
       " [0.00970996942492047],\n",
       " [0.0092544785892952],\n",
       " [0.005795395832250265],\n",
       " [0.005845322959149129],\n",
       " [0.002687673458745531],\n",
       " [0.0044662567082283475],\n",
       " [0.004825512146541898],\n",
       " [0.007375718014676423],\n",
       " [0.004565053091452005],\n",
       " [0.0036391337495099083],\n",
       " [0.002319171231583373],\n",
       " [0.00391663453158455],\n",
       " [0.004808987901991442],\n",
       " [0.0076164292705269395],\n",
       " [0.009938238370508955],\n",
       " [0.008525912223877562],\n",
       " [0.008016727826655606],\n",
       " [0.006824879561261127],\n",
       " [0.006200921662328463],\n",
       " [0.004467215859121941],\n",
       " [0.0004917909570078191],\n",
       " [0.0029699964853630535],\n",
       " [0.0034316408918347455],\n",
       " [0.0023269757459968036],\n",
       " [0.0022557346719863846],\n",
       " [0.002595846191218424],\n",
       " [0.0020948200099005095],\n",
       " [0.0020498434275793356],\n",
       " [-0.0009569748273800241],\n",
       " [-0.0008686310223662598],\n",
       " [-0.0028621566188139244],\n",
       " [-0.005178417351742145],\n",
       " [-0.007281827937254352],\n",
       " [-0.007423566385579464],\n",
       " [-0.006732329512397846],\n",
       " [-0.008021122937013282],\n",
       " [-0.00477503375321033],\n",
       " [-0.005011561804419218],\n",
       " [-0.0042128132953293835],\n",
       " [-0.0011302820629997658],\n",
       " [-0.004287193862039668],\n",
       " [-0.0037382488811405845],\n",
       " [-0.0019267704318226657],\n",
       " [0.00041399329243248977]]"
      ]
     },
     "execution_count": 17,
     "metadata": {},
     "output_type": "execute_result"
    }
   ],
   "source": [
    "u_list"
   ]
  },
  {
   "cell_type": "code",
   "execution_count": 18,
   "metadata": {},
   "outputs": [
    {
     "data": {
      "text/plain": [
       "[[-2, 0],\n",
       " [-1.9826689238506545, 0.337883851188942],\n",
       " [-1.934617289686878, 0.6081523765847574],\n",
       " [-1.863046498782901, 0.8186895390646078],\n",
       " [-1.773857601547691, 0.9769983330239574],\n",
       " [-1.671298855118988, 1.0899861215832085],\n",
       " [-1.5570064996731574, 1.163624258666438],\n",
       " [-1.4368774243038982, 1.2038388069140624],\n",
       " [-1.316886913675434, 1.2165318635065394],\n",
       " [-1.1958298188749448, 1.206362095046335],\n",
       " [-1.0761907772924222, 1.177592238551027],\n",
       " [-0.9596990742836524, 1.134030010757676],\n",
       " [-0.8476855025918736, 1.0790402257138687],\n",
       " [-0.7429022190480169, 1.0158649187522126],\n",
       " [-0.644753765473668, 0.947074444416752],\n",
       " [-0.5546582376670464, 0.8750287577631876],\n",
       " [-0.4691245758863931, 0.801077807175922],\n",
       " [-0.39056263113519357, 0.726744798109641],\n",
       " [-0.32252159827663374, 0.6538898864286646],\n",
       " [-0.2597321887850927, 0.5831480817165144],\n",
       " [-0.20572877537335316, 0.5156450323527458],\n",
       " [-0.15916762471985166, 0.45207941234187016],\n",
       " [-0.11711668294635905, 0.392527337313062],\n",
       " [-0.07929895096895942, 0.3370043299874382],\n",
       " [-0.047572667582182114, 0.28583986160759334],\n",
       " [-0.018345550256068613, 0.23869326448036154],\n",
       " [0.0017904724843597133, 0.1964071748175551],\n",
       " [0.019395482321301206, 0.15855806686610593],\n",
       " [0.033707390256974154, 0.12492677806462749],\n",
       " [0.04641012168949608, 0.09504571941572805],\n",
       " [0.05409788761959554, 0.06910995078609677],\n",
       " [0.06070030211759576, 0.04661054554664651],\n",
       " [0.06481906157874949, 0.027366383281995005],\n",
       " [0.06728272189454358, 0.011086997309036027],\n",
       " [0.06611869025781887, -0.00213082558355643],\n",
       " [0.06449267704687572, -0.012746817532897204],\n",
       " [0.0638440270313977, -0.02138514503845179],\n",
       " [0.06294480004842001, -0.028350933311808206],\n",
       " [0.06071974179063085, -0.033712399232441584],\n",
       " [0.056392878466922355, -0.0373935213716623],\n",
       " [0.05200488779543423, -0.03967941845276993],\n",
       " [0.04734675452674769, -0.040769442903658665],\n",
       " [0.04431991089412307, -0.041151924991400614],\n",
       " [0.040436894109094935, -0.040805398134942036],\n",
       " [0.037345943633994134, -0.03999306207717228],\n",
       " [0.0332133546294063, -0.03861932785787214],\n",
       " [0.02890474603459104, -0.036752936188526174],\n",
       " [0.02462334708338558, -0.034485171843716134],\n",
       " [0.02018432185113727, -0.03185976509218941],\n",
       " [0.015951067593469256, -0.028974684684622724],\n",
       " [0.013755599558504299, -0.026222878445123502],\n",
       " [0.010935996313125656, -0.02347454203463103],\n",
       " [0.009518721524553063, -0.02096804817157697],\n",
       " [0.006021610872519517, -0.018306419091565836],\n",
       " [0.0033942467944497873, -0.015665160785356787],\n",
       " [0.0016530245740113342, -0.013191705615604194],\n",
       " [0.0013720425242818581, -0.011105392880779358],\n",
       " [-3.4605926550633145e-06, -0.009151605784901217],\n",
       " [-0.0007579913719840913, -0.007412861242745802],\n",
       " [0.0004111966066416902, -0.006179175581682282],\n",
       " [-0.0002686949993792795, -0.005046602186491153],\n",
       " [0.0010380780439756298, -0.0043359224037606715],\n",
       " [-0.00040830938689437416, -0.0035037442966455792],\n",
       " [-0.0010631736018958575, -0.0027063271346259893],\n",
       " [-0.003020352015963212, -0.0017156185359726627],\n",
       " [-0.001848006404859351, -0.0010989436664267569],\n",
       " [-0.0016147069849390132, -0.0006304870920999846],\n",
       " [-0.0010658246356488816, -0.00033796166594215354],\n",
       " [-0.0021827926777512768, 9.34671291996009e-05],\n",
       " [-0.002947908859807818, 0.0005794070734342614],\n",
       " [-0.0048960803632242395, 0.001311885584194397],\n",
       " [-0.006681385737127781, 0.00221978645031113],\n",
       " [-0.0063082907446670175, 0.002904424916135513],\n",
       " [-0.006361980870099426, 0.0034778001505254463],\n",
       " [-0.005945582962075829, 0.003879369149396188],\n",
       " [-0.005780995734446438, 0.004182262144745571],\n",
       " [-0.004895519990469628, 0.004280981221481194],\n",
       " [-0.002551278658457822, 0.003962835208023605],\n",
       " [-0.003877477121425475, 0.003926653178451292],\n",
       " [-0.0041366816348396085, 0.003941008076824905],\n",
       " [-0.00347839158055482, 0.0038406533282590288],\n",
       " [-0.0033825920386943036, 0.003741622766854237],\n",
       " [-0.0035354379658608438, 0.003686057333277132],\n",
       " [-0.0032041710710363274, 0.0035838105803150185],\n",
       " [-0.0031232062433697305, 0.003485748889621909],\n",
       " [-0.0012591580297526927, 0.0030872654554421762],\n",
       " [-0.0011025222600887443, 0.0027321729368927294],\n",
       " [0.0002861322209915353, 0.00220288079320075],\n",
       " [0.001961072490089088, 0.0014812385035178105],\n",
       " [0.003609027813026345, 0.0006056750190879429],\n",
       " [0.004155632509230436, -0.00020904752896600757],\n",
       " [0.004168105075538979, -0.0008826036389126092],\n",
       " [0.005299711970236328, -0.0016305428325088353],\n",
       " [0.003737039223834121, -0.0019806271201174537],\n",
       " [0.004064003208400195, -0.0023248599626740055],\n",
       " [0.0037638590611074486, -0.00255739955260683],\n",
       " [0.002028305644706012, -0.0024532697317034106],\n",
       " [0.003876327896077438, -0.002682391625046118],\n",
       " [0.003666125648807886, -0.002835393562232422],\n",
       " [0.0026548219919691135, -0.002789140732854143],\n",
       " [0.001219534975316374, -0.002506423030593298]]"
      ]
     },
     "execution_count": 18,
     "metadata": {},
     "output_type": "execute_result"
    }
   ],
   "source": [
    "x_list"
   ]
  },
  {
   "cell_type": "markdown",
   "metadata": {},
   "source": [
    "### System formulation\n",
    "#### plant:\n",
    "\n",
    "$$\n",
    "\\begin{aligned}\n",
    "x_{k+1} &=A x_{k}+B u_{k} + C w_{k}\\\\\n",
    "y_{k} &=D x_{k} + E w_{k}\n",
    "\\end{aligned}\n",
    "$$\n",
    "with $x_k \\in \\mathbb{R}^{n}, u_k \\in \\mathbb{R}^{m}, y_k \\in \\mathbb{R}^{r}, w_k \\in \\mathbb{R}^{d}$. Initial state $x_0$.\n",
    "\n",
    "\n",
    "#### model:\n",
    "\n",
    "$$\n",
    "\\begin{aligned}\n",
    "\\hat{x}_{k+1} &=A \\hat{x}_{k}+B u_{k}\\\\\n",
    "\\hat{y}_{k} &=D \\hat{x}_{k}\n",
    "\\end{aligned}\n",
    "$$\n",
    "\n",
    "Initial state $0$\n"
   ]
  },
  {
   "cell_type": "markdown",
   "metadata": {},
   "source": [
    "### System behabior in N step\n",
    "Define: $$\n",
    "\\boldsymbol{X}=\\left[\\begin{array}{llll}\n",
    "x_{k}^{\\top}, x_{k+1}^{\\top} & \\ldots & x_{k+N}^{\\top}\n",
    "\\end{array}\\right]^{\\top}\n",
    "$$\n",
    "$$\n",
    "\\boldsymbol{U}=\\left[\\begin{array}{llll}\n",
    "u_{k}^{\\top} & u_{k+1}^{\\top} & \\ldots & u_{k+N-1}^{\\top}\n",
    "\\end{array}\\right]^{\\top}\n",
    "$$\n",
    "$$\n",
    "\\boldsymbol{Y}=\\left[\\begin{array}{llll}\n",
    "y_{k}^{\\top} & y_{k+1}^{\\top} & \\ldots & y_{k+N-1}^{\\top}\n",
    "\\end{array}\\right]^{\\top}\n",
    "$$\n",
    "$$\n",
    "\\boldsymbol{Y}_r=\\left[\\begin{array}{llll}\n",
    "yr_{k}^{\\top} & yr_{k+1}^{\\top} & \\ldots & yr_{k+N-1}^{\\top}\n",
    "\\end{array}\\right]^{\\top}\n",
    "$$\n",
    "\n",
    "$$\n",
    "\\boldsymbol{W}=\\left[\\begin{array}{llll}\n",
    "w_{k}^{\\top} & w_{k+1}^{\\top} & \\ldots & w_{k+N-1}^{\\top}\n",
    "\\end{array}\\right]^{\\top}\n",
    "$$\n",
    "\n",
    "$$\n",
    "\\tilde{\\boldsymbol{W}}=\\left[\\begin{array}{llll}\n",
    "1 & w_{k}^{\\top} & \\ldots & w_{k+N-1}^{\\top}\n",
    "\\end{array}\\right]^{\\top}\n",
    "$$"
   ]
  },
  {
   "cell_type": "markdown",
   "metadata": {},
   "source": [
    "#### Predicted system\n",
    "$$\n",
    "\\begin{array}{l}\n",
    "\\boldsymbol{X}=\\mathcal{A}_{x} x_{k}+\\mathcal{B}_{x} \\boldsymbol{U} + \\mathcal{C}_{x} \\boldsymbol{W} \\\\\n",
    "\\boldsymbol{Y}=\\mathcal{A}_{y} x_{k}+\\mathcal{B}_{y} \\boldsymbol{U} + \\mathcal{C}_{y} \\boldsymbol{W} + \\mathcal{E}_{y} \\boldsymbol{W}\n",
    "\\end{array}\n",
    "$$\n",
    "with\n",
    "$$\n",
    "\\mathcal{A}_{x}=\\left[\\begin{array}{l}\n",
    "\\mathbb{I}_n \\\\ A^{1}\\\\  \\vdots \\\\A^{N}\n",
    "\\end{array}\\right]\n",
    "$$\n",
    "\n",
    "$$\n",
    "\\mathcal{B}_{x}=\\left[\\begin{array}{ccccc}\n",
    "0 & 0 & \\ldots & \\ldots & 0\\\\\n",
    "A^{0} B & 0 & \\ldots & \\ldots & 0 \\\\\n",
    "A^{1} B & A^{0} B & \\ddots & & \\vdots \\\\\n",
    "\\vdots & \\ddots & \\ddots & \\ddots & \\vdots \\\\\n",
    "\\vdots & & \\ddots & \\ddots & 0 \\\\\n",
    "A^{N-1} B & A^{N-2} B & \\ldots & \\ldots & A^{0} B\n",
    "\\end{array}\\right]\n",
    "$$\n",
    "\n",
    "$$\n",
    "\\mathcal{C}_{x}=\\left[\\begin{array}{ccccc}\n",
    "0 & 0 & \\ldots & \\ldots & 0\\\\\n",
    "A^{0} C & 0 & \\ldots & \\ldots & 0 \\\\\n",
    "A^{1} C & A^{0} C & \\ddots & & \\vdots \\\\\n",
    "\\vdots & \\ddots & \\ddots & \\ddots & \\vdots \\\\\n",
    "\\vdots & & \\ddots & \\ddots & 0 \\\\\n",
    "A^{N-1} C & A^{N-2} C & \\ldots & \\ldots & A^{0} C\n",
    "\\end{array}\\right]\n",
    "$$\n",
    "\n",
    "$$\n",
    "\\mathcal{A}_{y}=\\left[\\begin{array}{l}\n",
    "D \\\\ DA^{1} \\\\ \\vdots \\\\DA^{N-1}\n",
    "\\end{array}\\right]\n",
    "$$\n",
    "\n",
    "$$\n",
    "\\mathcal{B}_{y}=\\left[\\begin{array}{cccccc}\n",
    "0 & 0 & \\ldots & \\ldots & 0 & 0\\\\\n",
    "DA^{0} B & 0 & \\ldots & \\ldots & 0 & 0\\\\\n",
    "DA^{1} B & DA^{0} B & \\ddots & & \\vdots & 0\\\\\n",
    "\\vdots & \\ddots & \\ddots & \\ddots & \\vdots & 0\\\\\n",
    "\\vdots & & \\ddots & \\ddots & 0 & 0\\\\\n",
    "DA^{N-2} B & DA^{N-3} B & \\ldots & \\ldots & DA^{0} B & 0\n",
    "\\end{array}\\right]\n",
    "$$\n",
    "\n",
    "$$\n",
    "\\mathcal{C}_{y}=\\left[\\begin{array}{cccccc}\n",
    "0 & 0 & \\ldots & \\ldots & 0 & 0\\\\\n",
    "DA^{0} C & 0 & \\ldots & \\ldots & 0 & 0\\\\\n",
    "DA^{1} C & DA^{0} C & \\ddots & & \\vdots & 0\\\\\n",
    "\\vdots & \\ddots & \\ddots & \\ddots & \\vdots & 0\\\\\n",
    "\\vdots & & \\ddots & \\ddots & 0 & 0\\\\\n",
    "DA^{N-2} C & DA^{N-3} C & \\ldots & \\ldots & DA^{0} C & 0\n",
    "\\end{array}\\right]\n",
    "$$\n",
    "\n",
    "$$\n",
    "\\mathcal{E}_{y} = \\left[\n",
    "  \\begin{array}{ccc}\n",
    "    E & & & & \\\\\n",
    "    & \\ddots & & & \\\\\n",
    "    & & \\ddots & & \\\\\n",
    "    & & & \\ddots & \\\\\n",
    "    & & & & E\n",
    "  \\end{array} \n",
    "  \\right]\n",
    "$$\n"
   ]
  },
  {
   "cell_type": "markdown",
   "metadata": {},
   "source": [
    "#### System with extended $\\tilde{\\boldsymbol{W}}$\n",
    "\n",
    "$$\n",
    "\\begin{array}{l}\n",
    "\\boldsymbol{X}=\\mathcal{B}_{x} \\boldsymbol{U} + \\tilde{\\mathcal{C}}_{x} \\tilde{\\boldsymbol{W}} \\\\\n",
    "\\end{array}\n",
    "$$\n",
    "\n",
    "$$\n",
    "\\tilde{\\mathcal{C}}_{x}=\\left[\\begin{array}{cccccc}\n",
    "x_k & 0 & 0 & \\ldots & \\ldots & 0\\\\\n",
    "A x_k & A^{0} C & 0 & \\ldots & \\ldots & 0 \\\\\n",
    "A^2 x_k& A^{1} C & A^{0} C & \\ddots & & \\vdots \\\\\n",
    "\\vdots & \\vdots & \\ddots & \\ddots & \\ddots & \\vdots \\\\\n",
    "\\vdots & \\vdots & & \\ddots & \\ddots & 0 \\\\\n",
    "A^N x_k & A^{N-1} C & A^{N-2} C & \\ldots & \\ldots & A^{0} C\n",
    "\\end{array}\\right]\n",
    "$$"
   ]
  },
  {
   "cell_type": "markdown",
   "metadata": {},
   "source": [
    "#### puried-output-based (POB) affine control laws\n",
    "\n",
    "$$\n",
    "y - \\hat{y} = \\left(\n",
    "\\left[\\begin{array}{c|cccc}\n",
    "DA^0 x_0 & 0 & \\dots & 0 & 0\\\\\n",
    "DA^1 x_0 & DC & \\ddots & 0 & 0\\\\\n",
    "\\vdots & \\vdots & \\ddots & \\ddots & \\vdots\\\\\n",
    "DA^{N-1} x_0 & DA^{N-2}C & \\dots & DA^{0}C & 0\\\\\n",
    "\\end{array}\\right]\n",
    "+\n",
    "\\left[\\begin{array}{c|cccc}\n",
    "0 & E & 0 & \\dots & 0\\\\\n",
    "0 & 0 & E & \\ddots & 0\\\\\n",
    "\\vdots &  & \\ddots & \\ddots & 0\\\\\n",
    "0 & 0 & \\dots & 0 & E\\\\\n",
    "\\end{array}\\right]\n",
    "\\right)\n",
    "\\left[\\begin{array}{c}\n",
    "1\\\\\n",
    "w_0\\\\\n",
    "w_1\\\\\n",
    "\\vdots\\\\\n",
    "w_{N-1}\\\\\n",
    "\\end{array}\\right]\n",
    "$$\n",
    "\n",
    "\n",
    "\n",
    "\n",
    "$u_{k}=h_{k}+\\sum_{\\tau=0}^{k} H_{k \\tau} v_{\\tau}$, where $v_{k} = y_k - \\hat{y}_k$\n",
    "\n",
    "$$\n",
    "\\begin{array}{rll}\n",
    "u_k &= h_0 + H_{00} (y_k - \\hat{y}_k) &= h_0 + H_{00} (Dx_0 +Ew_0)\\\\\n",
    "u_{k+1} &= h_1 + H_{10} (y_k - \\hat{y}_k) + H_{11} (y_{k+1} - \\hat{y}_{k+1}) &= h_1 + H_{10} (Dx_0 +Ew_0) + H_{11} (DAx_0 + DCw_0 + E w_1) \\\\\n",
    "\\vdots &  & \\vdots \\\\\n",
    "u_{k+N-1} &= h_{N-1}+\\sum_{\\tau=0}^{N-1} H_{(N-1) \\tau} v_{\\tau} &= h_{N-1} +H_{(N-1) 0}(Dx_0 +Ew_0) + \\dots + H_{(N-1) (N-1)} (DA^{N-1} x_0 + DA^{N-2}Cw_0 + \\dots + DA^{0}Cw_{N-2}) + Ew_{N-1}\n",
    "\\end{array}\n",
    "$$\n",
    "\n",
    "$\\rightarrow$\n",
    "\n",
    "$$\\boldsymbol{U} = \n",
    "\\left[\\begin{array}{c|cccc}\n",
    "h_0 & H_{00} & \\dots & 0 & 0\\\\\n",
    "h_1 & H_{10} & \\ddots & 0 & 0\\\\\n",
    "\\vdots & \\vdots & \\ddots & \\ddots & \\vdots\\\\\n",
    "h_{N-1} & H_{(N-1)0} & \\dots & H_{(N-1)(N-2)} & H_{(N-1)(N-1)}\\\\\n",
    "\\end{array}\\right]\n",
    "\\left(\n",
    "\\left[\\begin{array}{c|cccc}\n",
    "0 & 0 & \\dots & 0 & 0\\\\\n",
    "DA^0 x_0 & 0 & \\dots & 0 & 0\\\\\n",
    "DA^1 x_0 & DC & \\ddots & 0 & 0\\\\\n",
    "\\vdots & \\vdots & \\ddots & \\ddots & \\vdots\\\\\n",
    "DA^{N-1} x_0 & DA^{N-2}C & \\dots & DA^{0}C & 0\\\\\n",
    "\\end{array}\\right]\n",
    "+\n",
    "\\left[\\begin{array}{c|cccc}\n",
    "1 & 0 & \\dots & 0 & 0\\\\\n",
    "0 & E & 0 & \\dots & 0\\\\\n",
    "0 & 0 & E & \\ddots & 0\\\\\n",
    "\\vdots &  & \\ddots & \\ddots & 0\\\\\n",
    "0 & 0 & \\dots & 0 & E\\\\\n",
    "\\end{array}\\right]\n",
    "\\right)\n",
    "\\left[\\begin{array}{c}\n",
    "1\\\\\n",
    "w_0\\\\\n",
    "w_1\\\\\n",
    "\\vdots\\\\\n",
    "w_{N-1}\\\\\n",
    "\\end{array}\\right]\n",
    "$$\n",
    "\n",
    "$\\rightarrow$\n",
    "$$\\boldsymbol{U} = \\mathcal{H}(\\tilde{\\mathcal{C}}_y + \\tilde{\\mathcal{E}}_y) \\tilde{\\boldsymbol{W}} = H\\tilde{\\boldsymbol{W}} $$, where $ \\tilde{\\mathcal{C}}_y  = \\left[\\begin{array}{ccccc}\n",
    "0 & & & & \\\\\n",
    "D & 0 & & & \\\\\n",
    "& D & 0 & & \\\\\n",
    "& & \\ddots & \\ddots & \\\\\n",
    "& & & D & 0\n",
    "\\end{array}\\right] \\tilde{\\mathcal{C}}_x  = \\tilde{\\mathcal{D}} \\tilde{C}_x$\n"
   ]
  },
  {
   "cell_type": "markdown",
   "metadata": {},
   "source": [
    "#### Matrix shape\n",
    "$\\boldsymbol{X} \\in \\mathbb{R}^{(N+1)n \\times 1} $,\n",
    "$\\boldsymbol{U} \\in \\mathbb{R}^{Nm \\times 1} $,\n",
    "$\\boldsymbol{Y} \\in \\mathbb{R}^{Nr \\times 1} $,\n",
    "$\\boldsymbol{W} \\in \\mathbb{R}^{Nd \\times 1} $\n",
    "$\\tilde{\\boldsymbol{W}} \\in \\mathbb{R}^{(Nd+1) \\times 1} $\n",
    "\n",
    "$\\mathcal{A}_{x} \\in \\mathbb{R}^{(N+1)n \\times n}$,\n",
    "$\\mathcal{B}_{x} \\in \\mathbb{R}^{(N+1)n \\times Nm}$,\n",
    "$\\mathcal{C}_{x} \\in \\mathbb{R}^{(N+1)n \\times Nd}$,\n",
    "$\\mathcal{A}_{y} \\in \\mathbb{R}^{Nr \\times n}$,\n",
    "$\\mathcal{B}_{y} \\in \\mathbb{R}^{Nr \\times Nm}$,\n",
    "$\\mathcal{C}_{y} \\in \\mathbb{R}^{Nr \\times Nd}$,\n",
    "$\\mathcal{E}_{y} \\in \\mathbb{R}^{Nr \\times Nd}$\n",
    "\n",
    "$\\tilde{\\mathcal{C}}_{x} \\in \\mathbb{R}^{(N+1)n \\times (Nd+1)}$, $\\tilde{\\mathcal{C}}_{y} \\in \\mathbb{R}^{(Nr + 1) \\times (Nd+1)}$, $\\tilde{\\mathcal{E}}_{y} \\in \\mathbb{R}^{(Nr + 1) \\times (Nd+1)}$, $\\tilde{\\mathcal{D}} \\in \\mathbb{R}^{(Nr + 1) \\times (N+1)n}$\n",
    "\n",
    "$\\mathcal{H} \\in \\mathbb{R}^{Nm \\times (Nr + 1)}$\n"
   ]
  },
  {
   "cell_type": "markdown",
   "metadata": {},
   "source": [
    "### Cost\n",
    "#### Weighted stage cost\n",
    "$\\beta^{t} (x_{k+t}^{\\top} Q x_{k+t} + u_{k+t}^{\\top} R u_{k+t} )$\n",
    "#### Cost\n",
    "$J_{N}\\left(x, \\pi_{N}\\right):=\\sup _{\\mathbb{P} \\in \\mathcal{P}_{\\infty}} \\mathbb{E}_{\\mathbb{P}}\\left\\{\\sum_{t=0}^{N-1} \\beta^{t}\\left[\\boldsymbol{x}_{t}^{\\top} Q \\boldsymbol{x}_{t}+\\boldsymbol{u}_{t}^{\\top} R \\boldsymbol{u}_{t}\\right]+\\beta^{N} \\boldsymbol{x}_{N}^{\\top} Q_{f} \\boldsymbol{x}_{N}\\right\\}$\n",
    "#### Reformulation with known first and second moments\n",
    "$$\\boldsymbol{U} = \\mathcal{H}(\\tilde{\\mathcal{C}}_y + \\tilde{\\mathcal{E}}_y) \\tilde{\\boldsymbol{W}} = H\\tilde{\\boldsymbol{W}}$$ and $$\\boldsymbol{X}=\\mathcal{B}_{x} \\boldsymbol{U} + \\tilde{\\mathcal{C}}_{x} \\tilde{\\boldsymbol{W}}$$\n",
    "\n",
    "$\\tilde{J}_{N}(x, H):=\\operatorname{Tr}\\left\\{\\left[(\\tilde{\\mathcal{C}}_{x}+\\mathcal{B}_{x}H)^{\\top} J_{x} (\\tilde{\\mathcal{C}}_{x}+\\mathcal{B}_{x}H) + H^{\\top} J_u H \\right]M_w\\right\\} + \\mu_w^{\\top} \\left[ (\\tilde{\\mathcal{C}}_{x}+\\mathcal{B}_{x}H)^{\\top} J_{x} (\\tilde{\\mathcal{C}}_{x}+\\mathcal{B}_{x}H) + H^{\\top} J_u H \\right]\\mu_w$ with $J_x = \\left[ \\begin{array}{ccccc} \\beta^{0}Q&&&&\\\\ &\\beta^{1}Q&&&\\\\ &&\\ddots&& \\\\ &&&\\beta^{N-1}Q&\\\\ &&&&\\beta^{N}Q_f \\end{array}\\right]$, $J_u = \\left[ \\begin{array}{cccc} \\beta^{0}R&&&\\\\ &\\beta^{1}R&&\\\\ &&\\ddots& \\\\ &&&\\beta^{N-1}R\\end{array}\\right]$, $M_{w}:=\\left(1, \\mu^{\\top}, \\ldots, \\mu^{\\top}\\right)^{\\top}\\left(1, \\mu^{\\top}, \\ldots, \\mu^{\\top}\\right)+\\operatorname{diag}\\left(0, \\mathbb{I}_{N} \\otimes \\mathbb{I}_{d}\\right)$ and $\\mu_w = \\left[ \\begin{array}{c} 1\\\\ \\mu \\\\ \\vdots \\\\ \\mu \\end{array} \\right]$"
   ]
  },
  {
   "cell_type": "markdown",
   "metadata": {},
   "source": [
    "### Chance constraint using wasserstein metric\n",
    "Constraint on ith element of state: $[x_{k+n}]_i < v_{ubi}$\n",
    "\n",
    "\n",
    "$\\sup _{\\mathbb{Q} \\in \\mathbb{B}_{\\varepsilon}\\left(\\widehat{\\mathbb{P}}_{N}\\right)} \\mathbb{E}^{\\mathrm{Q}}[\\ell(\\xi)]$ with $l(w) = \\max_{k \\le N-1} \\langle a_k, w\\rangle + b_k$\n",
    "\n",
    "equivalent to\n",
    "$\\begin{array}{lll}\\inf _{\\lambda, s_{i}, \\gamma_{i k}} & \\lambda \\varepsilon+\\frac{1}{N} \\sum_{i=1}^{N} s_{i} \\\\ \\text { s.t. } & b_{k}+\\left\\langle a_{k}, \\widehat{\\xi}_{i}\\right\\rangle+\\left\\langle\\gamma_{i k}, d-C \\widehat{\\xi}_{i}\\right\\rangle \\leq s_{i} & \\forall i \\leq N, \\forall k \\leq K \\\\ & \\left\\|C^{\\top} \\gamma_{i k}-a_{k}\\right\\|_{*} \\leq \\lambda & \\forall i \\leq N, \\forall k \\leq K \\\\ & \\gamma_{i k} \\geq 0 & \\forall i \\leq N, \\forall k \\leq K\\end{array}$\n",
    "\n",
    "\n",
    "#### Define $a_k$ and $b_k$\n",
    "For example: Constraint on $[x_{k+1}]_1$\n",
    "\n",
    "We have $x_{k+1} = Ax_0 + Bu_0 + Cw_0$ and $u_0 = h_0 + H_{00}(Dx_0 + Ew_0)$ $\\rightarrow$ $[x_{k+1}]_1 = e_1^{\\top} (Ax_0 + B(h_0 + H_{00}(Dx_0 + Ew_0)) + Cw_0) = \\langle e_1^{\\top} (BH_{00}E + C), w_0 \\rangle  + e_1^{\\top} (Ax_0 + B(h_0 + H_{00}Dx_0))$ "
   ]
  },
  {
   "cell_type": "markdown",
   "metadata": {},
   "source": [
    "Similiarly, $x_{k+N} = A^N x_0 + A^{N-1}Bu_0 + \\dots + A^{0}Bu_{N-1} + A^{N-1}Cw_0 + \\dots + A^{0}Cw_{N-1}$ and $u_{n}=h_{n}+\\sum_{\\tau=0}^{n} H_{n \\tau} v_{\\tau}$, where $v_{\\tau} = y_{\\tau} - \\hat{y}_{\\tau} = DA^{\\tau}x_0 + DA^{\\tau-1}Cw_0 + \\dots + DA^{0}C w_{\\tau-1} + E w_{\\tau}$"
   ]
  },
  {
   "cell_type": "markdown",
   "metadata": {},
   "source": [
    "$\\rightarrow$ $[x_{k+N}]_i = e^{\\top}_i (A^Nx_0 + \\sum_{n=0}^{N-1}A^{n}B \\underbrace{(h_{N-1-n} + \\sum_{\\tau = 0}^{N - 1 - n} ( H_{n\\tau} \\underbrace{( DA^{\\tau}x_0 + \\sum_{\\kappa = 0}^{\\tau-1} DA^{\\kappa}Cw_{\\tau-1 - \\kappa} + Ew_{\\tau})}_{v_\\tau}))}_{u_{N- 1 - n}} + \\sum_{n=0}^{N-1} A^{n}Cw_{N-1-n}) $"
   ]
  },
  {
   "cell_type": "markdown",
   "metadata": {},
   "source": [
    "$ [x_{k+N}]_i = \\langle e_i^{\\top}(BH_{(N-1)(N-1)}E + C), w_{N-1} \\rangle + e^{\\top}_i (A^Nx_0 + \\sum_{n=0}^{N-1}A^{n}B(h_{N-1-n} + \\sum_{\\tau = 0}^{N - 1 - n} ( H_{n\\tau}( DA^{\\tau}x_0 + \\sum_{\\kappa = 0}^{\\tau-1} DA^{\\kappa}Cw_{\\tau-1 - \\kappa}))) + \\sum_{n=1}^{N-1} A^{n}Cw_{N-1-n})$"
   ]
  },
  {
   "cell_type": "code",
   "execution_count": 19,
   "metadata": {},
   "outputs": [],
   "source": [
    "# def stack_system(A, B, C, D, E, x_init, N):\n",
    "#     '''\n",
    "#     Stack system matrix for N prediction horizon\n",
    "    \n",
    "#     x_next = A x_k + B u_k + C w_k\n",
    "#     y_k = D x_k + E w_k\n",
    "    \n",
    "#     '''\n",
    "\n",
    "#     n = np.shape(A)[1]    #  Dimension of state\n",
    "#     m = np.shape(B)[1]    #  Dimension of input\n",
    "#     d = np.shape(C)[1]    #  Dimension of disturbance\n",
    "#     r = np.shape(D)[0]    #  Dimension of output\n",
    "    \n",
    "# #     print(Nx,Nu,Nw,Ny)\n",
    "#     Nx = (N+1) * n\n",
    "#     Nu = N * m\n",
    "#     Ny = N * r\n",
    "#     Nw = N * d\n",
    "    \n",
    "#     Ax = np.zeros([Nx,n])\n",
    "#     Bx = np.zeros([Nx,Nu])\n",
    "#     Cx = np.zeros([Nx,Nw])\n",
    "#     Ay = np.zeros([Ny,n])\n",
    "#     By = np.zeros([Ny,Nu])\n",
    "#     Cy = np.zeros([Ny,Nw])\n",
    "#     Ey = np.zeros([Ny,Nw])\n",
    "#     Cx_tilde = np.zeros([Nx, Nw + 1])\n",
    "#     Cy_tilde = np.zeros([Ny + 1, Nw + 1])\n",
    "#     Ey_tilde = np.zeros([Ny + 1, Nw + 1])\n",
    "#     D_tilde = np.zeros([Ny + 1, Nx])\n",
    "# #     H\n",
    "\n",
    "# # Ax\n",
    "#     for i in range(N+1):\n",
    "#         Ax[i*n:(i+1)*n,:] = matrix_power(A,i)\n",
    "# # Bx\n",
    "#     for i in range(N):\n",
    "#         mat_temp = B\n",
    "#         for j in range (i+1):\n",
    "#             Bx[(i + 1) * n : (i + 2) * n, (i-j) * m: (i-j+1) * m ] = mat_temp\n",
    "#             mat_temp = A @ mat_temp\n",
    "# # Cx\n",
    "#     for i in range(N):\n",
    "#         mat_temp = C\n",
    "#         for j in range (i+1):\n",
    "#             Cx[(i + 1) * n : (i + 2) * n, (i-j) * d: (i-j+1) * d ] = mat_temp\n",
    "#             mat_temp = A @ mat_temp\n",
    "# # Ay\n",
    "#     for i in range(N):\n",
    "#         Ay[i*r:(i+1)*r,:] = D @ matrix_power(A,i) \n",
    "# # By\n",
    "#     for i in range(N):\n",
    "#         mat_temp = B\n",
    "#         for j in range (i+1):\n",
    "#             By[(i + 1) * r : (i + 2) * r, (i-j) * m: (i-j+1) * m ] = D @ mat_temp\n",
    "#             mat_temp = A @ mat_temp\n",
    "# # Cy\n",
    "#     for i in range(N):\n",
    "#         mat_temp = C\n",
    "#         for j in range (i+1):\n",
    "#             Cy[(i + 1) * r : (i + 2) * r, (i-j) * d: (i-j+1) * d ] = D @ mat_temp\n",
    "#             mat_temp = A @ mat_temp\n",
    "# # Ey\n",
    "#     for i in range(N):\n",
    "#         Ey[i * r : (i+1)*r, i * d : (i+1) * d] = E\n",
    "# # Cx_tilde\n",
    "#     Cx_tilde[ : , 0 : 1 ] = Ax @ x_init\n",
    "#     Cx_tilde[ : , 1 : ] = Cx\n",
    "# # Cy_tilde\n",
    "#     Cy_tilde[ r : , 0 : 1 ] = Ay @ x_init\n",
    "#     Cy_tilde[ r : , 1 : ] = Cy\n",
    "# # Ey_tilde\n",
    "#     Ey_tilde[0, 0] = 1\n",
    "#     Ey_tilde[1:, 1:] = Ey\n",
    "# # D_tilde\n",
    "#     for i in range(N):\n",
    "#         D_tilde[1 + i * r : 1 + (i+1) * r, i * d : (i+1) * d] = D\n",
    "        \n",
    "#     return n, m, d, r, Nx, Nu, Ny, Nw, Ax, Bx, Cx, Ay, By, Cy, Ey, Cx_tilde, Cy_tilde, Ey_tilde, D_tilde "
   ]
  },
  {
   "cell_type": "code",
   "execution_count": 20,
   "metadata": {},
   "outputs": [],
   "source": [
    "# Ck = np.array([[1e-3, 0],[0, 0]])\n",
    "# D = np.array([[1, 0]])\n",
    "# E = np.array([[0,1e-3]])\n",
    "\n",
    "# N = 5\n",
    "# n, m, d, r, Nx, Nu, Ny, Nw, Ax, Bx, Cx, Ay, By, Cy, Ey, Cx_tilde, Cy_tilde, Ey_tilde, D_tilde  = stack_system(Ak,Bk,Ck,D,E, x_init, N)"
   ]
  },
  {
   "cell_type": "code",
   "execution_count": 21,
   "metadata": {},
   "outputs": [
    {
     "data": {
      "text/plain": [
       "array([[ 1.        ,  0.        ],\n",
       "       [ 0.        ,  1.        ],\n",
       "       [ 0.99137931,  0.0862069 ],\n",
       "       [-0.0862069 ,  0.86206897],\n",
       "       [ 0.97540131,  0.15978002],\n",
       "       [-0.15978002,  0.73573127],\n",
       "       [ 0.95321854,  0.22182772],\n",
       "       [-0.22182772,  0.62047696],\n",
       "       [ 0.92587806,  0.2734048 ],\n",
       "       [-0.2734048 ,  0.51577085],\n",
       "       [ 0.89432697,  0.31551087],\n",
       "       [-0.31551087,  0.42106066]])"
      ]
     },
     "execution_count": 21,
     "metadata": {},
     "output_type": "execute_result"
    }
   ],
   "source": [
    "Ax"
   ]
  },
  {
   "cell_type": "code",
   "execution_count": 22,
   "metadata": {},
   "outputs": [
    {
     "data": {
      "text/plain": [
       "array([[0.        , 0.        , 0.        , 0.        , 0.        ],\n",
       "       [0.        , 0.        , 0.        , 0.        , 0.        ],\n",
       "       [0.00431034, 0.        , 0.        , 0.        , 0.        ],\n",
       "       [0.04310345, 0.        , 0.        , 0.        , 0.        ],\n",
       "       [0.007989  , 0.00431034, 0.        , 0.        , 0.        ],\n",
       "       [0.03678656, 0.04310345, 0.        , 0.        , 0.        ],\n",
       "       [0.01109139, 0.007989  , 0.00431034, 0.        , 0.        ],\n",
       "       [0.03102385, 0.03678656, 0.04310345, 0.        , 0.        ],\n",
       "       [0.01367024, 0.01109139, 0.007989  , 0.00431034, 0.        ],\n",
       "       [0.02578854, 0.03102385, 0.03678656, 0.04310345, 0.        ],\n",
       "       [0.01577554, 0.01367024, 0.01109139, 0.007989  , 0.00431034],\n",
       "       [0.02105303, 0.02578854, 0.03102385, 0.03678656, 0.04310345]])"
      ]
     },
     "execution_count": 22,
     "metadata": {},
     "output_type": "execute_result"
    }
   ],
   "source": [
    "Bx"
   ]
  },
  {
   "cell_type": "code",
   "execution_count": 23,
   "metadata": {},
   "outputs": [
    {
     "data": {
      "text/plain": [
       "array([[ 0.00000000e+00,  0.00000000e+00,  0.00000000e+00,\n",
       "         0.00000000e+00,  0.00000000e+00,  0.00000000e+00,\n",
       "         0.00000000e+00,  0.00000000e+00,  0.00000000e+00,\n",
       "         0.00000000e+00],\n",
       "       [ 0.00000000e+00,  0.00000000e+00,  0.00000000e+00,\n",
       "         0.00000000e+00,  0.00000000e+00,  0.00000000e+00,\n",
       "         0.00000000e+00,  0.00000000e+00,  0.00000000e+00,\n",
       "         0.00000000e+00],\n",
       "       [ 1.00000000e-03,  0.00000000e+00,  0.00000000e+00,\n",
       "         0.00000000e+00,  0.00000000e+00,  0.00000000e+00,\n",
       "         0.00000000e+00,  0.00000000e+00,  0.00000000e+00,\n",
       "         0.00000000e+00],\n",
       "       [ 0.00000000e+00,  0.00000000e+00,  0.00000000e+00,\n",
       "         0.00000000e+00,  0.00000000e+00,  0.00000000e+00,\n",
       "         0.00000000e+00,  0.00000000e+00,  0.00000000e+00,\n",
       "         0.00000000e+00],\n",
       "       [ 9.91379310e-04,  0.00000000e+00,  1.00000000e-03,\n",
       "         0.00000000e+00,  0.00000000e+00,  0.00000000e+00,\n",
       "         0.00000000e+00,  0.00000000e+00,  0.00000000e+00,\n",
       "         0.00000000e+00],\n",
       "       [-8.62068966e-05,  0.00000000e+00,  0.00000000e+00,\n",
       "         0.00000000e+00,  0.00000000e+00,  0.00000000e+00,\n",
       "         0.00000000e+00,  0.00000000e+00,  0.00000000e+00,\n",
       "         0.00000000e+00],\n",
       "       [ 9.75401308e-04,  0.00000000e+00,  9.91379310e-04,\n",
       "         0.00000000e+00,  1.00000000e-03,  0.00000000e+00,\n",
       "         0.00000000e+00,  0.00000000e+00,  0.00000000e+00,\n",
       "         0.00000000e+00],\n",
       "       [-1.59780024e-04,  0.00000000e+00, -8.62068966e-05,\n",
       "         0.00000000e+00,  0.00000000e+00,  0.00000000e+00,\n",
       "         0.00000000e+00,  0.00000000e+00,  0.00000000e+00,\n",
       "         0.00000000e+00],\n",
       "       [ 9.53218536e-04,  0.00000000e+00,  9.75401308e-04,\n",
       "         0.00000000e+00,  9.91379310e-04,  0.00000000e+00,\n",
       "         1.00000000e-03,  0.00000000e+00,  0.00000000e+00,\n",
       "         0.00000000e+00],\n",
       "       [-2.21827719e-04,  0.00000000e+00, -1.59780024e-04,\n",
       "         0.00000000e+00, -8.62068966e-05,  0.00000000e+00,\n",
       "         0.00000000e+00,  0.00000000e+00,  0.00000000e+00,\n",
       "         0.00000000e+00],\n",
       "       [ 9.25878056e-04,  0.00000000e+00,  9.53218536e-04,\n",
       "         0.00000000e+00,  9.75401308e-04,  0.00000000e+00,\n",
       "         9.91379310e-04,  0.00000000e+00,  1.00000000e-03,\n",
       "         0.00000000e+00],\n",
       "       [-2.73404804e-04,  0.00000000e+00, -2.21827719e-04,\n",
       "         0.00000000e+00, -1.59780024e-04,  0.00000000e+00,\n",
       "        -8.62068966e-05,  0.00000000e+00,  0.00000000e+00,\n",
       "         0.00000000e+00]])"
      ]
     },
     "execution_count": 23,
     "metadata": {},
     "output_type": "execute_result"
    }
   ],
   "source": [
    "Cx"
   ]
  },
  {
   "cell_type": "code",
   "execution_count": 24,
   "metadata": {},
   "outputs": [
    {
     "data": {
      "text/plain": [
       "array([[1.        , 0.        ],\n",
       "       [0.99137931, 0.0862069 ],\n",
       "       [0.97540131, 0.15978002],\n",
       "       [0.95321854, 0.22182772],\n",
       "       [0.92587806, 0.2734048 ]])"
      ]
     },
     "execution_count": 24,
     "metadata": {},
     "output_type": "execute_result"
    }
   ],
   "source": [
    "Ay"
   ]
  },
  {
   "cell_type": "code",
   "execution_count": 25,
   "metadata": {},
   "outputs": [
    {
     "data": {
      "text/plain": [
       "array([[0.        , 0.        , 0.        , 0.        , 0.        ],\n",
       "       [0.00431034, 0.        , 0.        , 0.        , 0.        ],\n",
       "       [0.007989  , 0.00431034, 0.        , 0.        , 0.        ],\n",
       "       [0.01109139, 0.007989  , 0.00431034, 0.        , 0.        ],\n",
       "       [0.01367024, 0.01109139, 0.007989  , 0.00431034, 0.        ]])"
      ]
     },
     "execution_count": 25,
     "metadata": {},
     "output_type": "execute_result"
    }
   ],
   "source": [
    "By"
   ]
  },
  {
   "cell_type": "code",
   "execution_count": 26,
   "metadata": {},
   "outputs": [
    {
     "data": {
      "text/plain": [
       "array([[0.        , 0.        , 0.        , 0.        , 0.        ,\n",
       "        0.        , 0.        , 0.        , 0.        , 0.        ],\n",
       "       [0.001     , 0.        , 0.        , 0.        , 0.        ,\n",
       "        0.        , 0.        , 0.        , 0.        , 0.        ],\n",
       "       [0.00099138, 0.        , 0.001     , 0.        , 0.        ,\n",
       "        0.        , 0.        , 0.        , 0.        , 0.        ],\n",
       "       [0.0009754 , 0.        , 0.00099138, 0.        , 0.001     ,\n",
       "        0.        , 0.        , 0.        , 0.        , 0.        ],\n",
       "       [0.00095322, 0.        , 0.0009754 , 0.        , 0.00099138,\n",
       "        0.        , 0.001     , 0.        , 0.        , 0.        ]])"
      ]
     },
     "execution_count": 26,
     "metadata": {},
     "output_type": "execute_result"
    }
   ],
   "source": [
    "Cy"
   ]
  },
  {
   "cell_type": "code",
   "execution_count": 27,
   "metadata": {},
   "outputs": [
    {
     "data": {
      "text/plain": [
       "array([[0.   , 0.001, 0.   , 0.   , 0.   , 0.   , 0.   , 0.   , 0.   ,\n",
       "        0.   ],\n",
       "       [0.   , 0.   , 0.   , 0.001, 0.   , 0.   , 0.   , 0.   , 0.   ,\n",
       "        0.   ],\n",
       "       [0.   , 0.   , 0.   , 0.   , 0.   , 0.001, 0.   , 0.   , 0.   ,\n",
       "        0.   ],\n",
       "       [0.   , 0.   , 0.   , 0.   , 0.   , 0.   , 0.   , 0.001, 0.   ,\n",
       "        0.   ],\n",
       "       [0.   , 0.   , 0.   , 0.   , 0.   , 0.   , 0.   , 0.   , 0.   ,\n",
       "        0.001]])"
      ]
     },
     "execution_count": 27,
     "metadata": {},
     "output_type": "execute_result"
    }
   ],
   "source": [
    "Ey"
   ]
  },
  {
   "cell_type": "code",
   "execution_count": 28,
   "metadata": {},
   "outputs": [
    {
     "data": {
      "text/plain": [
       "array([[-2.00000000e+00,  0.00000000e+00,  0.00000000e+00,\n",
       "         0.00000000e+00,  0.00000000e+00,  0.00000000e+00,\n",
       "         0.00000000e+00,  0.00000000e+00,  0.00000000e+00,\n",
       "         0.00000000e+00,  0.00000000e+00],\n",
       "       [ 0.00000000e+00,  0.00000000e+00,  0.00000000e+00,\n",
       "         0.00000000e+00,  0.00000000e+00,  0.00000000e+00,\n",
       "         0.00000000e+00,  0.00000000e+00,  0.00000000e+00,\n",
       "         0.00000000e+00,  0.00000000e+00],\n",
       "       [-1.98275862e+00,  1.00000000e-03,  0.00000000e+00,\n",
       "         0.00000000e+00,  0.00000000e+00,  0.00000000e+00,\n",
       "         0.00000000e+00,  0.00000000e+00,  0.00000000e+00,\n",
       "         0.00000000e+00,  0.00000000e+00],\n",
       "       [ 1.72413793e-01,  0.00000000e+00,  0.00000000e+00,\n",
       "         0.00000000e+00,  0.00000000e+00,  0.00000000e+00,\n",
       "         0.00000000e+00,  0.00000000e+00,  0.00000000e+00,\n",
       "         0.00000000e+00,  0.00000000e+00],\n",
       "       [-1.95080262e+00,  9.91379310e-04,  0.00000000e+00,\n",
       "         1.00000000e-03,  0.00000000e+00,  0.00000000e+00,\n",
       "         0.00000000e+00,  0.00000000e+00,  0.00000000e+00,\n",
       "         0.00000000e+00,  0.00000000e+00],\n",
       "       [ 3.19560048e-01, -8.62068966e-05,  0.00000000e+00,\n",
       "         0.00000000e+00,  0.00000000e+00,  0.00000000e+00,\n",
       "         0.00000000e+00,  0.00000000e+00,  0.00000000e+00,\n",
       "         0.00000000e+00,  0.00000000e+00],\n",
       "       [-1.90643707e+00,  9.75401308e-04,  0.00000000e+00,\n",
       "         9.91379310e-04,  0.00000000e+00,  1.00000000e-03,\n",
       "         0.00000000e+00,  0.00000000e+00,  0.00000000e+00,\n",
       "         0.00000000e+00,  0.00000000e+00],\n",
       "       [ 4.43655439e-01, -1.59780024e-04,  0.00000000e+00,\n",
       "        -8.62068966e-05,  0.00000000e+00,  0.00000000e+00,\n",
       "         0.00000000e+00,  0.00000000e+00,  0.00000000e+00,\n",
       "         0.00000000e+00,  0.00000000e+00],\n",
       "       [-1.85175611e+00,  9.53218536e-04,  0.00000000e+00,\n",
       "         9.75401308e-04,  0.00000000e+00,  9.91379310e-04,\n",
       "         0.00000000e+00,  1.00000000e-03,  0.00000000e+00,\n",
       "         0.00000000e+00,  0.00000000e+00],\n",
       "       [ 5.46809609e-01, -2.21827719e-04,  0.00000000e+00,\n",
       "        -1.59780024e-04,  0.00000000e+00, -8.62068966e-05,\n",
       "         0.00000000e+00,  0.00000000e+00,  0.00000000e+00,\n",
       "         0.00000000e+00,  0.00000000e+00],\n",
       "       [-1.78865394e+00,  9.25878056e-04,  0.00000000e+00,\n",
       "         9.53218536e-04,  0.00000000e+00,  9.75401308e-04,\n",
       "         0.00000000e+00,  9.91379310e-04,  0.00000000e+00,\n",
       "         1.00000000e-03,  0.00000000e+00],\n",
       "       [ 6.31021741e-01, -2.73404804e-04,  0.00000000e+00,\n",
       "        -2.21827719e-04,  0.00000000e+00, -1.59780024e-04,\n",
       "         0.00000000e+00, -8.62068966e-05,  0.00000000e+00,\n",
       "         0.00000000e+00,  0.00000000e+00]])"
      ]
     },
     "execution_count": 28,
     "metadata": {},
     "output_type": "execute_result"
    }
   ],
   "source": [
    "Cx_tilde"
   ]
  },
  {
   "cell_type": "code",
   "execution_count": 29,
   "metadata": {},
   "outputs": [
    {
     "data": {
      "text/plain": [
       "array([[ 0.00000000e+00,  0.00000000e+00,  0.00000000e+00,\n",
       "         0.00000000e+00,  0.00000000e+00,  0.00000000e+00,\n",
       "         0.00000000e+00,  0.00000000e+00,  0.00000000e+00,\n",
       "         0.00000000e+00,  0.00000000e+00],\n",
       "       [-2.00000000e+00,  0.00000000e+00,  0.00000000e+00,\n",
       "         0.00000000e+00,  0.00000000e+00,  0.00000000e+00,\n",
       "         0.00000000e+00,  0.00000000e+00,  0.00000000e+00,\n",
       "         0.00000000e+00,  0.00000000e+00],\n",
       "       [-1.98275862e+00,  1.00000000e-03,  0.00000000e+00,\n",
       "         0.00000000e+00,  0.00000000e+00,  0.00000000e+00,\n",
       "         0.00000000e+00,  0.00000000e+00,  0.00000000e+00,\n",
       "         0.00000000e+00,  0.00000000e+00],\n",
       "       [-1.95080262e+00,  9.91379310e-04,  0.00000000e+00,\n",
       "         1.00000000e-03,  0.00000000e+00,  0.00000000e+00,\n",
       "         0.00000000e+00,  0.00000000e+00,  0.00000000e+00,\n",
       "         0.00000000e+00,  0.00000000e+00],\n",
       "       [-1.90643707e+00,  9.75401308e-04,  0.00000000e+00,\n",
       "         9.91379310e-04,  0.00000000e+00,  1.00000000e-03,\n",
       "         0.00000000e+00,  0.00000000e+00,  0.00000000e+00,\n",
       "         0.00000000e+00,  0.00000000e+00],\n",
       "       [-1.85175611e+00,  9.53218536e-04,  0.00000000e+00,\n",
       "         9.75401308e-04,  0.00000000e+00,  9.91379310e-04,\n",
       "         0.00000000e+00,  1.00000000e-03,  0.00000000e+00,\n",
       "         0.00000000e+00,  0.00000000e+00]])"
      ]
     },
     "execution_count": 29,
     "metadata": {},
     "output_type": "execute_result"
    }
   ],
   "source": [
    "Cy_tilde"
   ]
  },
  {
   "cell_type": "code",
   "execution_count": 30,
   "metadata": {},
   "outputs": [
    {
     "data": {
      "text/plain": [
       "array([[1.   , 0.   , 0.   , 0.   , 0.   , 0.   , 0.   , 0.   , 0.   ,\n",
       "        0.   , 0.   ],\n",
       "       [0.   , 0.   , 0.001, 0.   , 0.   , 0.   , 0.   , 0.   , 0.   ,\n",
       "        0.   , 0.   ],\n",
       "       [0.   , 0.   , 0.   , 0.   , 0.001, 0.   , 0.   , 0.   , 0.   ,\n",
       "        0.   , 0.   ],\n",
       "       [0.   , 0.   , 0.   , 0.   , 0.   , 0.   , 0.001, 0.   , 0.   ,\n",
       "        0.   , 0.   ],\n",
       "       [0.   , 0.   , 0.   , 0.   , 0.   , 0.   , 0.   , 0.   , 0.001,\n",
       "        0.   , 0.   ],\n",
       "       [0.   , 0.   , 0.   , 0.   , 0.   , 0.   , 0.   , 0.   , 0.   ,\n",
       "        0.   , 0.001]])"
      ]
     },
     "execution_count": 30,
     "metadata": {},
     "output_type": "execute_result"
    }
   ],
   "source": [
    "Ey_tilde"
   ]
  },
  {
   "cell_type": "code",
   "execution_count": 31,
   "metadata": {},
   "outputs": [
    {
     "data": {
      "text/plain": [
       "array([[0., 0., 0., 0., 0., 0., 0., 0., 0., 0., 0., 0.],\n",
       "       [1., 0., 0., 0., 0., 0., 0., 0., 0., 0., 0., 0.],\n",
       "       [0., 0., 1., 0., 0., 0., 0., 0., 0., 0., 0., 0.],\n",
       "       [0., 0., 0., 0., 1., 0., 0., 0., 0., 0., 0., 0.],\n",
       "       [0., 0., 0., 0., 0., 0., 1., 0., 0., 0., 0., 0.],\n",
       "       [0., 0., 0., 0., 0., 0., 0., 0., 1., 0., 0., 0.]])"
      ]
     },
     "execution_count": 31,
     "metadata": {},
     "output_type": "execute_result"
    }
   ],
   "source": [
    "D_tilde"
   ]
  },
  {
   "cell_type": "code",
   "execution_count": 32,
   "metadata": {},
   "outputs": [
    {
     "name": "stdout",
     "output_type": "stream",
     "text": [
      "var0\n",
      "var1\n",
      "Vstack([[0.]], var3)\n",
      "Vstack([[0.]\n",
      " [0.]], var6)\n",
      "Vstack([[0.]\n",
      " [0.]\n",
      " [0.]], var9)\n",
      "Vstack([[0.]\n",
      " [0.]\n",
      " [0.]\n",
      " [0.]], var12)\n",
      "Hstack(Hstack(Hstack(Hstack(Hstack(var0, var1), Vstack([[0.]], var3)), Vstack([[0.]\n",
      " [0.]], var6)), Vstack([[0.]\n",
      " [0.]\n",
      " [0.]], var9)), Vstack([[0.]\n",
      " [0.]\n",
      " [0.]\n",
      " [0.]], var12))\n"
     ]
    }
   ],
   "source": [
    "# Decision varibale H\n",
    "# h vector\n",
    "H_cal_dec = cp.Variable((Nu , 1))\n",
    "print(H_cal_dec)\n",
    "# \\mathcal{H} matrix\n",
    "for i in range(N):\n",
    "    H_col = cp.Variable((Nu - (i * m) , r))\n",
    "    if i > 0:\n",
    "        H_col = cp.vstack([np.zeros([i * m, r]), H_col])\n",
    "    print(H_col)\n",
    "    H_cal_dec = cp.hstack([H_cal_dec,H_col])\n",
    "print(H_cal_dec)"
   ]
  },
  {
   "cell_type": "code",
   "execution_count": 33,
   "metadata": {},
   "outputs": [
    {
     "name": "stdout",
     "output_type": "stream",
     "text": [
      "(5, 6)\n"
     ]
    }
   ],
   "source": [
    "print(np.shape(H_cal_dec))"
   ]
  },
  {
   "cell_type": "code",
   "execution_count": 34,
   "metadata": {},
   "outputs": [
    {
     "data": {
      "text/plain": [
       "Expression(AFFINE, UNKNOWN, (5, 6))"
      ]
     },
     "execution_count": 34,
     "metadata": {},
     "output_type": "execute_result"
    }
   ],
   "source": [
    "H_cal_dec"
   ]
  },
  {
   "cell_type": "code",
   "execution_count": 35,
   "metadata": {},
   "outputs": [],
   "source": [
    "# H_cal_dec = cp.Variable((Nu , 1 + Ny)) # Ny = N * r\n",
    "# H = H_cal_dec @ (Cy_tilde + Ey_tilde)\n",
    "H = cp.Variable((Nu , Nw + 1))"
   ]
  },
  {
   "cell_type": "code",
   "execution_count": 36,
   "metadata": {},
   "outputs": [],
   "source": [
    "# Define loss function\n",
    "beta = 0.95\n",
    "\n",
    "\n",
    "Jx = np.zeros([(N+1)* n, (N+1)* n])\n",
    "for i in range(N):\n",
    "    Jx[i * n : (i+1) * n, i * n : (i+1) * n] = beta**i * Q\n",
    "Jx[ N * n: , N * n:] = beta ** N * Qf\n",
    "\n",
    "Ju = np.zeros([N * m, N * m])\n",
    "for i in range(N):\n",
    "    Ju[i * m : (i+1) * m, i * m : (i+1) * m] = beta**i * R\n",
    "\n",
    "    \n",
    "mu =np.zeros([d,1])\n",
    "mu_w = np.vstack([1]+ [mu] * N)\n",
    "M_w = mu_w @ mu_w.T + np.diag([0] + [1] * N * d)\n",
    "\n",
    "# loss_func = cp.trace( ((Cx_tilde+Bx @ H).T @ Jx @ (Cx_tilde+Bx @ H) +  H.T @ Ju @ H ) @ M_w ) + mu_w.T @ ((Cx_tilde+Bx @ H).T @ Jx @ (Cx_tilde+Bx @ H) +  H.T @ Ju @ H ) @ mu_w\n",
    "# loss_func = cp.trace( ((Cx_tilde+Bx @ H).T @ Jx @ (Cx_tilde+Bx @ H) +  H.T @ Ju @ H ) @ M_w ) \n",
    "loss_func = cp.trace( (Cx_tilde.T @ Jx @ Cx_tilde +  H.T @ (Ju + Bx.T @ Jx @ Bx)@ H + 2 * Cx_tilde.T @ Jx @ Bx @ H) @ M_w ) \n",
    "# loss_func = cp.trace( (H.T @ (Ju + Bx.T @ Jx @ Bx)@ H ) @ M_w ) \n",
    "# loss_func = cp.trace( cp.quad_form(H, Ju + Bx.T @ Jx @ Bx) @ M_w ) \n",
    "# loss_func = cp.trace( cp.quad_form(H,Ju + Bx.T @ Jx @ Bx)@ M_w ) "
   ]
  },
  {
   "cell_type": "code",
   "execution_count": 37,
   "metadata": {},
   "outputs": [
    {
     "name": "stdout",
     "output_type": "stream",
     "text": [
      "(5, 11)\n"
     ]
    }
   ],
   "source": [
    "H_new_matrix = []\n",
    "for i in range(Nw+1):\n",
    "    H_new_matrix += [cp.Variable([Nu,1])]\n",
    "H_new = cp.hstack(H_new_matrix)\n",
    "print(H_new.shape)"
   ]
  },
  {
   "cell_type": "code",
   "execution_count": 38,
   "metadata": {},
   "outputs": [
    {
     "data": {
      "text/plain": [
       "(array([1.01272643, 0.95732504, 0.90739038, 0.86047056, 0.81605703]),\n",
       " array([[-0.9849619 , -0.16455627,  0.04874987, -0.01887036, -0.0062176 ],\n",
       "        [-0.15790468,  0.98100613,  0.10807906, -0.03049136, -0.00907063],\n",
       "        [-0.0637849 ,  0.09663711, -0.99082099, -0.06812168, -0.01503216],\n",
       "        [-0.02753592,  0.03316662, -0.06298989,  0.99650455, -0.03395144],\n",
       "        [-0.0094572 ,  0.01046177, -0.01576115,  0.03243917,  0.99924992]]))"
      ]
     },
     "execution_count": 38,
     "metadata": {},
     "output_type": "execute_result"
    }
   ],
   "source": [
    "np.linalg.eig((Ju + Bx.T @ Jx @ Bx))"
   ]
  },
  {
   "cell_type": "code",
   "execution_count": 39,
   "metadata": {},
   "outputs": [],
   "source": [
    "eigval,eigvec = np.linalg.eig((Ju + Bx.T @ Jx @ Bx))"
   ]
  },
  {
   "cell_type": "code",
   "execution_count": 40,
   "metadata": {},
   "outputs": [],
   "source": [
    "eigval_mat =  np.diag(eigval)"
   ]
  },
  {
   "cell_type": "code",
   "execution_count": 41,
   "metadata": {},
   "outputs": [
    {
     "data": {
      "text/plain": [
       "array([[ 4.44089210e-16,  2.37657116e-16,  9.28077060e-17,\n",
       "         1.30104261e-17,  1.73472348e-18],\n",
       "       [ 1.92554306e-16, -3.33066907e-16,  1.50053581e-16,\n",
       "         1.13624388e-16,  1.29453739e-16],\n",
       "       [ 8.23993651e-17,  1.25767452e-16, -6.66133815e-16,\n",
       "        -8.28330460e-17, -2.26381414e-16],\n",
       "       [ 8.23993651e-18,  1.21430643e-16, -2.29417180e-16,\n",
       "         4.44089210e-16,  2.67147415e-16],\n",
       "       [-2.38524478e-18,  1.11239143e-16, -1.93855348e-16,\n",
       "         3.25043811e-16,  2.22044605e-16]])"
      ]
     },
     "execution_count": 41,
     "metadata": {},
     "output_type": "execute_result"
    }
   ],
   "source": [
    "Ju + Bx.T @ Jx @ Bx - eigvec @ eigval_mat @ np.linalg.inv(eigvec)"
   ]
  },
  {
   "cell_type": "code",
   "execution_count": 42,
   "metadata": {},
   "outputs": [
    {
     "data": {
      "text/plain": [
       "array([[ 6.66133815e-16,  0.00000000e+00,  1.16226473e-16,\n",
       "         6.37510877e-17, -3.85975973e-17],\n",
       "       [-5.55111512e-17, -3.33066907e-16, -2.42861287e-17,\n",
       "         3.97251676e-16,  4.77048956e-18],\n",
       "       [ 1.02348685e-16, -3.90312782e-17, -2.22044605e-16,\n",
       "        -2.50190493e-15,  5.42101086e-18],\n",
       "       [ 6.37510877e-17,  3.90312782e-16, -2.50233861e-15,\n",
       "         1.11022302e-16,  1.25984292e-15],\n",
       "       [-3.85975973e-17,  4.98732999e-18,  7.15573434e-18,\n",
       "         1.25984292e-15,  2.22044605e-16]])"
      ]
     },
     "execution_count": 42,
     "metadata": {},
     "output_type": "execute_result"
    }
   ],
   "source": [
    "Ju + Bx.T @ Jx @ Bx - eigvec @ eigval_mat @ eigvec.T"
   ]
  },
  {
   "cell_type": "code",
   "execution_count": 43,
   "metadata": {},
   "outputs": [],
   "source": [
    "loss_func = 0\n",
    "\n",
    "N_eig = np.shape(eigval)[0]\n",
    "I = np.diag([1]*N_eig)\n",
    "for i in range(N_eig):\n",
    "    # Tr(H.T @ (Ju + Bx.T @ Jx @ Bx)@ H ) @ M_w\n",
    "    loss_func += eigval[i] * cp.quad_form(H_new_matrix[i], I) # When M_w is identity matrix. Otherwise reformulate system matrix or this line\n",
    "\n",
    "loss_func += cp.trace(2 * Cx_tilde.T @ Jx @ Bx @ H)\n",
    "loss_func += eigval[0] * cp.quad_form(H_new_matrix[0], I) +  2 * mu_w.T @  Cx_tilde.T @ Jx @ Bx @ H @ mu_w\n"
   ]
  },
  {
   "cell_type": "code",
   "execution_count": 44,
   "metadata": {},
   "outputs": [
    {
     "data": {
      "text/plain": [
       "array([1., 1., 1.])"
      ]
     },
     "execution_count": 44,
     "metadata": {},
     "output_type": "execute_result"
    }
   ],
   "source": [
    "np.ones(3)"
   ]
  },
  {
   "cell_type": "code",
   "execution_count": 45,
   "metadata": {},
   "outputs": [],
   "source": [
    "N_sample = 6\n",
    "\n",
    "w_sample = []\n",
    "for i in range(N_sample):\n",
    "    w_temp = np.random.randn(N*d)\n",
    "    w_sample += [w_temp]\n",
    "W_sample_matrix = np.array(w_sample).T\n",
    "\n",
    "W_sample_matrix_ext = np.vstack( [np.ones([1, N_sample]),W_sample_matrix])"
   ]
  },
  {
   "cell_type": "code",
   "execution_count": 46,
   "metadata": {},
   "outputs": [
    {
     "data": {
      "text/plain": [
       "array([ 0.2843304 , -0.74072901, -0.5728423 , -0.65147159,  1.76064824,\n",
       "        0.38803277, -0.97364452, -1.51796105, -3.45870599,  1.00319101])"
      ]
     },
     "execution_count": 46,
     "metadata": {},
     "output_type": "execute_result"
    }
   ],
   "source": [
    "w_sample[0]"
   ]
  },
  {
   "cell_type": "code",
   "execution_count": 47,
   "metadata": {},
   "outputs": [
    {
     "data": {
      "text/plain": [
       "array([[ 0.2843304 ,  1.70039576,  0.05284195,  0.22970177,  0.99153464,\n",
       "        -0.13896296],\n",
       "       [-0.74072901,  0.50755833, -0.97312626, -0.29945658,  1.24180091,\n",
       "         0.83844907],\n",
       "       [-0.5728423 , -0.77803194, -0.26004654,  0.22200064,  0.46526977,\n",
       "         1.35222026],\n",
       "       [-0.65147159, -1.76553057,  1.09689212, -1.58127818, -0.03573322,\n",
       "        -0.29268077],\n",
       "       [ 1.76064824, -1.68611675, -0.05634167, -0.0872003 , -0.16124329,\n",
       "         2.01512972],\n",
       "       [ 0.38803277, -1.4879493 , -0.3849617 , -0.16814053, -1.14008304,\n",
       "        -1.29666375],\n",
       "       [-0.97364452, -0.14412195,  1.814566  ,  2.26046551, -0.28540553,\n",
       "         0.32192103],\n",
       "       [-1.51796105,  0.06809123, -0.85045734, -0.72191519,  0.28645025,\n",
       "         0.68393682],\n",
       "       [-3.45870599, -1.59873644, -1.42522313, -0.67434758, -1.68819389,\n",
       "        -0.02101449],\n",
       "       [ 1.00319101, -0.03884549, -0.12434205, -0.21699575, -1.76404619,\n",
       "        -0.01217894]])"
      ]
     },
     "execution_count": 47,
     "metadata": {},
     "output_type": "execute_result"
    }
   ],
   "source": [
    "W_sample_matrix"
   ]
  },
  {
   "cell_type": "code",
   "execution_count": 48,
   "metadata": {},
   "outputs": [
    {
     "data": {
      "text/plain": [
       "array([[ 1.        ,  1.        ,  1.        ,  1.        ,  1.        ,\n",
       "         1.        ],\n",
       "       [ 0.2843304 ,  1.70039576,  0.05284195,  0.22970177,  0.99153464,\n",
       "        -0.13896296],\n",
       "       [-0.74072901,  0.50755833, -0.97312626, -0.29945658,  1.24180091,\n",
       "         0.83844907],\n",
       "       [-0.5728423 , -0.77803194, -0.26004654,  0.22200064,  0.46526977,\n",
       "         1.35222026],\n",
       "       [-0.65147159, -1.76553057,  1.09689212, -1.58127818, -0.03573322,\n",
       "        -0.29268077],\n",
       "       [ 1.76064824, -1.68611675, -0.05634167, -0.0872003 , -0.16124329,\n",
       "         2.01512972],\n",
       "       [ 0.38803277, -1.4879493 , -0.3849617 , -0.16814053, -1.14008304,\n",
       "        -1.29666375],\n",
       "       [-0.97364452, -0.14412195,  1.814566  ,  2.26046551, -0.28540553,\n",
       "         0.32192103],\n",
       "       [-1.51796105,  0.06809123, -0.85045734, -0.72191519,  0.28645025,\n",
       "         0.68393682],\n",
       "       [-3.45870599, -1.59873644, -1.42522313, -0.67434758, -1.68819389,\n",
       "        -0.02101449],\n",
       "       [ 1.00319101, -0.03884549, -0.12434205, -0.21699575, -1.76404619,\n",
       "        -0.01217894]])"
      ]
     },
     "execution_count": 48,
     "metadata": {},
     "output_type": "execute_result"
    }
   ],
   "source": [
    "W_sample_matrix_ext"
   ]
  },
  {
   "cell_type": "code",
   "execution_count": 49,
   "metadata": {},
   "outputs": [
    {
     "data": {
      "text/plain": [
       "array([[-2.00000000e+00,  0.00000000e+00,  0.00000000e+00,\n",
       "         0.00000000e+00,  0.00000000e+00,  0.00000000e+00,\n",
       "         0.00000000e+00,  0.00000000e+00,  0.00000000e+00,\n",
       "         0.00000000e+00,  0.00000000e+00],\n",
       "       [ 0.00000000e+00,  0.00000000e+00,  0.00000000e+00,\n",
       "         0.00000000e+00,  0.00000000e+00,  0.00000000e+00,\n",
       "         0.00000000e+00,  0.00000000e+00,  0.00000000e+00,\n",
       "         0.00000000e+00,  0.00000000e+00],\n",
       "       [-1.98275862e+00,  1.00000000e-03,  0.00000000e+00,\n",
       "         0.00000000e+00,  0.00000000e+00,  0.00000000e+00,\n",
       "         0.00000000e+00,  0.00000000e+00,  0.00000000e+00,\n",
       "         0.00000000e+00,  0.00000000e+00],\n",
       "       [ 1.72413793e-01,  0.00000000e+00,  0.00000000e+00,\n",
       "         0.00000000e+00,  0.00000000e+00,  0.00000000e+00,\n",
       "         0.00000000e+00,  0.00000000e+00,  0.00000000e+00,\n",
       "         0.00000000e+00,  0.00000000e+00],\n",
       "       [-1.95080262e+00,  9.91379310e-04,  0.00000000e+00,\n",
       "         1.00000000e-03,  0.00000000e+00,  0.00000000e+00,\n",
       "         0.00000000e+00,  0.00000000e+00,  0.00000000e+00,\n",
       "         0.00000000e+00,  0.00000000e+00],\n",
       "       [ 3.19560048e-01, -8.62068966e-05,  0.00000000e+00,\n",
       "         0.00000000e+00,  0.00000000e+00,  0.00000000e+00,\n",
       "         0.00000000e+00,  0.00000000e+00,  0.00000000e+00,\n",
       "         0.00000000e+00,  0.00000000e+00],\n",
       "       [-1.90643707e+00,  9.75401308e-04,  0.00000000e+00,\n",
       "         9.91379310e-04,  0.00000000e+00,  1.00000000e-03,\n",
       "         0.00000000e+00,  0.00000000e+00,  0.00000000e+00,\n",
       "         0.00000000e+00,  0.00000000e+00],\n",
       "       [ 4.43655439e-01, -1.59780024e-04,  0.00000000e+00,\n",
       "        -8.62068966e-05,  0.00000000e+00,  0.00000000e+00,\n",
       "         0.00000000e+00,  0.00000000e+00,  0.00000000e+00,\n",
       "         0.00000000e+00,  0.00000000e+00],\n",
       "       [-1.85175611e+00,  9.53218536e-04,  0.00000000e+00,\n",
       "         9.75401308e-04,  0.00000000e+00,  9.91379310e-04,\n",
       "         0.00000000e+00,  1.00000000e-03,  0.00000000e+00,\n",
       "         0.00000000e+00,  0.00000000e+00],\n",
       "       [ 5.46809609e-01, -2.21827719e-04,  0.00000000e+00,\n",
       "        -1.59780024e-04,  0.00000000e+00, -8.62068966e-05,\n",
       "         0.00000000e+00,  0.00000000e+00,  0.00000000e+00,\n",
       "         0.00000000e+00,  0.00000000e+00],\n",
       "       [-1.78865394e+00,  9.25878056e-04,  0.00000000e+00,\n",
       "         9.53218536e-04,  0.00000000e+00,  9.75401308e-04,\n",
       "         0.00000000e+00,  9.91379310e-04,  0.00000000e+00,\n",
       "         1.00000000e-03,  0.00000000e+00],\n",
       "       [ 6.31021741e-01, -2.73404804e-04,  0.00000000e+00,\n",
       "        -2.21827719e-04,  0.00000000e+00, -1.59780024e-04,\n",
       "         0.00000000e+00, -8.62068966e-05,  0.00000000e+00,\n",
       "         0.00000000e+00,  0.00000000e+00]])"
      ]
     },
     "execution_count": 49,
     "metadata": {},
     "output_type": "execute_result"
    }
   ],
   "source": [
    "Cx_tilde"
   ]
  },
  {
   "cell_type": "code",
   "execution_count": 50,
   "metadata": {},
   "outputs": [],
   "source": [
    "# H = H_dec @ (Cy_tilde + Ey_tilde)"
   ]
  },
  {
   "cell_type": "code",
   "execution_count": 51,
   "metadata": {},
   "outputs": [],
   "source": [
    "X_constraint = (Bx @ H_cal_dec @ (Cy_tilde + Ey_tilde) + Cx_tilde) @ W_sample_matrix_ext"
   ]
  },
  {
   "cell_type": "code",
   "execution_count": 52,
   "metadata": {},
   "outputs": [],
   "source": [
    "# select i th element from X_"
   ]
  },
  {
   "cell_type": "code",
   "execution_count": 53,
   "metadata": {},
   "outputs": [
    {
     "name": "stdout",
     "output_type": "stream",
     "text": [
      "(12, 6)\n"
     ]
    }
   ],
   "source": [
    "print(np.shape(X_constraint))"
   ]
  },
  {
   "cell_type": "code",
   "execution_count": 54,
   "metadata": {},
   "outputs": [],
   "source": [
    "constraint = []\n",
    "# constraint += [H_new == np.linalg.inv(eigvec) @ H ]\n",
    "constraint += [H_new == eigvec.T @ H ]\n",
    "constraint += [H == H_cal_dec @ (Cy_tilde + Ey_tilde) ]"
   ]
  },
  {
   "cell_type": "code",
   "execution_count": 55,
   "metadata": {},
   "outputs": [],
   "source": [
    "# d_supp = np.ones([N*d, 1])\n",
    "# C_supp = np.diag([1]*N*d)\n",
    "\n",
    "# epsilon = 0.2\n",
    "\n",
    "# lambda_var = cp.Variable()\n",
    "\n",
    "# gamma_matrix = []\n",
    "# for i in range(N_sample):\n",
    "#     for j in range(N):\n",
    "#         gamma_var = cp.Variable([N*d,1])\n",
    "#         gamma_matrix += [gamma_var]\n",
    "\n",
    "# si_var = cp.Variable([N_sample,1])\n",
    "# for i in range(N_sample):\n",
    "#     for j in range(N):\n",
    "#         constraint_temp = X_constraint[n * (j+1),i] + gamma_matrix[i * N_sample + j].T @ (d_supp - C_supp @ W_sample_matrix[:, i])\n",
    "#         constraint += [constraint_temp <= si_var[i,0]]\n",
    "        \n",
    "        \n",
    "# ak_matrix = (Bx @ H_cal_dec @ (Cy_tilde + Ey_tilde) + Cx_tilde)[:,1:]\n",
    "# for i in range(N_sample):\n",
    "#     for j in range(N):\n",
    "#         constraint_temp = C_supp.T @ gamma_matrix[i * N_sample + j] - ak_matrix[n * (j+1):n * (j+1)+1,:].T\n",
    "#         constraint += [cp.norm_inf(constraint_temp) <= lambda_var]\n",
    "        \n",
    "# for i in range(N_sample):\n",
    "#     for j in range(N):\n",
    "#         constraint += [gamma_matrix[i * N_sample + j] >= 0]\n",
    "\n",
    "        \n",
    "# constraint += [lambda_var * epsilon + 1/N_sample * cp.sum(si_var) <= 0.5]\n",
    "# # supp_constraint_matrix = "
   ]
  },
  {
   "cell_type": "code",
   "execution_count": 56,
   "metadata": {},
   "outputs": [],
   "source": [
    "# len(gamma_matrix)"
   ]
  },
  {
   "cell_type": "code",
   "execution_count": 57,
   "metadata": {},
   "outputs": [],
   "source": [
    "# i * N_sample + j"
   ]
  },
  {
   "cell_type": "code",
   "execution_count": 58,
   "metadata": {},
   "outputs": [],
   "source": [
    "# gamma_matrix[i * N_sample + j].T "
   ]
  },
  {
   "cell_type": "code",
   "execution_count": 59,
   "metadata": {},
   "outputs": [],
   "source": [
    "i_th_state = 1 # 0 for first element, 1 for second element\n",
    "i_state_ub = 0.01\n",
    "\n",
    "d_supp = 3 * np.ones([N*d, 1])\n",
    "C_supp = np.diag([1]*N*d)\n",
    "\n",
    "epsilon = 5 # select 20 best\n",
    "\n",
    "lambda_var = cp.Variable()\n",
    "\n",
    "gamma_matrix = []\n",
    "for i in range(N_sample):\n",
    "    for j in range(N):\n",
    "        gamma_var = cp.Variable([N*d,1])\n",
    "        gamma_matrix += [gamma_var]\n",
    "\n",
    "si_var = cp.Variable([N_sample,1])\n",
    "for i in range(N_sample):\n",
    "    for j in range(N):\n",
    "        constraint_temp = X_constraint[n * (j+1) + i_th_state,i] + gamma_matrix[i * N + j].T @ (d_supp - C_supp @ W_sample_matrix[:, i])\n",
    "        constraint += [constraint_temp <= si_var[i,0]]\n",
    "        \n",
    "        \n",
    "ak_matrix = (Bx @ H_cal_dec @ (Cy_tilde + Ey_tilde) + Cx_tilde)[:,1:]\n",
    "for i in range(N_sample):\n",
    "    for j in range(N):\n",
    "        constraint_temp = C_supp.T @ gamma_matrix[i * N + j] - ak_matrix[n * (j+1) + i_th_state:n * (j+1)+i_th_state + 1,:].T\n",
    "        constraint += [cp.norm_inf(constraint_temp) <= lambda_var]\n",
    "        \n",
    "for i in range(N_sample):\n",
    "    for j in range(N):\n",
    "        constraint += [gamma_matrix[i * N + j] >= 0]\n",
    "\n",
    "        \n",
    "constraint += [lambda_var * epsilon + 1/N_sample * cp.sum(si_var) <= i_state_ub]\n",
    "# supp_constraint_matrix = "
   ]
  },
  {
   "cell_type": "code",
   "execution_count": null,
   "metadata": {},
   "outputs": [],
   "source": []
  },
  {
   "cell_type": "code",
   "execution_count": 60,
   "metadata": {},
   "outputs": [
    {
     "data": {
      "text/plain": [
       "189.1156444456611"
      ]
     },
     "execution_count": 60,
     "metadata": {},
     "output_type": "execute_result"
    }
   ],
   "source": [
    "obj = cp.Minimize(loss_func)\n",
    "prob = cp.Problem(obj,constraint)\n",
    "prob.solve()"
   ]
  },
  {
   "cell_type": "code",
   "execution_count": 61,
   "metadata": {},
   "outputs": [
    {
     "data": {
      "text/plain": [
       "array(4.93601416e-05)"
      ]
     },
     "execution_count": 61,
     "metadata": {},
     "output_type": "execute_result"
    }
   ],
   "source": [
    "lambda_var.value"
   ]
  },
  {
   "cell_type": "code",
   "execution_count": 62,
   "metadata": {},
   "outputs": [
    {
     "data": {
      "text/plain": [
       "array([[0.00986468],\n",
       "       [0.00974107],\n",
       "       [0.00989686],\n",
       "       [0.00970572],\n",
       "       [0.00965288],\n",
       "       [0.00967005]])"
      ]
     },
     "execution_count": 62,
     "metadata": {},
     "output_type": "execute_result"
    }
   ],
   "source": [
    "si_var.value"
   ]
  },
  {
   "cell_type": "code",
   "execution_count": 63,
   "metadata": {},
   "outputs": [
    {
     "data": {
      "text/plain": [
       "0.010002010139647678"
      ]
     },
     "execution_count": 63,
     "metadata": {},
     "output_type": "execute_result"
    }
   ],
   "source": [
    "np.sum(si_var.value)/N_sample + lambda_var.value * epsilon"
   ]
  },
  {
   "cell_type": "code",
   "execution_count": 64,
   "metadata": {},
   "outputs": [
    {
     "data": {
      "text/plain": [
       "array([[ 4.7437227 ],\n",
       "       [-3.82576882],\n",
       "       [ 3.62580562],\n",
       "       [-3.61460635],\n",
       "       [-3.70232401]])"
      ]
     },
     "execution_count": 64,
     "metadata": {},
     "output_type": "execute_result"
    }
   ],
   "source": [
    "H_new_matrix[0].value"
   ]
  },
  {
   "cell_type": "code",
   "execution_count": 65,
   "metadata": {},
   "outputs": [
    {
     "data": {
      "text/plain": [
       "array([[-5.93561219, -1.08038319,  0.        ,  0.        ,  0.        ,\n",
       "         0.        ],\n",
       "       [-1.9119281 , -0.08047383,  1.11738659,  0.        ,  0.        ,\n",
       "         0.        ],\n",
       "       [-0.58898475,  0.1363148 ,  0.39207966,  1.19125979,  0.        ,\n",
       "         0.        ],\n",
       "       [-1.73244794, -0.59149607,  0.1890501 ,  0.33072153,  1.25506537,\n",
       "         0.        ],\n",
       "       [-0.20867743,  0.16470423,  0.12464392,  0.18822815,  0.19265105,\n",
       "         1.31720235]])"
      ]
     },
     "execution_count": 65,
     "metadata": {},
     "output_type": "execute_result"
    }
   ],
   "source": [
    "H_cal_dec.value"
   ]
  },
  {
   "cell_type": "code",
   "execution_count": 66,
   "metadata": {},
   "outputs": [
    {
     "data": {
      "text/plain": [
       "array([[417.51649692]])"
      ]
     },
     "execution_count": 66,
     "metadata": {},
     "output_type": "execute_result"
    }
   ],
   "source": [
    "np.trace(Cx_tilde.T @ Jx @ Cx_tilde) + mu_w.T @ Cx_tilde.T @ Jx @ Cx_tilde @mu_w"
   ]
  },
  {
   "cell_type": "code",
   "execution_count": 67,
   "metadata": {},
   "outputs": [
    {
     "data": {
      "text/plain": [
       "array([[592.87065391]])"
      ]
     },
     "execution_count": 67,
     "metadata": {},
     "output_type": "execute_result"
    }
   ],
   "source": [
    "np.trace(((Cx_tilde+Bx @ H.value).T @ Jx @ (Cx_tilde+Bx @ H.value) + H.value.T @ Ju @ H.value)@ M_w) + mu_w.T @ ((Cx_tilde+Bx @ H.value).T @ Jx @ (Cx_tilde+Bx @ H.value) + H.value.T @ Ju @ H.value) @ mu_w"
   ]
  },
  {
   "cell_type": "code",
   "execution_count": 68,
   "metadata": {},
   "outputs": [
    {
     "data": {
      "text/plain": [
       "array([[-3.77404553, -3.77539416, -3.77379445, -3.77452227, -3.77618742,\n",
       "        -3.77575165],\n",
       "       [-3.96683896, -3.96660195, -3.96512532, -3.96797446, -3.96552026,\n",
       "        -3.96703811],\n",
       "       [-3.96305567, -3.96357396, -3.96331422, -3.9631617 , -3.96201525,\n",
       "        -3.96307926],\n",
       "       [-3.96183137, -3.96359372, -3.96297211, -3.96261544, -3.96067413,\n",
       "        -3.95787695],\n",
       "       [-3.95703494, -3.96031726, -3.95729321, -3.95591896, -3.95922169,\n",
       "        -3.95341205]])"
      ]
     },
     "execution_count": 68,
     "metadata": {},
     "output_type": "execute_result"
    }
   ],
   "source": [
    "H.value @ W_sample_matrix_ext"
   ]
  },
  {
   "cell_type": "code",
   "execution_count": 69,
   "metadata": {},
   "outputs": [
    {
     "data": {
      "text/plain": [
       "array([[-2.        ],\n",
       "       [ 0.        ],\n",
       "       [-1.99874173],\n",
       "       [ 0.00973942],\n",
       "       [-1.99834288],\n",
       "       [ 0.00971693],\n",
       "       [-1.9955996 ],\n",
       "       [ 0.00982624],\n",
       "       [-1.99559957],\n",
       "       [ 0.00973675],\n",
       "       [-1.99807165],\n",
       "       [ 0.00986635]])"
      ]
     },
     "execution_count": 69,
     "metadata": {},
     "output_type": "execute_result"
    }
   ],
   "source": [
    "Ax @ x_init +  Bx @ H.value @ W_sample_matrix_ext[:,0:1]  + Cx @ W_sample_matrix[:,0:1]"
   ]
  },
  {
   "cell_type": "code",
   "execution_count": 70,
   "metadata": {},
   "outputs": [
    {
     "data": {
      "text/plain": [
       "array([[0.001, 0.   ],\n",
       "       [0.   , 0.   ]])"
      ]
     },
     "execution_count": 70,
     "metadata": {},
     "output_type": "execute_result"
    }
   ],
   "source": [
    "Ck"
   ]
  },
  {
   "cell_type": "code",
   "execution_count": 71,
   "metadata": {},
   "outputs": [
    {
     "data": {
      "text/plain": [
       "-5.935612185683641"
      ]
     },
     "execution_count": 71,
     "metadata": {},
     "output_type": "execute_result"
    }
   ],
   "source": [
    "H_cal_dec.value[0,0]"
   ]
  },
  {
   "cell_type": "code",
   "execution_count": 72,
   "metadata": {},
   "outputs": [
    {
     "data": {
      "text/plain": [
       "-1.0803831921394405"
      ]
     },
     "execution_count": 72,
     "metadata": {},
     "output_type": "execute_result"
    }
   ],
   "source": [
    "H_cal_dec.value[0,1]"
   ]
  },
  {
   "cell_type": "code",
   "execution_count": 73,
   "metadata": {},
   "outputs": [
    {
     "name": "stdout",
     "output_type": "stream",
     "text": [
      "[[-2]\n",
      " [ 0]] [[-3.77292636]]\n",
      "[[-2.0001691 ]\n",
      " [ 0.01052563]] [[-3.77287302]]\n",
      "[[-1.99923509]\n",
      " [ 0.01955567]] [[-3.77721304]]\n",
      "[[-1.99725465]\n",
      " [ 0.02699928]] [[-3.77981866]]\n",
      "[[-1.99402946]\n",
      " [ 0.033068  ]] [[-3.7810564]]\n",
      "[[-1.98775094]\n",
      " [ 0.03790759]] [[-3.78654828]]\n",
      "[[-1.98325843]\n",
      " [ 0.04121453]] [[-3.79252512]]\n",
      "[[-1.97856981]\n",
      " [ 0.04335235]] [[-3.79758181]]\n",
      "[[-1.97556546]\n",
      " [ 0.04451366]] [[-3.79944181]]\n",
      "[[-1.97108413]\n",
      " [ 0.04514322]] [[-3.80632545]]\n",
      "[[-1.96671943]\n",
      " [ 0.04494771]] [[-3.81084413]]\n",
      "[[-1.96154972]\n",
      " [ 0.04416622]] [[-3.81837807]]\n",
      "[[-1.95606906]\n",
      " [ 0.04266862]] [[-3.82175064]]\n",
      "[[-1.95161377]\n",
      " [ 0.04072199]] [[-3.82762724]]\n",
      "[[-1.9460891 ]\n",
      " [ 0.03836987]] [[-3.83529218]]\n",
      "[[-1.94288432]\n",
      " [ 0.03548855]] [[-3.83536897]]\n",
      "[[-1.94057729]\n",
      " [ 0.03272095]] [[-3.83654731]]\n",
      "[[-1.93793834]\n",
      " [ 0.03008287]] [[-3.84050775]]\n",
      "[[-1.93501378]\n",
      " [ 0.02739596]] [[-3.84456598]]\n",
      "[[-1.93309459]\n",
      " [ 0.02463623]] [[-3.84597837]]\n",
      "[[-1.93198985]\n",
      " [ 0.02203   ]] [[-3.84656843]]\n",
      "[[-1.92959479]\n",
      " [ 0.01966882]] [[-3.85253037]]\n",
      "[[-1.92591555]\n",
      " [ 0.01714882]] [[-3.85373383]]\n",
      "[[-1.92482359]\n",
      " [ 0.01459436]] [[-3.85673764]]\n",
      "[[-1.92205367]\n",
      " [ 0.0121668 ]] [[-3.85893265]]\n",
      "[[-1.92111186]\n",
      " [ 0.00972982]] [[-3.85979663]]\n",
      "[[-1.92099737]\n",
      " [ 0.00751596]] [[-3.85884526]]\n",
      "[[-1.92086801]\n",
      " [ 0.00565397]] [[-3.86014189]]\n",
      "[[-1.91994742]\n",
      " [ 0.00398767]] [[-3.86268556]]\n",
      "[[-1.91984827]\n",
      " [ 0.00235775]] [[-3.86060381]]\n",
      "[[-1.91978811e+00]\n",
      " [ 1.04954984e-03]] [[-3.86304358]]\n",
      "[[-1.91988526e+00]\n",
      " [-1.89183331e-04]] [[-3.86025349]]\n",
      "[[-1.91895915e+00]\n",
      " [-1.11143116e-03]] [[-3.86386279]]\n",
      "[[-1.91844196]\n",
      " [-0.00215421]] [[-3.86237479]]\n",
      "[[-1.91917881]\n",
      " [-0.00302599]] [[-3.86223366]]\n",
      "[[-1.92109931]\n",
      " [-0.00369754]] [[-3.86061618]]\n",
      "[[-1.92135639]\n",
      " [-0.00401949]] [[-3.85898031]]\n",
      "[[-1.92233869]\n",
      " [-0.00419548]] [[-3.85736134]]\n",
      "[[-1.92315248]\n",
      " [-0.00418005]] [[-3.85984504]]\n",
      "[[-1.92271892]\n",
      " [-0.00420652]] [[-3.85824988]]\n",
      "[[-1.92378889]\n",
      " [-0.00419544]] [[-3.85651257]]\n",
      "[[-1.92555571]\n",
      " [-0.00400623]] [[-3.85358832]]\n",
      "[[-1.92821055]\n",
      " [-0.00354489]] [[-3.85398793]]\n",
      "[[-1.93009424]\n",
      " [-0.00292229]] [[-3.85005909]]\n",
      "[[-1.92974986]\n",
      " [-0.00203249]] [[-3.85026847]]\n",
      "[[-1.92922730e+00]\n",
      " [-1.31228735e-03]] [[-3.85203843]]\n",
      "[[-1.92710782e+00]\n",
      " [-8.26149226e-04]] [[-3.85288613]]\n",
      "[[-1.92824379e+00]\n",
      " [-6.45708558e-04]] [[-3.8517632]]\n",
      "[[-1.92826407e+00]\n",
      " [-3.33854889e-04]] [[-3.85185565]]\n",
      "[[-1.92728287e+00]\n",
      " [-6.92555035e-05]] [[-3.8536986]]\n",
      "[[-1.92755648e+00]\n",
      " [-1.91001500e-05]] [[-3.8517758]]\n",
      "[[-1.92743379e+00]\n",
      " [ 1.38334777e-04]] [[-3.85286438]]\n",
      "[[-1.92834172e+00]\n",
      " [ 2.11295124e-04]] [[-3.85036463]]\n",
      "[[-1.92837436e+00]\n",
      " [ 4.73805736e-04]] [[-3.85545963]]\n",
      "[[-1.92785890e+00]\n",
      " [ 4.65418704e-04]] [[-3.85372447]]\n",
      "[[-1.92707061e+00]\n",
      " [ 4.90882154e-04]] [[-3.8529102]]\n",
      "[[-1.92747225e+00]\n",
      " [ 4.77347894e-04]] [[-3.85300527]]\n",
      "[[-1.92683704e+00]\n",
      " [ 4.98588134e-04]] [[-3.85461817]]\n",
      "[[-1.92588093e+00]\n",
      " [ 3.83121942e-04]] [[-3.85402993]]\n",
      "[[-1.92383279e+00]\n",
      " [ 2.22890280e-04]] [[-3.85695256]]\n",
      "[[-1.92386938e+00]\n",
      " [-2.39647844e-04]] [[-3.85555456]]\n",
      "[[-1.92351165e+00]\n",
      " [-5.67471781e-04]] [[-3.8567638]]\n",
      "[[-1.92289074e+00]\n",
      " [-9.37366026e-04]] [[-3.85587591]]\n",
      "[[-1.92277975e+00]\n",
      " [-1.27046944e-03]] [[-3.85754324]]\n",
      "[[-1.92254497e+00]\n",
      " [-1.64324316e-03]] [[-3.85880425]]\n",
      "[[-1.92275462]\n",
      " [-0.00204262]] [[-3.85569732]]\n",
      "[[-1.92370238]\n",
      " [-0.00222112]] [[-3.85806768]]\n",
      "[[-1.92364429]\n",
      " [-0.00239595]] [[-3.85724026]]\n",
      "[[-1.92351388]\n",
      " [-0.00251267]] [[-3.85838646]]\n",
      "[[-1.92396623]\n",
      " [-0.00267782]] [[-3.85646587]]\n",
      "[[-1.92451001]\n",
      " [-0.00268826]] [[-3.85828711]]\n",
      "[[-1.92524988]\n",
      " [-0.00273121]] [[-3.85436863]]\n",
      "[[-1.92534548]\n",
      " [-0.00251775]] [[-3.85497861]]\n",
      "[[-1.9244605 ]\n",
      " [-0.00235441]] [[-3.85604586]]\n",
      "[[-1.92548735]\n",
      " [-0.00234607]] [[-3.85475583]]\n",
      "[[-1.92724664]\n",
      " [-0.00218394]] [[-3.85369958]]\n",
      "[[-1.92731023e+00]\n",
      " [-1.83306399e-03]] [[-3.85232495]]\n",
      "[[-1.92799514e+00]\n",
      " [-1.46303648e-03]] [[-3.85296489]]\n",
      "[[-1.92886422e+00]\n",
      " [-1.11239263e-03]] [[-3.8513713]]\n",
      "[[-1.92880884e+00]\n",
      " [-6.57738675e-04]] [[-3.85021626]]\n",
      "[[-1.92926966e+00]\n",
      " [-2.20065005e-04]] [[-3.85041722]]\n",
      "[[-1.92807411e+00]\n",
      " [ 1.88070082e-04]] [[-3.85188725]]\n",
      "[[-1.92733989e+00]\n",
      " [ 3.58532837e-04]] [[-3.85363766]]\n",
      "[[-1.92719495e+00]\n",
      " [ 3.55276361e-04]] [[-3.85463659]]\n",
      "[[-1.92819622e+00]\n",
      " [ 2.92747573e-04]] [[-3.85231155]]\n",
      "[[-1.92797376e+00]\n",
      " [ 4.39808856e-04]] [[-3.8525743]]\n",
      "[[-1.92584339e+00]\n",
      " [ 5.32918158e-04]] [[-3.85578441]]\n",
      "[[-1.92448181e+00]\n",
      " [ 2.66337637e-04]] [[-3.85582067]]\n",
      "[[-1.92342671e+00]\n",
      " [-8.98133920e-05]] [[-3.85657024]]\n",
      "[[-1.92474218e+00]\n",
      " [-5.27303912e-04]] [[-3.85487946]]\n",
      "[[-1.92386659e+00]\n",
      " [-7.01550867e-04]] [[-3.85734178]]\n",
      "[[-1.92384682e+00]\n",
      " [-1.04604855e-03]] [[-3.85740974]]\n",
      "[[-1.92234441e+00]\n",
      " [-1.34598538e-03]] [[-3.85998867]]\n",
      "[[-1.92200073e+00]\n",
      " [-1.86161167e-03]] [[-3.85805369]]\n",
      "[[-1.92345903]\n",
      " [-0.00224525]] [[-3.85916368]]\n",
      "[[-1.92464054]\n",
      " [-0.00248998]] [[-3.85611578]]\n",
      "[[-1.92787391]\n",
      " [-0.00244869]] [[-3.85200787]]\n",
      "[[-1.92704690e+00]\n",
      " [-1.92317233e-03]] [[-3.85289031]]\n",
      "[[-1.92643773e+00]\n",
      " [-1.59080442e-03]] [[-3.85396925]]\n",
      "[[-1.92537705e+00]\n",
      " [-1.41272365e-03]] [[-3.85532952]]\n"
     ]
    }
   ],
   "source": [
    "N_sim = 100\n",
    "\n",
    "\n",
    "t0 = 0\n",
    "\n",
    "xk = x_init\n",
    "uk = 0\n",
    "t = t0\n",
    "h = delta_t\n",
    "\n",
    "\n",
    "\n",
    "x_list = []\n",
    "x_list += [xk.flatten().tolist()]\n",
    "u_list = []\n",
    "for i in range(N_sim):\n",
    "    wk = np.random.randn(d,1)\n",
    "    uk = H_cal_dec.value[0,0] + H_cal_dec.value[0,1] * (D @ xk + E @ wk)\n",
    "    u_list +=  uk.flatten().tolist() \n",
    "    print(xk,uk)\n",
    "    x_kp1 = RK4_np(mass_string_ode, xk, uk, t, h)\n",
    "    x_list += x_kp1.flatten().tolist()\n",
    "    xk = x_kp1\n",
    "    xk += Ck @ wk\n",
    "\n",
    "\n",
    "\n"
   ]
  },
  {
   "cell_type": "code",
   "execution_count": null,
   "metadata": {},
   "outputs": [],
   "source": []
  }
 ],
 "metadata": {
  "kernelspec": {
   "display_name": "Python 3",
   "language": "python",
   "name": "python3"
  },
  "language_info": {
   "codemirror_mode": {
    "name": "ipython",
    "version": 3
   },
   "file_extension": ".py",
   "mimetype": "text/x-python",
   "name": "python",
   "nbconvert_exporter": "python",
   "pygments_lexer": "ipython3",
   "version": "3.7.7"
  }
 },
 "nbformat": 4,
 "nbformat_minor": 4
}
